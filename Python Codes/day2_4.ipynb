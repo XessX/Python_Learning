{
 "cells": [
  {
   "cell_type": "code",
   "execution_count": 3,
   "id": "78cfc49f-4e24-4023-84ee-5785f7f5886a",
   "metadata": {},
   "outputs": [
    {
     "name": "stdout",
     "output_type": "stream",
     "text": [
      "0\n",
      "1\n",
      "2\n",
      "3\n",
      "4\n",
      "5\n",
      "6\n",
      "7\n",
      "8\n",
      "9\n",
      "10\n"
     ]
    }
   ],
   "source": [
    "#While loop\n",
    "i = 0\n",
    "while (i<=10):\n",
    "    print(i)\n",
    "    i+=1"
   ]
  },
  {
   "cell_type": "code",
   "execution_count": 5,
   "id": "9e0a7f00-7182-47ea-b800-21eddf1a3573",
   "metadata": {},
   "outputs": [
    {
     "name": "stdout",
     "output_type": "stream",
     "text": [
      "0 Data\n",
      "2 Data\n",
      "4 Data\n",
      "6 Data\n",
      "8 Data\n",
      "10 Data\n"
     ]
    }
   ],
   "source": [
    "i = 0\n",
    "while (i<=10):\n",
    "    print(i,'Data')\n",
    "    i+=2"
   ]
  },
  {
   "cell_type": "code",
   "execution_count": 6,
   "id": "95d0b5a8-e8d6-4da7-857a-68f173d138fe",
   "metadata": {},
   "outputs": [
    {
     "data": {
      "text/plain": [
       "'p'"
      ]
     },
     "execution_count": 6,
     "metadata": {},
     "output_type": "execute_result"
    }
   ],
   "source": [
    "data = 'python'\n",
    "data[0]"
   ]
  },
  {
   "cell_type": "code",
   "execution_count": 2,
   "id": "5fa78b4f-3769-44dd-9765-55fac8dcca49",
   "metadata": {},
   "outputs": [
    {
     "name": "stdout",
     "output_type": "stream",
     "text": [
      "i\n",
      " \n",
      "l\n",
      "o\n",
      "v\n",
      "e\n",
      " \n",
      "d\n",
      "a\n",
      "t\n",
      "a\n",
      " \n",
      "s\n",
      "c\n",
      "i\n",
      "e\n",
      "n\n",
      "c\n",
      "e\n",
      " \n",
      "s\n",
      "o\n",
      " \n",
      "m\n",
      "u\n",
      "c\n",
      "h\n"
     ]
    }
   ],
   "source": [
    "data= 'i love data science so much'\n",
    "\n",
    "\n",
    "index = 0\n",
    "while index<len(data):\n",
    "    print(data[index])\n",
    "    index=index+1"
   ]
  },
  {
   "cell_type": "code",
   "execution_count": 3,
   "id": "973b7cf0-cd19-459e-b0b1-e827171c8dfb",
   "metadata": {},
   "outputs": [
    {
     "name": "stdout",
     "output_type": "stream",
     "text": [
      "i\n",
      "love\n",
      "data\n",
      "science\n",
      "so\n",
      "much\n"
     ]
    }
   ],
   "source": [
    "data= 'i love data science so much'\n",
    "data= data.split()\n",
    "\n",
    "index = 0\n",
    "while index<len(data):\n",
    "    print(data[index])\n",
    "    index=index+1"
   ]
  },
  {
   "cell_type": "code",
   "execution_count": 4,
   "id": "6a39aaf1-1ef7-40f9-9245-6ea927453d61",
   "metadata": {},
   "outputs": [
    {
     "data": {
      "text/plain": [
       "'much'"
      ]
     },
     "execution_count": 4,
     "metadata": {},
     "output_type": "execute_result"
    }
   ],
   "source": [
    "data[-1]"
   ]
  },
  {
   "cell_type": "code",
   "execution_count": 11,
   "id": "aeeb4f00-fec3-4dbb-94eb-980662cd2980",
   "metadata": {},
   "outputs": [
    {
     "name": "stdout",
     "output_type": "stream",
     "text": [
      "0 2\n",
      "1 5\n",
      "2 9\n",
      "3 64\n",
      "4 130\n",
      "5 207\n",
      "6 307\n",
      "307\n"
     ]
    }
   ],
   "source": [
    "n = [2,3,4,55,66,77,100]\n",
    "total = 0\n",
    "index = 0\n",
    "while(index < len(n)):\n",
    "    total = total + n[index]\n",
    "    print(index,total)\n",
    "    index += 1\n",
    "print(total)"
   ]
  },
  {
   "cell_type": "code",
   "execution_count": 1,
   "id": "e7d44646-eb83-4e09-9a86-36ab06a9b2ed",
   "metadata": {},
   "outputs": [
    {
     "name": "stdout",
     "output_type": "stream",
     "text": [
      "-100\n",
      "-99\n",
      "-98\n",
      "-97\n",
      "-96\n",
      "-95\n",
      "-94\n",
      "-93\n",
      "-92\n",
      "-91\n",
      "-90\n",
      "-89\n",
      "-88\n",
      "-87\n",
      "-86\n",
      "-85\n",
      "-84\n",
      "-83\n",
      "-82\n",
      "-81\n",
      "-80\n",
      "-79\n",
      "-78\n",
      "-77\n",
      "-76\n",
      "-75\n",
      "-74\n",
      "-73\n",
      "-72\n",
      "-71\n",
      "-70\n",
      "-69\n",
      "-68\n",
      "-67\n",
      "-66\n",
      "-65\n",
      "-64\n",
      "-63\n",
      "-62\n",
      "-61\n",
      "-60\n",
      "-59\n",
      "-58\n",
      "-57\n",
      "-56\n",
      "-55\n",
      "-54\n",
      "-53\n",
      "-52\n",
      "-51\n",
      "-50\n",
      "-49\n",
      "-48\n",
      "-47\n",
      "-46\n",
      "-45\n",
      "-44\n",
      "-43\n",
      "-42\n",
      "-41\n",
      "-40\n",
      "-39\n",
      "-38\n",
      "-37\n",
      "-36\n",
      "-35\n",
      "-34\n",
      "-33\n",
      "-32\n",
      "-31\n",
      "-30\n",
      "-29\n",
      "-28\n",
      "-27\n",
      "-26\n",
      "-25\n",
      "-24\n",
      "-23\n",
      "-22\n",
      "-21\n",
      "-20\n",
      "-19\n",
      "-18\n",
      "-17\n",
      "-16\n",
      "-15\n",
      "-14\n",
      "-13\n",
      "-12\n",
      "-11\n",
      "-10\n"
     ]
    }
   ],
   "source": [
    "#assignment\n",
    "i = -100\n",
    "while(i <= -10):\n",
    "    print(i)\n",
    "    i += 1"
   ]
  },
  {
   "cell_type": "code",
   "execution_count": 19,
   "id": "f5d43e6e-dcee-4bf3-92d0-f49c2e1dc439",
   "metadata": {},
   "outputs": [
    {
     "name": "stdout",
     "output_type": "stream",
     "text": [
      "11\n",
      "13\n",
      "17\n",
      "19\n",
      "23\n",
      "29\n",
      "31\n",
      "37\n",
      "41\n",
      "43\n",
      "47\n",
      "53\n",
      "59\n",
      "61\n",
      "67\n",
      "71\n",
      "73\n",
      "79\n",
      "83\n",
      "89\n",
      "97\n",
      "101\n",
      "103\n",
      "107\n",
      "109\n",
      "113\n",
      "127\n",
      "131\n",
      "137\n",
      "139\n",
      "149\n",
      "151\n",
      "157\n",
      "163\n",
      "167\n",
      "173\n",
      "179\n",
      "181\n",
      "191\n",
      "193\n",
      "197\n",
      "199\n",
      "211\n",
      "223\n",
      "227\n",
      "229\n",
      "233\n",
      "239\n",
      "241\n",
      "251\n",
      "257\n",
      "263\n",
      "269\n",
      "271\n",
      "277\n",
      "281\n",
      "283\n",
      "293\n",
      "307\n",
      "311\n",
      "313\n",
      "317\n",
      "331\n",
      "337\n",
      "347\n",
      "349\n",
      "353\n",
      "359\n",
      "367\n",
      "373\n",
      "379\n",
      "383\n",
      "389\n",
      "397\n",
      "401\n",
      "409\n",
      "419\n",
      "421\n",
      "431\n",
      "433\n",
      "439\n",
      "443\n",
      "449\n",
      "457\n",
      "461\n",
      "463\n",
      "467\n",
      "479\n",
      "487\n",
      "491\n",
      "499\n",
      "503\n",
      "509\n",
      "521\n",
      "523\n",
      "541\n",
      "547\n",
      "557\n",
      "563\n",
      "569\n",
      "571\n",
      "577\n",
      "587\n",
      "593\n",
      "599\n",
      "601\n",
      "607\n",
      "613\n",
      "617\n",
      "619\n",
      "631\n",
      "641\n",
      "643\n",
      "647\n",
      "653\n",
      "659\n",
      "661\n",
      "673\n",
      "677\n",
      "683\n",
      "691\n",
      "701\n",
      "709\n",
      "719\n",
      "727\n",
      "733\n",
      "739\n",
      "743\n",
      "751\n",
      "757\n",
      "761\n",
      "769\n",
      "773\n",
      "787\n",
      "797\n",
      "809\n",
      "811\n",
      "821\n",
      "823\n",
      "827\n",
      "829\n",
      "839\n",
      "853\n",
      "857\n",
      "859\n",
      "863\n",
      "877\n",
      "881\n",
      "883\n",
      "887\n",
      "907\n",
      "911\n",
      "919\n",
      "929\n",
      "937\n",
      "941\n",
      "947\n",
      "953\n",
      "967\n",
      "971\n",
      "977\n",
      "983\n",
      "991\n",
      "997\n",
      "76110\n"
     ]
    }
   ],
   "source": [
    "i = 10\n",
    "sum = 0\n",
    "\n",
    "while i < 1000:\n",
    "    j = 2\n",
    "    while j < i:\n",
    "        if i % j ==0:\n",
    "            break\n",
    "        j += 1\n",
    "    else:\n",
    "        sum = sum + i\n",
    "        print(i)\n",
    "    i += 1\n",
    "\n",
    "print(sum)"
   ]
  },
  {
   "cell_type": "code",
   "execution_count": 20,
   "id": "9b7edbff-d578-4734-99d5-2a48aaee05ff",
   "metadata": {},
   "outputs": [
    {
     "name": "stdin",
     "output_type": "stream",
     "text": [
      "enter your number:  5\n"
     ]
    },
    {
     "name": "stdout",
     "output_type": "stream",
     "text": [
      "the factorial of this number is: 120\n"
     ]
    }
   ],
   "source": [
    "n=int(input('enter your number: '))\n",
    "fact=1\n",
    "while n>0:\n",
    "    fact=fact*n\n",
    "    n=n-1\n",
    "print('the factorial of this number is:',fact)"
   ]
  },
  {
   "cell_type": "code",
   "execution_count": 23,
   "id": "edb1448b-7944-4aa2-8344-bc4b6156e4e3",
   "metadata": {},
   "outputs": [
    {
     "name": "stdout",
     "output_type": "stream",
     "text": [
      "Reversed number is: 1704265972\n"
     ]
    }
   ],
   "source": [
    "number = 27956240710\n",
    "reversed_number = 0\n",
    "\n",
    "while number > 0:\n",
    "    remainder = number % 10\n",
    "    reversed_number = (reversed_number * 10) + remainder\n",
    "    number = number // 10\n",
    "\n",
    "print(\"Reversed number is:\", reversed_number)"
   ]
  },
  {
   "cell_type": "code",
   "execution_count": null,
   "id": "46bfa7b9-abf7-4ec5-a8ea-797042238ef7",
   "metadata": {},
   "outputs": [],
   "source": []
  }
 ],
 "metadata": {
  "kernelspec": {
   "display_name": "Python 3 (ipykernel)",
   "language": "python",
   "name": "python3"
  },
  "language_info": {
   "codemirror_mode": {
    "name": "ipython",
    "version": 3
   },
   "file_extension": ".py",
   "mimetype": "text/x-python",
   "name": "python",
   "nbconvert_exporter": "python",
   "pygments_lexer": "ipython3",
   "version": "3.12.4"
  }
 },
 "nbformat": 4,
 "nbformat_minor": 5
}
