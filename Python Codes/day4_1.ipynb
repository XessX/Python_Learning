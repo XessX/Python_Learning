{
 "cells": [
  {
   "cell_type": "code",
   "execution_count": 9,
   "id": "62163f9c-c78b-451c-8ade-b86cc2ba1644",
   "metadata": {},
   "outputs": [],
   "source": [
    "#dict\n",
    "dict = {\n",
    "    'name' : 'Jubair',\n",
    "    'uni'  : 'McMaster',\n",
    "}"
   ]
  },
  {
   "cell_type": "code",
   "execution_count": 10,
   "id": "69bc8983-621a-48ee-b946-989db9365f25",
   "metadata": {},
   "outputs": [
    {
     "data": {
      "text/plain": [
       "{'name': 'Jubair', 'uni': 'McMaster'}"
      ]
     },
     "execution_count": 10,
     "metadata": {},
     "output_type": "execute_result"
    }
   ],
   "source": [
    "dict"
   ]
  },
  {
   "cell_type": "code",
   "execution_count": 11,
   "id": "a51bf692-b473-47ec-aa46-0269882fa372",
   "metadata": {},
   "outputs": [
    {
     "data": {
      "text/plain": [
       "dict_keys(['name', 'uni'])"
      ]
     },
     "execution_count": 11,
     "metadata": {},
     "output_type": "execute_result"
    }
   ],
   "source": [
    "dict.keys()"
   ]
  },
  {
   "cell_type": "code",
   "execution_count": 12,
   "id": "d842754c-4ead-4b7b-98b3-d2c46fe4b281",
   "metadata": {},
   "outputs": [
    {
     "data": {
      "text/plain": [
       "dict_values(['Jubair', 'McMaster'])"
      ]
     },
     "execution_count": 12,
     "metadata": {},
     "output_type": "execute_result"
    }
   ],
   "source": [
    "dict.values()"
   ]
  },
  {
   "cell_type": "code",
   "execution_count": 7,
   "id": "df36ab10-2ac4-47b7-b82d-16f8a6676898",
   "metadata": {},
   "outputs": [],
   "source": [
    "#copy\n",
    "dict2 = dict.copy()"
   ]
  },
  {
   "cell_type": "code",
   "execution_count": 8,
   "id": "2eaffd95-38ba-4e50-a162-f0b45cf566f5",
   "metadata": {},
   "outputs": [
    {
     "data": {
      "text/plain": [
       "{'name': 'Jubair', 'Uni': 'McMaster'}"
      ]
     },
     "execution_count": 8,
     "metadata": {},
     "output_type": "execute_result"
    }
   ],
   "source": [
    "dict2"
   ]
  },
  {
   "cell_type": "code",
   "execution_count": 13,
   "id": "0e27f091-e58e-460f-87c2-6d10abcaf834",
   "metadata": {},
   "outputs": [],
   "source": [
    "dict['uni'] = 'AIUB'"
   ]
  },
  {
   "cell_type": "code",
   "execution_count": 17,
   "id": "59b6b39c-bab1-42ad-93b9-1861ff67dce9",
   "metadata": {},
   "outputs": [
    {
     "data": {
      "text/plain": [
       "{'name': 'Jubair', 'Uni': 'McMaster'}"
      ]
     },
     "execution_count": 17,
     "metadata": {},
     "output_type": "execute_result"
    }
   ],
   "source": [
    "dict2"
   ]
  },
  {
   "cell_type": "code",
   "execution_count": 18,
   "id": "74147ffc-7aad-4bb0-8987-3a8cbff2e1d4",
   "metadata": {},
   "outputs": [
    {
     "data": {
      "text/plain": [
       "{'name': 'Jubair', 'uni': 'AIUB'}"
      ]
     },
     "execution_count": 18,
     "metadata": {},
     "output_type": "execute_result"
    }
   ],
   "source": [
    "dict"
   ]
  },
  {
   "cell_type": "code",
   "execution_count": 19,
   "id": "9f035897-920d-4ccd-8bc9-49e6f286c8ec",
   "metadata": {},
   "outputs": [],
   "source": [
    "dict['dept'] = 'Data Science'"
   ]
  },
  {
   "cell_type": "code",
   "execution_count": 20,
   "id": "d7b9bbac-cbfb-4ab2-80be-5d4df554377a",
   "metadata": {},
   "outputs": [
    {
     "data": {
      "text/plain": [
       "{'name': 'Jubair', 'uni': 'AIUB', 'dept': 'Data Science'}"
      ]
     },
     "execution_count": 20,
     "metadata": {},
     "output_type": "execute_result"
    }
   ],
   "source": [
    "dict"
   ]
  },
  {
   "cell_type": "code",
   "execution_count": 21,
   "id": "d278b1a3-9e1d-4ae4-aac6-54cdd66ef961",
   "metadata": {},
   "outputs": [],
   "source": [
    "dict.update({'dept' : 'ai'})"
   ]
  },
  {
   "cell_type": "code",
   "execution_count": 22,
   "id": "d256bcfd-b5b5-4a6a-aff5-4e1f1d6afeaf",
   "metadata": {},
   "outputs": [
    {
     "data": {
      "text/plain": [
       "{'name': 'Jubair', 'uni': 'AIUB', 'dept': 'ai'}"
      ]
     },
     "execution_count": 22,
     "metadata": {},
     "output_type": "execute_result"
    }
   ],
   "source": [
    "dict"
   ]
  },
  {
   "cell_type": "code",
   "execution_count": 23,
   "id": "d294d9f0-8386-4b89-a90b-fc4425dc1d7f",
   "metadata": {},
   "outputs": [
    {
     "data": {
      "text/plain": [
       "('dept', 'ai')"
      ]
     },
     "execution_count": 23,
     "metadata": {},
     "output_type": "execute_result"
    }
   ],
   "source": [
    "dict.popitem()"
   ]
  },
  {
   "cell_type": "code",
   "execution_count": 24,
   "id": "792b31d0-0ffc-43d7-8db1-6325dcb67a75",
   "metadata": {},
   "outputs": [
    {
     "data": {
      "text/plain": [
       "{'name': 'Jubair', 'uni': 'AIUB'}"
      ]
     },
     "execution_count": 24,
     "metadata": {},
     "output_type": "execute_result"
    }
   ],
   "source": [
    "dict"
   ]
  },
  {
   "cell_type": "code",
   "execution_count": 25,
   "id": "9bb8e068-ade4-4156-818f-1ddffc7da19c",
   "metadata": {},
   "outputs": [
    {
     "data": {
      "text/plain": [
       "'AIUB'"
      ]
     },
     "execution_count": 25,
     "metadata": {},
     "output_type": "execute_result"
    }
   ],
   "source": [
    "dict.pop('uni')"
   ]
  },
  {
   "cell_type": "code",
   "execution_count": 26,
   "id": "6d4b9969-03f6-416d-a1db-0b56742e4df5",
   "metadata": {},
   "outputs": [
    {
     "data": {
      "text/plain": [
       "{'name': 'Jubair'}"
      ]
     },
     "execution_count": 26,
     "metadata": {},
     "output_type": "execute_result"
    }
   ],
   "source": [
    "dict"
   ]
  },
  {
   "cell_type": "code",
   "execution_count": 27,
   "id": "86507e60-c901-4529-a4ca-05c04e7ad8d4",
   "metadata": {},
   "outputs": [],
   "source": [
    "dict['dept'] = 'Data Science'"
   ]
  },
  {
   "cell_type": "code",
   "execution_count": 28,
   "id": "73ff97c8-aa1f-4152-8b87-9ea27e53d2a6",
   "metadata": {},
   "outputs": [
    {
     "data": {
      "text/plain": [
       "{'name': 'Jubair', 'dept': 'Data Science'}"
      ]
     },
     "execution_count": 28,
     "metadata": {},
     "output_type": "execute_result"
    }
   ],
   "source": [
    "dict"
   ]
  },
  {
   "cell_type": "code",
   "execution_count": 29,
   "id": "bccacf28-c59e-4074-950e-ef6e6d4bdac8",
   "metadata": {},
   "outputs": [],
   "source": [
    "del dict['name']"
   ]
  },
  {
   "cell_type": "code",
   "execution_count": 30,
   "id": "4922d591-3f78-4fba-ae3a-9e900ccdb24c",
   "metadata": {},
   "outputs": [
    {
     "data": {
      "text/plain": [
       "{'dept': 'Data Science'}"
      ]
     },
     "execution_count": 30,
     "metadata": {},
     "output_type": "execute_result"
    }
   ],
   "source": [
    "dict"
   ]
  },
  {
   "cell_type": "code",
   "execution_count": 34,
   "id": "6c73c47f-00e0-4550-9ef6-6b4a9a018853",
   "metadata": {},
   "outputs": [],
   "source": [
    "dict['dept2'] = 'ai'"
   ]
  },
  {
   "cell_type": "code",
   "execution_count": 35,
   "id": "bded137b-9e3e-4a6b-80ee-7b934bc7dc4e",
   "metadata": {},
   "outputs": [
    {
     "name": "stdout",
     "output_type": "stream",
     "text": [
      "Data Science\n",
      "ai\n"
     ]
    }
   ],
   "source": [
    "#print all items\n",
    "for x in dict:\n",
    "    print(dict[x])"
   ]
  },
  {
   "cell_type": "code",
   "execution_count": 36,
   "id": "3b1029fd-58ee-432c-98a4-e557a9de06c1",
   "metadata": {},
   "outputs": [
    {
     "name": "stdout",
     "output_type": "stream",
     "text": [
      "dept\n",
      "dept2\n"
     ]
    }
   ],
   "source": [
    "for x in dict:\n",
    "    print(x)"
   ]
  },
  {
   "cell_type": "code",
   "execution_count": 37,
   "id": "8bb0604a-2541-412c-86b4-93ea47ec18c0",
   "metadata": {},
   "outputs": [],
   "source": [
    "d2 = list(dict.keys())"
   ]
  },
  {
   "cell_type": "code",
   "execution_count": 38,
   "id": "b4362603-0928-44e0-bf9d-bea8653db39e",
   "metadata": {},
   "outputs": [
    {
     "data": {
      "text/plain": [
       "['dept', 'dept2']"
      ]
     },
     "execution_count": 38,
     "metadata": {},
     "output_type": "execute_result"
    }
   ],
   "source": [
    "d2"
   ]
  },
  {
   "cell_type": "code",
   "execution_count": 39,
   "id": "6cfaca6c-ace3-40eb-a9e1-a27422d6c8f9",
   "metadata": {},
   "outputs": [],
   "source": [
    "d3 = list(dict.values())"
   ]
  },
  {
   "cell_type": "code",
   "execution_count": 40,
   "id": "eec8a0b4-585f-4dd8-a1cb-7c56424362c5",
   "metadata": {},
   "outputs": [
    {
     "data": {
      "text/plain": [
       "['Data Science', 'ai']"
      ]
     },
     "execution_count": 40,
     "metadata": {},
     "output_type": "execute_result"
    }
   ],
   "source": [
    "d3"
   ]
  },
  {
   "cell_type": "code",
   "execution_count": 42,
   "id": "d2dd42d5-9987-4159-bb7d-9e8e2d8e9796",
   "metadata": {},
   "outputs": [
    {
     "name": "stdin",
     "output_type": "stream",
     "text": [
      " 3\n",
      " name\n",
      " Jubair\n",
      " dept\n",
      " CompSci\n",
      " dept2\n",
      " ML\n"
     ]
    },
    {
     "name": "stdout",
     "output_type": "stream",
     "text": [
      "{'name': 'Jubair', 'dept': 'CompSci', 'dept2': 'ML'}\n"
     ]
    }
   ],
   "source": [
    "#dict from user input\n",
    "n = int(input())\n",
    "d = {}\n",
    "\n",
    "for i in range(n):\n",
    "    key = input()\n",
    "    value = input()\n",
    "    d[key] = value\n",
    "print(d)"
   ]
  },
  {
   "cell_type": "code",
   "execution_count": 43,
   "id": "5827f401-65a0-4561-8da4-967240e14b26",
   "metadata": {},
   "outputs": [
    {
     "data": {
      "text/plain": [
       "{'name': 'Jubair', 'dept': 'CompSci', 'dept2': 'ML'}"
      ]
     },
     "execution_count": 43,
     "metadata": {},
     "output_type": "execute_result"
    }
   ],
   "source": [
    "d"
   ]
  },
  {
   "cell_type": "code",
   "execution_count": null,
   "id": "46de7aa2-e475-4605-8205-37a404c75efc",
   "metadata": {},
   "outputs": [],
   "source": []
  }
 ],
 "metadata": {
  "kernelspec": {
   "display_name": "Python 3 (ipykernel)",
   "language": "python",
   "name": "python3"
  },
  "language_info": {
   "codemirror_mode": {
    "name": "ipython",
    "version": 3
   },
   "file_extension": ".py",
   "mimetype": "text/x-python",
   "name": "python",
   "nbconvert_exporter": "python",
   "pygments_lexer": "ipython3",
   "version": "3.12.4"
  }
 },
 "nbformat": 4,
 "nbformat_minor": 5
}
