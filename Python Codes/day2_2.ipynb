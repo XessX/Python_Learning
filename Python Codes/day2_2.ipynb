{
 "cells": [
  {
   "cell_type": "code",
   "execution_count": 31,
   "id": "c155798f-17e0-4260-910b-92fe91bb810e",
   "metadata": {},
   "outputs": [
    {
     "name": "stdout",
     "output_type": "stream",
     "text": [
      "y is greater than x\n",
      "data science\n"
     ]
    }
   ],
   "source": [
    "# conditionals\n",
    "\n",
    "x = 50\n",
    "y = 100\n",
    "\n",
    "if x>y:\n",
    "    print('x is greater than y')\n",
    "if y>x:\n",
    "    print('y is greater than x')\n",
    "    print('data science')\n",
    "else:\n",
    "    print('Out')"
   ]
  },
  {
   "cell_type": "code",
   "execution_count": 32,
   "id": "e259b52f-1dba-41fe-8c30-85ca297aec2a",
   "metadata": {},
   "outputs": [
    {
     "name": "stdout",
     "output_type": "stream",
     "text": [
      "y is greater than x\n",
      "data science\n"
     ]
    }
   ],
   "source": [
    "x = 50\n",
    "y = 100\n",
    "\n",
    "if x>y:\n",
    "    print('x is greater than y')\n",
    "if y>x:\n",
    "    print('y is greater than x')\n",
    "    print('data science')\n",
    "    if x == y:\n",
    "        print('not equal')\n",
    "else:\n",
    "    print('Out')"
   ]
  },
  {
   "cell_type": "code",
   "execution_count": 33,
   "id": "c4c83bac-9790-4696-85a4-482dd569a085",
   "metadata": {},
   "outputs": [
    {
     "data": {
      "text/plain": [
       "1"
      ]
     },
     "execution_count": 33,
     "metadata": {},
     "output_type": "execute_result"
    }
   ],
   "source": [
    "10%3"
   ]
  },
  {
   "cell_type": "code",
   "execution_count": 37,
   "id": "af589494-8b2a-4cd3-a2ae-58f2e05b4296",
   "metadata": {},
   "outputs": [
    {
     "name": "stdin",
     "output_type": "stream",
     "text": [
      "Enter any number:  10\n"
     ]
    },
    {
     "name": "stdout",
     "output_type": "stream",
     "text": [
      "10.0 Divisible by 5 and 2\n"
     ]
    }
   ],
   "source": [
    "num = float(input('Enter any number: '))\n",
    "\n",
    "if num % 2 == 0:\n",
    "    if num % 5 ==0:\n",
    "        print(num,'Divisible by 5 and 2')\n",
    "    else:\n",
    "        print('No')\n",
    "else:\n",
    "    print('No 2')"
   ]
  },
  {
   "cell_type": "code",
   "execution_count": 41,
   "id": "264f2493-ede5-4e66-ada2-08c1dc310379",
   "metadata": {},
   "outputs": [],
   "source": [
    "#from IPython.display import image\n",
    "#Image('electricity.png')"
   ]
  },
  {
   "cell_type": "code",
   "execution_count": 44,
   "id": "d49990a9-53ad-4a11-afde-3417e42e91b0",
   "metadata": {},
   "outputs": [
    {
     "name": "stdin",
     "output_type": "stream",
     "text": [
      "Enter your unit value:  350\n"
     ]
    },
    {
     "name": "stdout",
     "output_type": "stream",
     "text": [
      "amount is 2000.0\n"
     ]
    }
   ],
   "source": [
    "amount = 0\n",
    "\n",
    "net_units = float(input('Enter your unit value: '))\n",
    "\n",
    "if net_units <= 100:\n",
    "    amount = 0\n",
    "    print('amount is',amount)\n",
    "elif net_units > 100 and net_units <=200:\n",
    "    amount = (net_units - 100) * 5\n",
    "    print('amount is', amount)\n",
    "elif net_units > 200:\n",
    "    amount = (net_units - 200) * 10 + 500\n",
    "    print('amount is' ,amount)"
   ]
  },
  {
   "cell_type": "code",
   "execution_count": 28,
   "id": "e310437e-4189-4404-91e9-45c464652908",
   "metadata": {},
   "outputs": [
    {
     "name": "stdin",
     "output_type": "stream",
     "text": [
      "length & breadth of a rectangle:  10\n",
      "breadth of a rectangle:  5\n"
     ]
    },
    {
     "name": "stdout",
     "output_type": "stream",
     "text": [
      "It is rectangle\n"
     ]
    }
   ],
   "source": [
    "#conditional op assignments\n",
    "x = int(input('length & breadth of a rectangle: '))\n",
    "y = int(input('breadth of a rectangle: '))\n",
    "\n",
    "if x == y:\n",
    "    print('It is square')\n",
    "else:\n",
    "    print('It is rectangle')"
   ]
  },
  {
   "cell_type": "code",
   "execution_count": 12,
   "id": "d2192180-4edc-4491-ace3-d4fa76dfcb22",
   "metadata": {},
   "outputs": [
    {
     "name": "stdin",
     "output_type": "stream",
     "text": [
      "Value 1:  10\n",
      "Value 2  5\n",
      "Value 3  5\n"
     ]
    },
    {
     "name": "stdout",
     "output_type": "stream",
     "text": [
      "x is greatest\n"
     ]
    }
   ],
   "source": [
    "x = int(input('Value 1: '))\n",
    "y = int(input('Value 2 '))\n",
    "z = int(input('Value 3 '))\n",
    "\n",
    "if x > y and x > z:\n",
    "    print('x is greatest')\n",
    "elif y > x and y > z:\n",
    "    print('y is greatest')\n",
    "else:\n",
    "    print('z is greatest')"
   ]
  },
  {
   "cell_type": "code",
   "execution_count": 54,
   "id": "f6fd9f94-015f-4f89-8316-871c01c82f6b",
   "metadata": {},
   "outputs": [
    {
     "name": "stdin",
     "output_type": "stream",
     "text": [
      "Classes held:  20\n",
      "attended:  14\n"
     ]
    },
    {
     "name": "stdout",
     "output_type": "stream",
     "text": [
      "can not sit for the exam\n"
     ]
    }
   ],
   "source": [
    "held = float(input('Classes held: '))\n",
    "stdat = float(input('attended: '))\n",
    "att = (stdat/held)*100\n",
    "if att >= 75:\n",
    "    print('can sit for the exam')\n",
    "else:\n",
    "    print('can not sit for the exam')"
   ]
  },
  {
   "cell_type": "code",
   "execution_count": 25,
   "id": "3b8929ff-adcd-4cd9-b0d2-b3ddb30bd168",
   "metadata": {},
   "outputs": [
    {
     "name": "stdin",
     "output_type": "stream",
     "text": [
      "marks:  90\n"
     ]
    },
    {
     "name": "stdout",
     "output_type": "stream",
     "text": [
      "A+\n"
     ]
    }
   ],
   "source": [
    "marks = int(input('marks: '))\n",
    "if marks < 25:\n",
    "    print('F')\n",
    "elif 25 >= marks <= 44:\n",
    "    print('E')\n",
    "elif 45 >= marks <= 49:\n",
    "    print('D')\n",
    "elif 50 >= marks <= 59:\n",
    "    print('C')\n",
    "elif 60 >= marks <= 79:\n",
    "    print('B')\n",
    "elif 80 >= marks <= 99:\n",
    "    print('A')\n",
    "else:\n",
    "    print('A+')"
   ]
  },
  {
   "cell_type": "code",
   "execution_count": null,
   "id": "b06666b6-a4f9-44a8-8959-5bf18be6ca77",
   "metadata": {},
   "outputs": [],
   "source": []
  },
  {
   "cell_type": "code",
   "execution_count": null,
   "id": "38705747-c1aa-4526-9511-2616a1c5a4ec",
   "metadata": {},
   "outputs": [],
   "source": []
  }
 ],
 "metadata": {
  "kernelspec": {
   "display_name": "Python 3 (ipykernel)",
   "language": "python",
   "name": "python3"
  },
  "language_info": {
   "codemirror_mode": {
    "name": "ipython",
    "version": 3
   },
   "file_extension": ".py",
   "mimetype": "text/x-python",
   "name": "python",
   "nbconvert_exporter": "python",
   "pygments_lexer": "ipython3",
   "version": "3.12.4"
  }
 },
 "nbformat": 4,
 "nbformat_minor": 5
}
