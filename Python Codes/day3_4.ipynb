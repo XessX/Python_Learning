{
 "cells": [
  {
   "cell_type": "code",
   "execution_count": 1,
   "id": "19de220c-8e7a-4cca-8bc7-6a6e4bfdc697",
   "metadata": {},
   "outputs": [],
   "source": [
    "#array\n",
    "import array as ar"
   ]
  },
  {
   "cell_type": "code",
   "execution_count": 3,
   "id": "a2a17e36-a715-4247-b962-4a367c7c3921",
   "metadata": {},
   "outputs": [],
   "source": [
    "ar1 =  ar.array('i',[1,2,3,5,10])"
   ]
  },
  {
   "cell_type": "code",
   "execution_count": 4,
   "id": "f3eef2f5-5b7c-48b1-96f4-b96a7f4af7d2",
   "metadata": {},
   "outputs": [],
   "source": [
    "ar1 =  ar.array('f',[1,2,3,5,10.5])"
   ]
  },
  {
   "cell_type": "code",
   "execution_count": 5,
   "id": "831458cb-d0a4-4c06-9a70-743f3abf01ed",
   "metadata": {},
   "outputs": [
    {
     "data": {
      "text/plain": [
       "1.0"
      ]
     },
     "execution_count": 5,
     "metadata": {},
     "output_type": "execute_result"
    }
   ],
   "source": [
    "ar1[0]"
   ]
  },
  {
   "cell_type": "code",
   "execution_count": 6,
   "id": "3346cc28-9704-403b-aab3-dee442be0256",
   "metadata": {},
   "outputs": [],
   "source": [
    "ar1[0] = 15"
   ]
  },
  {
   "cell_type": "code",
   "execution_count": 7,
   "id": "83873c75-8ed5-4fd9-b9ff-803e61c8e9fc",
   "metadata": {},
   "outputs": [
    {
     "data": {
      "text/plain": [
       "array('f', [15.0, 2.0, 3.0, 5.0, 10.5])"
      ]
     },
     "execution_count": 7,
     "metadata": {},
     "output_type": "execute_result"
    }
   ],
   "source": [
    "ar1"
   ]
  },
  {
   "cell_type": "code",
   "execution_count": 9,
   "id": "ca744f75-d039-42a9-804a-a9d8aa953007",
   "metadata": {},
   "outputs": [
    {
     "data": {
      "text/plain": [
       "array('f', [3.0, 5.0])"
      ]
     },
     "execution_count": 9,
     "metadata": {},
     "output_type": "execute_result"
    }
   ],
   "source": [
    "ar1[2:4]"
   ]
  },
  {
   "cell_type": "code",
   "execution_count": 10,
   "id": "a63c6a3b-dd3a-4b04-85cd-3f254ba5ed25",
   "metadata": {},
   "outputs": [],
   "source": [
    "ar1.append(8)"
   ]
  },
  {
   "cell_type": "code",
   "execution_count": 11,
   "id": "1bf04dba-4b40-45d7-b077-2626236a679f",
   "metadata": {},
   "outputs": [
    {
     "data": {
      "text/plain": [
       "array('f', [15.0, 2.0, 3.0, 5.0, 10.5, 8.0])"
      ]
     },
     "execution_count": 11,
     "metadata": {},
     "output_type": "execute_result"
    }
   ],
   "source": [
    "ar1"
   ]
  },
  {
   "cell_type": "code",
   "execution_count": 12,
   "id": "33819283-db54-40b4-be3f-d2ffe4dd102f",
   "metadata": {},
   "outputs": [],
   "source": [
    "del ar1[-1]"
   ]
  },
  {
   "cell_type": "code",
   "execution_count": 13,
   "id": "bbdc5b6e-aa76-4870-b026-0b3a4adc9fb0",
   "metadata": {},
   "outputs": [
    {
     "data": {
      "text/plain": [
       "array('f', [15.0, 2.0, 3.0, 5.0, 10.5])"
      ]
     },
     "execution_count": 13,
     "metadata": {},
     "output_type": "execute_result"
    }
   ],
   "source": [
    "ar1"
   ]
  },
  {
   "cell_type": "code",
   "execution_count": 14,
   "id": "2a977305-4315-420e-8b32-bfb482859c87",
   "metadata": {},
   "outputs": [
    {
     "data": {
      "text/plain": [
       "5"
      ]
     },
     "execution_count": 14,
     "metadata": {},
     "output_type": "execute_result"
    }
   ],
   "source": [
    "len(ar1)"
   ]
  },
  {
   "cell_type": "code",
   "execution_count": 15,
   "id": "0d5b1698-3217-4099-858d-a93f2bfd9520",
   "metadata": {},
   "outputs": [],
   "source": [
    "ar1.reverse()"
   ]
  },
  {
   "cell_type": "code",
   "execution_count": 16,
   "id": "39c9442e-ad60-48d4-923e-4060acd5550a",
   "metadata": {},
   "outputs": [
    {
     "data": {
      "text/plain": [
       "array('f', [10.5, 5.0, 3.0, 2.0, 15.0])"
      ]
     },
     "execution_count": 16,
     "metadata": {},
     "output_type": "execute_result"
    }
   ],
   "source": [
    "ar1"
   ]
  },
  {
   "cell_type": "code",
   "execution_count": 18,
   "id": "9ea1484d-a692-4b8d-82a2-c932150f7fc3",
   "metadata": {},
   "outputs": [
    {
     "data": {
      "text/plain": [
       "1"
      ]
     },
     "execution_count": 18,
     "metadata": {},
     "output_type": "execute_result"
    }
   ],
   "source": [
    "ar1.count(5)"
   ]
  },
  {
   "cell_type": "code",
   "execution_count": 19,
   "id": "dbc6e69c-2bda-4d05-930a-ddf7336c0845",
   "metadata": {},
   "outputs": [
    {
     "data": {
      "text/plain": [
       "0"
      ]
     },
     "execution_count": 19,
     "metadata": {},
     "output_type": "execute_result"
    }
   ],
   "source": [
    "ar1.index(10.5)"
   ]
  },
  {
   "cell_type": "code",
   "execution_count": 20,
   "id": "b761c6ee-7786-4616-ac26-6a4f8d667339",
   "metadata": {},
   "outputs": [
    {
     "data": {
      "text/plain": [
       "2.0"
      ]
     },
     "execution_count": 20,
     "metadata": {},
     "output_type": "execute_result"
    }
   ],
   "source": [
    "ar1.pop(3) #index num"
   ]
  },
  {
   "cell_type": "code",
   "execution_count": 21,
   "id": "213d2bdb-10bf-4a00-adde-7693a2e2d92d",
   "metadata": {},
   "outputs": [
    {
     "data": {
      "text/plain": [
       "array('f', [10.5, 5.0, 3.0, 15.0])"
      ]
     },
     "execution_count": 21,
     "metadata": {},
     "output_type": "execute_result"
    }
   ],
   "source": [
    "ar1"
   ]
  },
  {
   "cell_type": "code",
   "execution_count": 22,
   "id": "d0a45f1a-cccf-426e-8aec-b11a3ccdde8e",
   "metadata": {},
   "outputs": [],
   "source": [
    "ar1.remove(3)"
   ]
  },
  {
   "cell_type": "code",
   "execution_count": 23,
   "id": "b5e1abc4-3895-4536-ae9c-8672bff3e715",
   "metadata": {},
   "outputs": [
    {
     "data": {
      "text/plain": [
       "array('f', [10.5, 5.0, 15.0])"
      ]
     },
     "execution_count": 23,
     "metadata": {},
     "output_type": "execute_result"
    }
   ],
   "source": [
    "ar1"
   ]
  },
  {
   "cell_type": "code",
   "execution_count": 25,
   "id": "0468a6f1-9f7e-42cb-90be-584909ad042f",
   "metadata": {},
   "outputs": [
    {
     "name": "stdin",
     "output_type": "stream",
     "text": [
      " 5\n",
      " 1\n"
     ]
    },
    {
     "name": "stdout",
     "output_type": "stream",
     "text": [
      "1\n"
     ]
    },
    {
     "name": "stdin",
     "output_type": "stream",
     "text": [
      " 2\n"
     ]
    },
    {
     "name": "stdout",
     "output_type": "stream",
     "text": [
      "2\n"
     ]
    },
    {
     "name": "stdin",
     "output_type": "stream",
     "text": [
      " 1\n"
     ]
    },
    {
     "name": "stdout",
     "output_type": "stream",
     "text": [
      "1\n"
     ]
    },
    {
     "name": "stdin",
     "output_type": "stream",
     "text": [
      " 1\n"
     ]
    },
    {
     "name": "stdout",
     "output_type": "stream",
     "text": [
      "1\n"
     ]
    },
    {
     "name": "stdin",
     "output_type": "stream",
     "text": [
      " 1\n"
     ]
    },
    {
     "name": "stdout",
     "output_type": "stream",
     "text": [
      "1\n"
     ]
    }
   ],
   "source": [
    "r = ar.array('i', [])\n",
    "\n",
    "items = int(input())\n",
    "for i in range(items):\n",
    "    val = int(input())\n",
    "    r.append(val)\n",
    "    print(val)"
   ]
  },
  {
   "cell_type": "code",
   "execution_count": 28,
   "id": "0017a246-291a-45c0-99d6-86289e7e6b12",
   "metadata": {},
   "outputs": [
    {
     "name": "stdin",
     "output_type": "stream",
     "text": [
      " 3\n",
      " 1\n",
      " 2\n",
      " 3\n"
     ]
    },
    {
     "name": "stdout",
     "output_type": "stream",
     "text": [
      "array('i', [1, 2, 3])\n"
     ]
    }
   ],
   "source": [
    "r = ar.array('i', [])\n",
    "\n",
    "items = int(input())\n",
    "for i in range(items):\n",
    "    val = int(input())\n",
    "    r.append(val)\n",
    "print(r)"
   ]
  },
  {
   "cell_type": "code",
   "execution_count": null,
   "id": "05f250a7-ae9d-4f61-8ddd-d95d9ec7e4cc",
   "metadata": {},
   "outputs": [],
   "source": []
  }
 ],
 "metadata": {
  "kernelspec": {
   "display_name": "Python 3 (ipykernel)",
   "language": "python",
   "name": "python3"
  },
  "language_info": {
   "codemirror_mode": {
    "name": "ipython",
    "version": 3
   },
   "file_extension": ".py",
   "mimetype": "text/x-python",
   "name": "python",
   "nbconvert_exporter": "python",
   "pygments_lexer": "ipython3",
   "version": "3.12.4"
  }
 },
 "nbformat": 4,
 "nbformat_minor": 5
}
