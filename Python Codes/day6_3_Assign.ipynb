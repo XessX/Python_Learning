{
 "cells": [
  {
   "cell_type": "code",
   "execution_count": 2,
   "id": "a1e462b4-b831-4eef-a360-184edb4174ea",
   "metadata": {},
   "outputs": [
    {
     "data": {
      "text/plain": [
       "40"
      ]
     },
     "execution_count": 2,
     "metadata": {},
     "output_type": "execute_result"
    }
   ],
   "source": [
    "#param & Arg\n",
    "#positional_arg\n",
    "def add_num(x,y):\n",
    "    result = x + y\n",
    "    return result\n",
    "add_num(10, 30)"
   ]
  },
  {
   "cell_type": "code",
   "execution_count": 3,
   "id": "49e0975d-fd20-41b8-8d4e-6c6a83dc203a",
   "metadata": {},
   "outputs": [
    {
     "name": "stdout",
     "output_type": "stream",
     "text": [
      "10\n"
     ]
    }
   ],
   "source": [
    "def add_num(x,y):\n",
    "    print(x)\n",
    "add_num(10, 30)"
   ]
  },
  {
   "cell_type": "code",
   "execution_count": 6,
   "id": "04180d8a-d865-4e1b-8027-299ac4bfbbe6",
   "metadata": {},
   "outputs": [
    {
     "name": "stdout",
     "output_type": "stream",
     "text": [
      "data scientist\n",
      "200000\n"
     ]
    }
   ],
   "source": [
    "#keyword arg\n",
    "def personal(job, income):\n",
    "    print(job)\n",
    "    print(income)\n",
    "personal(job = 'data scientist', income = 200000)"
   ]
  },
  {
   "cell_type": "code",
   "execution_count": 7,
   "id": "8f2b1738-ef15-46e1-a7e9-a56cb17b66c5",
   "metadata": {},
   "outputs": [
    {
     "name": "stdout",
     "output_type": "stream",
     "text": [
      "data scientist\n",
      "10000\n"
     ]
    }
   ],
   "source": [
    "#default arg\n",
    "def personal(job, income = 10000):\n",
    "    print(job)\n",
    "    print(income)\n",
    "personal(job = 'data scientist')"
   ]
  },
  {
   "cell_type": "code",
   "execution_count": 11,
   "id": "5814cbb5-2cc7-48d0-bf61-1cd8ed320858",
   "metadata": {},
   "outputs": [
    {
     "name": "stdout",
     "output_type": "stream",
     "text": [
      "(10, 30, 10, 1000, 4000)\n"
     ]
    },
    {
     "data": {
      "text/plain": [
       "5050"
      ]
     },
     "execution_count": 11,
     "metadata": {},
     "output_type": "execute_result"
    }
   ],
   "source": [
    "#variable length arg\n",
    "def add_num(*x):\n",
    "    print(x)\n",
    "    result = sum(x)\n",
    "    return result\n",
    "add_num(10, 30, 10, 1000, 4000)"
   ]
  },
  {
   "cell_type": "code",
   "execution_count": 14,
   "id": "f42da485-fe81-421e-b677-8c9bc170508a",
   "metadata": {},
   "outputs": [
    {
     "name": "stdout",
     "output_type": "stream",
     "text": [
      "10\n",
      "(30, 10, 1000, 4000)\n"
     ]
    }
   ],
   "source": [
    "def add_num(x, *y):\n",
    "    print(x)\n",
    "    print(y)\n",
    "   #\n",
    "add_num(10, 30, 10, 1000, 4000)"
   ]
  },
  {
   "cell_type": "code",
   "execution_count": 15,
   "id": "683525a6-8c91-484f-9ad6-5ef8add515ca",
   "metadata": {},
   "outputs": [
    {
     "name": "stdout",
     "output_type": "stream",
     "text": [
      "Al Jubair\n",
      "{'uni': 'McMaster', 'city': 'Hamilton'}\n"
     ]
    }
   ],
   "source": [
    "def personal_data(name, **arg):\n",
    "    print(name)\n",
    "    print(arg)\n",
    "\n",
    "personal_data('Al Jubair', uni = 'McMaster', city = 'Hamilton')"
   ]
  },
  {
   "cell_type": "code",
   "execution_count": null,
   "id": "2aa45c0e-4d37-429c-85f6-aa2e620fc363",
   "metadata": {},
   "outputs": [],
   "source": []
  }
 ],
 "metadata": {
  "kernelspec": {
   "display_name": "Python 3 (ipykernel)",
   "language": "python",
   "name": "python3"
  },
  "language_info": {
   "codemirror_mode": {
    "name": "ipython",
    "version": 3
   },
   "file_extension": ".py",
   "mimetype": "text/x-python",
   "name": "python",
   "nbconvert_exporter": "python",
   "pygments_lexer": "ipython3",
   "version": "3.12.4"
  }
 },
 "nbformat": 4,
 "nbformat_minor": 5
}
