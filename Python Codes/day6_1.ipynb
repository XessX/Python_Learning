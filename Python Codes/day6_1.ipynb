{
 "cells": [
  {
   "cell_type": "code",
   "execution_count": 2,
   "id": "43a4f47f-a12a-45a1-b507-8af78c083476",
   "metadata": {},
   "outputs": [],
   "source": [
    "def fact(x):\n",
    "    result = 1\n",
    "\n",
    "    if x == 1 or x == 0:\n",
    "        print(f' The {x}! is = 1')\n",
    "\n",
    "    else:\n",
    "\n",
    "        for i in range(x):\n",
    "            result = result * (i + 1)\n",
    "\n",
    "        return result"
   ]
  },
  {
   "cell_type": "code",
   "execution_count": 3,
   "id": "47677159-ca8c-4df6-afa4-2da48a69f080",
   "metadata": {},
   "outputs": [
    {
     "name": "stdout",
     "output_type": "stream",
     "text": [
      " The 0! is = 1\n"
     ]
    }
   ],
   "source": [
    "fact(0)"
   ]
  },
  {
   "cell_type": "code",
   "execution_count": 4,
   "id": "02974e39-8416-4024-acd0-14f354771dd4",
   "metadata": {},
   "outputs": [
    {
     "name": "stdout",
     "output_type": "stream",
     "text": [
      " The 1! is = 1\n"
     ]
    }
   ],
   "source": [
    "fact(1)"
   ]
  },
  {
   "cell_type": "code",
   "execution_count": 5,
   "id": "d669f867-06d5-4311-89c0-b6a676516058",
   "metadata": {},
   "outputs": [],
   "source": [
    "#List manipulation\n",
    "\n",
    "def remove_duplicates(input_list):\n",
    "    unique_list = []\n",
    "\n",
    "    for item in input_list:\n",
    "        if item not in unique_list:\n",
    "            unique_list.append(item)\n",
    "\n",
    "    return unique_list"
   ]
  },
  {
   "cell_type": "code",
   "execution_count": 8,
   "id": "73f6df3f-93d6-4f5b-bbe7-6c7dd6fe5f38",
   "metadata": {},
   "outputs": [
    {
     "name": "stdout",
     "output_type": "stream",
     "text": [
      "Real list [1, 2, 3, 4, 2, 3, 2, 7, 8]\n",
      "Unique list [1, 2, 3, 4, 7, 8]\n"
     ]
    }
   ],
   "source": [
    "input_list = [1,2,3,4,2,3,2,7,8]\n",
    "remove_duplicates(input_list)\n",
    "\n",
    "print(f'Real list {input_list}')\n",
    "print(f'Unique list {remove_duplicates(input_list)}')"
   ]
  },
  {
   "cell_type": "code",
   "execution_count": 9,
   "id": "0b6e14cd-e112-48a4-93a9-76c784746a47",
   "metadata": {},
   "outputs": [
    {
     "data": {
      "text/plain": [
       "[2, 4, 6, 8, 4, 6, 4, 14, 16]"
      ]
     },
     "execution_count": 9,
     "metadata": {},
     "output_type": "execute_result"
    }
   ],
   "source": [
    "def double_elements(input_list):\n",
    "    double_list = [2*x for x in input_list]\n",
    "    return double_list\n",
    "input_list = [1,2,3,4,2,3,2,7,8]\n",
    "double_elements(input_list)"
   ]
  },
  {
   "cell_type": "code",
   "execution_count": null,
   "id": "798dad9a-f622-4a6d-9d84-ad9b7b2be7b4",
   "metadata": {},
   "outputs": [],
   "source": []
  }
 ],
 "metadata": {
  "kernelspec": {
   "display_name": "Python 3 (ipykernel)",
   "language": "python",
   "name": "python3"
  },
  "language_info": {
   "codemirror_mode": {
    "name": "ipython",
    "version": 3
   },
   "file_extension": ".py",
   "mimetype": "text/x-python",
   "name": "python",
   "nbconvert_exporter": "python",
   "pygments_lexer": "ipython3",
   "version": "3.12.4"
  }
 },
 "nbformat": 4,
 "nbformat_minor": 5
}
