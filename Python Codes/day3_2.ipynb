{
 "cells": [
  {
   "cell_type": "code",
   "execution_count": 1,
   "id": "493cb8ec-cf36-424a-b8e2-6d96a4e79860",
   "metadata": {},
   "outputs": [
    {
     "data": {
      "text/plain": [
       "['I', 'love', 'her']"
      ]
     },
     "execution_count": 1,
     "metadata": {},
     "output_type": "execute_result"
    }
   ],
   "source": [
    "data = 'I love her'\n",
    "[x for x in data.split()]"
   ]
  },
  {
   "cell_type": "code",
   "execution_count": 2,
   "id": "83f878a7-8f37-44aa-8529-00b432f11571",
   "metadata": {},
   "outputs": [
    {
     "data": {
      "text/plain": [
       "[0, 2, 4, 6, 8]"
      ]
     },
     "execution_count": 2,
     "metadata": {},
     "output_type": "execute_result"
    }
   ],
   "source": [
    "[x for x in range(10) if x % 2 ==0]"
   ]
  },
  {
   "cell_type": "code",
   "execution_count": 3,
   "id": "6e9a8662-b493-465d-accd-362dd646d9c2",
   "metadata": {},
   "outputs": [
    {
     "name": "stdout",
     "output_type": "stream",
     "text": [
      "[[0, 1, 2, 3, 4], [0, 1, 2, 3, 4], [0, 1, 2, 3, 4]]\n"
     ]
    }
   ],
   "source": [
    "matrix = [[j for j in range(5)] for i in range(3)]\n",
    "print(matrix)"
   ]
  },
  {
   "cell_type": "code",
   "execution_count": 5,
   "id": "2de026be-2b2f-4c75-841e-943bab292b75",
   "metadata": {},
   "outputs": [
    {
     "name": "stdout",
     "output_type": "stream",
     "text": [
      "[6, 4, 13, 7]\n"
     ]
    }
   ],
   "source": [
    "words = ['Python','List','Comprehension','Example']\n",
    "lengths = [len(word) for word in words]\n",
    "print(lengths)"
   ]
  },
  {
   "cell_type": "code",
   "execution_count": 6,
   "id": "d7b90772-056a-4dc7-a6c6-22cbc89ca783",
   "metadata": {},
   "outputs": [],
   "source": [
    "# tuple\n",
    "tup1 = ()"
   ]
  },
  {
   "cell_type": "code",
   "execution_count": 7,
   "id": "c5a3f45b-ed99-4c66-83e0-dcf17408eb68",
   "metadata": {},
   "outputs": [
    {
     "data": {
      "text/plain": [
       "tuple"
      ]
     },
     "execution_count": 7,
     "metadata": {},
     "output_type": "execute_result"
    }
   ],
   "source": [
    "type(tup1)"
   ]
  },
  {
   "cell_type": "code",
   "execution_count": 8,
   "id": "a7ba72b3-359e-4966-896e-d472d6d0e41f",
   "metadata": {},
   "outputs": [],
   "source": [
    "tup1 = ('ds', 'Al Jubair', 'AIUB', 1,2,3,4,6,[19,20, 100], True)"
   ]
  },
  {
   "cell_type": "code",
   "execution_count": 9,
   "id": "5e027e51-f044-45c3-b8c3-2f978d35d927",
   "metadata": {},
   "outputs": [
    {
     "data": {
      "text/plain": [
       "('ds', 'Al Jubair', 'AIUB', 1, 2, 3, 4, 6, [19, 20, 100], True)"
      ]
     },
     "execution_count": 9,
     "metadata": {},
     "output_type": "execute_result"
    }
   ],
   "source": [
    "tup1"
   ]
  },
  {
   "cell_type": "code",
   "execution_count": 10,
   "id": "4901b93e-dd73-4280-99f5-73d30ca72ee3",
   "metadata": {},
   "outputs": [
    {
     "data": {
      "text/plain": [
       "'Al Jubair'"
      ]
     },
     "execution_count": 10,
     "metadata": {},
     "output_type": "execute_result"
    }
   ],
   "source": [
    "tup1[1]"
   ]
  },
  {
   "cell_type": "code",
   "execution_count": 12,
   "id": "3d543bcf-8cb7-475a-a2e5-a6dde609acc0",
   "metadata": {},
   "outputs": [
    {
     "data": {
      "text/plain": [
       "True"
      ]
     },
     "execution_count": 12,
     "metadata": {},
     "output_type": "execute_result"
    }
   ],
   "source": [
    "tup1[-1]"
   ]
  },
  {
   "cell_type": "code",
   "execution_count": 13,
   "id": "562755ae-0a95-4241-9db0-355758671d06",
   "metadata": {},
   "outputs": [
    {
     "data": {
      "text/plain": [
       "('AIUB', 1, 2, 3)"
      ]
     },
     "execution_count": 13,
     "metadata": {},
     "output_type": "execute_result"
    }
   ],
   "source": [
    "tup1[2:6]"
   ]
  },
  {
   "cell_type": "code",
   "execution_count": 14,
   "id": "6f0f6862-24f2-4d21-bbad-a29a03774c5f",
   "metadata": {},
   "outputs": [],
   "source": [
    "tup2 = ['Al Jubair']"
   ]
  },
  {
   "cell_type": "code",
   "execution_count": 15,
   "id": "ee8cd77d-f6f8-47ec-8a6b-9659fc3be1ac",
   "metadata": {},
   "outputs": [
    {
     "data": {
      "text/plain": [
       "['Al Jubair']"
      ]
     },
     "execution_count": 15,
     "metadata": {},
     "output_type": "execute_result"
    }
   ],
   "source": [
    "tup2"
   ]
  },
  {
   "cell_type": "code",
   "execution_count": 17,
   "id": "799a8a6d-33ce-4d0d-9beb-6d074dde0c8c",
   "metadata": {},
   "outputs": [
    {
     "data": {
      "text/plain": [
       "list"
      ]
     },
     "execution_count": 17,
     "metadata": {},
     "output_type": "execute_result"
    }
   ],
   "source": [
    "type(tup2)"
   ]
  },
  {
   "cell_type": "code",
   "execution_count": 18,
   "id": "5f049694-5f4b-486d-b1d6-6492960243f7",
   "metadata": {},
   "outputs": [],
   "source": [
    "tup2 = ('Al Jubair')"
   ]
  },
  {
   "cell_type": "code",
   "execution_count": 19,
   "id": "64093091-8694-41ba-bb16-7a69503ae09b",
   "metadata": {},
   "outputs": [
    {
     "data": {
      "text/plain": [
       "'Al Jubair'"
      ]
     },
     "execution_count": 19,
     "metadata": {},
     "output_type": "execute_result"
    }
   ],
   "source": [
    "tup2"
   ]
  },
  {
   "cell_type": "code",
   "execution_count": 20,
   "id": "9faa02e5-5977-4f62-8d96-3eb0ae5ec5dd",
   "metadata": {},
   "outputs": [
    {
     "data": {
      "text/plain": [
       "str"
      ]
     },
     "execution_count": 20,
     "metadata": {},
     "output_type": "execute_result"
    }
   ],
   "source": [
    "type(tup2)"
   ]
  },
  {
   "cell_type": "code",
   "execution_count": 21,
   "id": "9dcabb3b-f3ee-42bf-b390-2395934c4ec5",
   "metadata": {},
   "outputs": [],
   "source": [
    "tup2 = ('Al Jubair',)"
   ]
  },
  {
   "cell_type": "code",
   "execution_count": 22,
   "id": "3676f0f5-bb00-44a7-b6a1-7c238caa334a",
   "metadata": {},
   "outputs": [
    {
     "data": {
      "text/plain": [
       "tuple"
      ]
     },
     "execution_count": 22,
     "metadata": {},
     "output_type": "execute_result"
    }
   ],
   "source": [
    "type(tup2)"
   ]
  },
  {
   "cell_type": "code",
   "execution_count": 23,
   "id": "9954320f-b2b4-423f-8a82-3fec59955b50",
   "metadata": {},
   "outputs": [
    {
     "data": {
      "text/plain": [
       "'Al Jubair'"
      ]
     },
     "execution_count": 23,
     "metadata": {},
     "output_type": "execute_result"
    }
   ],
   "source": [
    "tup2[0]"
   ]
  },
  {
   "cell_type": "code",
   "execution_count": 24,
   "id": "72d85a2b-cc47-41a6-ae85-489ade33647f",
   "metadata": {},
   "outputs": [],
   "source": [
    "#tuple to list\n",
    "l = list(tup2)"
   ]
  },
  {
   "cell_type": "code",
   "execution_count": 25,
   "id": "af608e6c-08f0-467a-aebd-11b186139571",
   "metadata": {},
   "outputs": [
    {
     "data": {
      "text/plain": [
       "['Al Jubair']"
      ]
     },
     "execution_count": 25,
     "metadata": {},
     "output_type": "execute_result"
    }
   ],
   "source": [
    "l"
   ]
  },
  {
   "cell_type": "code",
   "execution_count": 27,
   "id": "75e73cdd-d683-4c2d-86f8-96b035a740a6",
   "metadata": {},
   "outputs": [
    {
     "data": {
      "text/plain": [
       "list"
      ]
     },
     "execution_count": 27,
     "metadata": {},
     "output_type": "execute_result"
    }
   ],
   "source": [
    "type(l)"
   ]
  },
  {
   "cell_type": "code",
   "execution_count": 28,
   "id": "61dce4b1-c734-462d-9f43-16dd7ec8c9c1",
   "metadata": {},
   "outputs": [],
   "source": [
    "l.append('AIUB')"
   ]
  },
  {
   "cell_type": "code",
   "execution_count": 29,
   "id": "8e4cb454-5f2a-4642-8082-d5fb657d56f5",
   "metadata": {},
   "outputs": [
    {
     "data": {
      "text/plain": [
       "['Al Jubair', 'AIUB']"
      ]
     },
     "execution_count": 29,
     "metadata": {},
     "output_type": "execute_result"
    }
   ],
   "source": [
    "l"
   ]
  },
  {
   "cell_type": "code",
   "execution_count": 30,
   "id": "cfc244a9-41a4-47f5-bf6f-d7bab263814f",
   "metadata": {},
   "outputs": [],
   "source": [
    "tup2 = tuple(l)"
   ]
  },
  {
   "cell_type": "code",
   "execution_count": 31,
   "id": "9ef59889-ac83-4370-a569-fc7080d44913",
   "metadata": {},
   "outputs": [
    {
     "data": {
      "text/plain": [
       "('Al Jubair', 'AIUB')"
      ]
     },
     "execution_count": 31,
     "metadata": {},
     "output_type": "execute_result"
    }
   ],
   "source": [
    "tup2"
   ]
  },
  {
   "cell_type": "code",
   "execution_count": 32,
   "id": "3daf8195-f535-4803-b2ac-26f9b17000a6",
   "metadata": {},
   "outputs": [
    {
     "data": {
      "text/plain": [
       "('ds', 'Al Jubair', 'AIUB', 1, 2, 3, 4, 6, [19, 20, 100], True)"
      ]
     },
     "execution_count": 32,
     "metadata": {},
     "output_type": "execute_result"
    }
   ],
   "source": [
    "tup1"
   ]
  },
  {
   "cell_type": "code",
   "execution_count": 33,
   "id": "4896fea6-d56c-435a-9023-57abfc605bf8",
   "metadata": {},
   "outputs": [
    {
     "data": {
      "text/plain": [
       "('ds', 'Al Jubair', 'AIUB', 1, 2, 3, 4, 6, [19, 20, 100], True)"
      ]
     },
     "execution_count": 33,
     "metadata": {},
     "output_type": "execute_result"
    }
   ],
   "source": [
    "tup1"
   ]
  },
  {
   "cell_type": "code",
   "execution_count": 34,
   "id": "46be853d-4523-4621-b0ef-bebaa3ef51c0",
   "metadata": {},
   "outputs": [],
   "source": [
    "tup1 = ('ds', 'Al Jubair', 'AIUB', 1, 2,2,2, 3, 4, 6, [19, 20, 100], True)\n"
   ]
  },
  {
   "cell_type": "code",
   "execution_count": 35,
   "id": "2fdc5513-8ff1-4c9c-81d4-cd4a5c67e57e",
   "metadata": {},
   "outputs": [
    {
     "data": {
      "text/plain": [
       "('ds', 'Al Jubair', 'AIUB', 1, 2, 2, 2, 3, 4, 6, [19, 20, 100], True)"
      ]
     },
     "execution_count": 35,
     "metadata": {},
     "output_type": "execute_result"
    }
   ],
   "source": [
    "tup1"
   ]
  },
  {
   "cell_type": "code",
   "execution_count": 36,
   "id": "c47bae17-28c1-4212-bd89-7bf5455719dc",
   "metadata": {},
   "outputs": [],
   "source": [
    "tup3 = tuple([1,2,3,3,4])"
   ]
  },
  {
   "cell_type": "code",
   "execution_count": 37,
   "id": "df97ff8f-f5d0-462d-b61e-d9a73122e1d2",
   "metadata": {},
   "outputs": [
    {
     "data": {
      "text/plain": [
       "(1, 2, 3, 3, 4)"
      ]
     },
     "execution_count": 37,
     "metadata": {},
     "output_type": "execute_result"
    }
   ],
   "source": [
    "tup3"
   ]
  },
  {
   "cell_type": "code",
   "execution_count": 40,
   "id": "a00d337c-3116-4366-a532-f885edc3be4c",
   "metadata": {},
   "outputs": [],
   "source": [
    "tup4 =  10,30,70,'al jubair'"
   ]
  },
  {
   "cell_type": "code",
   "execution_count": 41,
   "id": "3b27c789-ff93-42d8-b97d-e109c9aa5a1d",
   "metadata": {},
   "outputs": [
    {
     "data": {
      "text/plain": [
       "(10, 30, 70, 'al jubair')"
      ]
     },
     "execution_count": 41,
     "metadata": {},
     "output_type": "execute_result"
    }
   ],
   "source": [
    "tup4"
   ]
  },
  {
   "cell_type": "code",
   "execution_count": 42,
   "id": "d29b514e-9fe8-4543-8f1e-f351abd09a04",
   "metadata": {},
   "outputs": [],
   "source": [
    "tup4 = 'al jubair',"
   ]
  },
  {
   "cell_type": "code",
   "execution_count": 43,
   "id": "8edee55f-fa1e-4c77-b4af-0b5b135ff86c",
   "metadata": {},
   "outputs": [
    {
     "data": {
      "text/plain": [
       "(1, 2, 3, 3, 4, 'al jubair')"
      ]
     },
     "execution_count": 43,
     "metadata": {},
     "output_type": "execute_result"
    }
   ],
   "source": [
    "tup3+tup4"
   ]
  },
  {
   "cell_type": "code",
   "execution_count": 44,
   "id": "56a4431c-4642-4dd7-9e3d-6266cd02c5f1",
   "metadata": {},
   "outputs": [
    {
     "data": {
      "text/plain": [
       "(1, 2, 3, 3, 4)"
      ]
     },
     "execution_count": 44,
     "metadata": {},
     "output_type": "execute_result"
    }
   ],
   "source": [
    "tup3"
   ]
  },
  {
   "cell_type": "code",
   "execution_count": 45,
   "id": "b2c92c01-4022-4179-aa3c-b011b402b3e0",
   "metadata": {},
   "outputs": [
    {
     "data": {
      "text/plain": [
       "(1, 2, 3, 3, 4, 1, 2, 3, 3, 4)"
      ]
     },
     "execution_count": 45,
     "metadata": {},
     "output_type": "execute_result"
    }
   ],
   "source": [
    "tup3*2"
   ]
  },
  {
   "cell_type": "code",
   "execution_count": 46,
   "id": "c3fe3ae8-c5af-40da-923a-1fafee86088a",
   "metadata": {},
   "outputs": [
    {
     "data": {
      "text/plain": [
       "1"
      ]
     },
     "execution_count": 46,
     "metadata": {},
     "output_type": "execute_result"
    }
   ],
   "source": [
    "tup3.count(4)"
   ]
  },
  {
   "cell_type": "code",
   "execution_count": 47,
   "id": "9f409053-9571-4955-941f-a81a488e5c7c",
   "metadata": {},
   "outputs": [
    {
     "data": {
      "text/plain": [
       "4"
      ]
     },
     "execution_count": 47,
     "metadata": {},
     "output_type": "execute_result"
    }
   ],
   "source": [
    "tup3.index(4)"
   ]
  },
  {
   "cell_type": "code",
   "execution_count": 49,
   "id": "aff8b821-1585-4376-991a-8e9049b4d7d4",
   "metadata": {},
   "outputs": [
    {
     "data": {
      "text/plain": [
       "True"
      ]
     },
     "execution_count": 49,
     "metadata": {},
     "output_type": "execute_result"
    }
   ],
   "source": [
    "#membership\n",
    "'al jubair' in tup4"
   ]
  },
  {
   "cell_type": "code",
   "execution_count": 50,
   "id": "11976b88-e539-4111-aad0-a013f975021d",
   "metadata": {},
   "outputs": [
    {
     "data": {
      "text/plain": [
       "False"
      ]
     },
     "execution_count": 50,
     "metadata": {},
     "output_type": "execute_result"
    }
   ],
   "source": [
    "'researccher' in tup4"
   ]
  },
  {
   "cell_type": "code",
   "execution_count": 51,
   "id": "5eca3fc7-eb82-41f1-9b7c-af5286150a00",
   "metadata": {},
   "outputs": [
    {
     "data": {
      "text/plain": [
       "(1, 2, 3, 3, 4)"
      ]
     },
     "execution_count": 51,
     "metadata": {},
     "output_type": "execute_result"
    }
   ],
   "source": [
    "tup3"
   ]
  },
  {
   "cell_type": "code",
   "execution_count": null,
   "id": "3cccb9ec-5fc7-4d38-964c-4eedab6afaa8",
   "metadata": {},
   "outputs": [],
   "source": [
    "del tup3 # del full"
   ]
  },
  {
   "cell_type": "code",
   "execution_count": 52,
   "id": "80975286-544e-4e67-a3c8-f995ca4c4239",
   "metadata": {},
   "outputs": [
    {
     "ename": "TypeError",
     "evalue": "'tuple' object does not support item assignment",
     "output_type": "error",
     "traceback": [
      "\u001b[1;31m---------------------------------------------------------------------------\u001b[0m",
      "\u001b[1;31mTypeError\u001b[0m                                 Traceback (most recent call last)",
      "Cell \u001b[1;32mIn[52], line 1\u001b[0m\n\u001b[1;32m----> 1\u001b[0m tup4[\u001b[38;5;241m0\u001b[39m] \u001b[38;5;241m=\u001b[39m \u001b[38;5;124m'\u001b[39m\u001b[38;5;124mai\u001b[39m\u001b[38;5;124m'\u001b[39m\n",
      "\u001b[1;31mTypeError\u001b[0m: 'tuple' object does not support item assignment"
     ]
    }
   ],
   "source": [
    "tup4[0] = 'ai'"
   ]
  },
  {
   "cell_type": "code",
   "execution_count": 53,
   "id": "75677c03-5b7b-45eb-b52c-13949251e35f",
   "metadata": {},
   "outputs": [
    {
     "data": {
      "text/plain": [
       "('Al Jubair', 'AIUB')"
      ]
     },
     "execution_count": 53,
     "metadata": {},
     "output_type": "execute_result"
    }
   ],
   "source": [
    "tup2"
   ]
  },
  {
   "cell_type": "code",
   "execution_count": 54,
   "id": "7610cdd2-7188-4d37-b015-d3509ebf875e",
   "metadata": {},
   "outputs": [
    {
     "name": "stdout",
     "output_type": "stream",
     "text": [
      "Al Jubair\n",
      "AIUB\n"
     ]
    }
   ],
   "source": [
    "for i in tup2:\n",
    "    print(i)"
   ]
  },
  {
   "cell_type": "code",
   "execution_count": 60,
   "id": "0c25ac4f-910d-450c-b24c-2724a1850213",
   "metadata": {},
   "outputs": [
    {
     "data": {
      "text/plain": [
       "19"
      ]
     },
     "execution_count": 60,
     "metadata": {},
     "output_type": "execute_result"
    }
   ],
   "source": [
    "tup2 =  ('ds', 'Al Jubair', 'AIUB', 1, 2, 2, 2, 3, 4, 6, [19, 20, 100], True)\n",
    "tup2[-2][0]"
   ]
  },
  {
   "cell_type": "code",
   "execution_count": null,
   "id": "899f2fe8-20ac-41d6-8bdd-5c77c7414335",
   "metadata": {},
   "outputs": [],
   "source": []
  }
 ],
 "metadata": {
  "kernelspec": {
   "display_name": "Python 3 (ipykernel)",
   "language": "python",
   "name": "python3"
  },
  "language_info": {
   "codemirror_mode": {
    "name": "ipython",
    "version": 3
   },
   "file_extension": ".py",
   "mimetype": "text/x-python",
   "name": "python",
   "nbconvert_exporter": "python",
   "pygments_lexer": "ipython3",
   "version": "3.12.4"
  }
 },
 "nbformat": 4,
 "nbformat_minor": 5
}
