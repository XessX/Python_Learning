{
 "cells": [
  {
   "cell_type": "code",
   "execution_count": 2,
   "id": "1991e038-244f-455f-bb65-8eb934ee9f5e",
   "metadata": {},
   "outputs": [],
   "source": [
    "def user_input():\n",
    "    x1 = int(input())\n",
    "    x2 = int(input())\n",
    "    y1 = int(input())\n",
    "    y2 = int(input())\n",
    "\n",
    "    return x1, x2"
   ]
  },
  {
   "cell_type": "code",
   "execution_count": 3,
   "id": "e07fda99-9fa4-49d1-933b-2af1986788f0",
   "metadata": {},
   "outputs": [
    {
     "name": "stdin",
     "output_type": "stream",
     "text": [
      " 1\n",
      " 2\n",
      " 3\n",
      " 4\n"
     ]
    },
    {
     "data": {
      "text/plain": [
       "(1, 2)"
      ]
     },
     "execution_count": 3,
     "metadata": {},
     "output_type": "execute_result"
    }
   ],
   "source": [
    "user_input()"
   ]
  },
  {
   "cell_type": "code",
   "execution_count": 4,
   "id": "350d1a87-1fb0-407d-bcaf-bfd4c36c0de4",
   "metadata": {},
   "outputs": [],
   "source": [
    "def user_input():\n",
    "    x1 = int(input())\n",
    "    x2 = int(input())\n",
    "    y1 = int(input())\n",
    "    y2 = int(input())\n",
    "\n",
    "    return x1, y1, x2, y2"
   ]
  },
  {
   "cell_type": "code",
   "execution_count": 6,
   "id": "b675bf62-9549-41cd-9ada-8c0ec7b08ad9",
   "metadata": {},
   "outputs": [
    {
     "name": "stdin",
     "output_type": "stream",
     "text": [
      " 1\n",
      " 3\n",
      " 2\n",
      " 4\n"
     ]
    },
    {
     "data": {
      "text/plain": [
       "(1, 2, 3, 4)"
      ]
     },
     "execution_count": 6,
     "metadata": {},
     "output_type": "execute_result"
    }
   ],
   "source": [
    "user_input()"
   ]
  },
  {
   "cell_type": "code",
   "execution_count": 7,
   "id": "b44c2ef2-cea1-4ca2-825b-87a663df45f0",
   "metadata": {},
   "outputs": [],
   "source": [
    "def user_input():\n",
    "    x1 = int(input())\n",
    "    x2 = int(input())\n",
    "    y1 = int(input())\n",
    "    y2 = int(input())\n",
    "\n",
    "    return (x1, y1), (x2, y2)"
   ]
  },
  {
   "cell_type": "code",
   "execution_count": 8,
   "id": "30fdfb24-2938-437e-9b43-ee48033b8a99",
   "metadata": {},
   "outputs": [
    {
     "name": "stdin",
     "output_type": "stream",
     "text": [
      " 1\n",
      " 2\n",
      " 3\n",
      " 4\n"
     ]
    },
    {
     "data": {
      "text/plain": [
       "((1, 3), (2, 4))"
      ]
     },
     "execution_count": 8,
     "metadata": {},
     "output_type": "execute_result"
    }
   ],
   "source": [
    "user_input()"
   ]
  },
  {
   "cell_type": "code",
   "execution_count": 10,
   "id": "4b0cf446-c082-43d3-8478-964edf25d426",
   "metadata": {},
   "outputs": [
    {
     "name": "stdin",
     "output_type": "stream",
     "text": [
      " 1\n",
      " 2\n",
      " 3\n",
      " 4\n"
     ]
    }
   ],
   "source": [
    "r1, r2 = user_input()"
   ]
  },
  {
   "cell_type": "code",
   "execution_count": 11,
   "id": "6ec58137-18fc-4c33-bfcb-e48b036ffd4d",
   "metadata": {},
   "outputs": [
    {
     "data": {
      "text/plain": [
       "(1, 3)"
      ]
     },
     "execution_count": 11,
     "metadata": {},
     "output_type": "execute_result"
    }
   ],
   "source": [
    "r1"
   ]
  },
  {
   "cell_type": "code",
   "execution_count": 12,
   "id": "b629a43e-1bd4-41fe-9a19-f1b23a9637d9",
   "metadata": {},
   "outputs": [
    {
     "data": {
      "text/plain": [
       "(2, 4)"
      ]
     },
     "execution_count": 12,
     "metadata": {},
     "output_type": "execute_result"
    }
   ],
   "source": [
    "r2"
   ]
  },
  {
   "cell_type": "code",
   "execution_count": 13,
   "id": "70cc5b6d-cc1e-4db9-ae46-5a03625d8ab1",
   "metadata": {},
   "outputs": [],
   "source": [
    "def user_input():\n",
    "    x1 = int(input())\n",
    "    x2 = int(input())\n",
    "    y1 = int(input())\n",
    "    y2 = int(input())\n",
    "\n",
    "    return (x1, y1), (x2, y2)"
   ]
  },
  {
   "cell_type": "code",
   "execution_count": 14,
   "id": "b6934aa9-3e18-407d-b521-fbca7a2c40fe",
   "metadata": {},
   "outputs": [
    {
     "name": "stdin",
     "output_type": "stream",
     "text": [
      " 1\n",
      " 2\n",
      " 3\n",
      " 4\n"
     ]
    }
   ],
   "source": [
    "r1 , _ = user_input()"
   ]
  },
  {
   "cell_type": "code",
   "execution_count": 15,
   "id": "e9350cdf-4eb8-4271-b408-a536fa156a27",
   "metadata": {},
   "outputs": [
    {
     "data": {
      "text/plain": [
       "(1, 3)"
      ]
     },
     "execution_count": 15,
     "metadata": {},
     "output_type": "execute_result"
    }
   ],
   "source": [
    "r1"
   ]
  },
  {
   "cell_type": "code",
   "execution_count": 16,
   "id": "f0b4c751-9fdb-4f47-bcd2-ce1542b79576",
   "metadata": {},
   "outputs": [
    {
     "data": {
      "text/plain": [
       "(2, 4)"
      ]
     },
     "execution_count": 16,
     "metadata": {},
     "output_type": "execute_result"
    }
   ],
   "source": [
    "_"
   ]
  },
  {
   "cell_type": "code",
   "execution_count": 19,
   "id": "d27d0f98-4d54-4d29-a754-50e98e502b03",
   "metadata": {},
   "outputs": [
    {
     "data": {
      "text/plain": [
       "(9, 27)"
      ]
     },
     "execution_count": 19,
     "metadata": {},
     "output_type": "execute_result"
    }
   ],
   "source": [
    "def sq_and_cube(x):\n",
    "    sq = x**2\n",
    "    cube = x**3\n",
    "    return sq, cube\n",
    "\n",
    "sq_and_cube(3)"
   ]
  },
  {
   "cell_type": "code",
   "execution_count": 20,
   "id": "3d76cf64-8f90-4552-b476-cef554a4eeb0",
   "metadata": {},
   "outputs": [],
   "source": [
    "def mulp():\n",
    "    x = int(input('x = '))\n",
    "    y = int(input('y = '))\n",
    "    result = x * y\n",
    "    print(result)"
   ]
  },
  {
   "cell_type": "code",
   "execution_count": 21,
   "id": "b562a280-8c08-4e47-ad90-7bab4efd50ef",
   "metadata": {},
   "outputs": [
    {
     "name": "stdin",
     "output_type": "stream",
     "text": [
      "x =  10\n",
      "y =  20\n"
     ]
    },
    {
     "name": "stdout",
     "output_type": "stream",
     "text": [
      "200\n"
     ]
    }
   ],
   "source": [
    "mulp()"
   ]
  },
  {
   "cell_type": "code",
   "execution_count": 28,
   "id": "df607855-132b-4c88-884d-7a8645a38ad5",
   "metadata": {},
   "outputs": [],
   "source": [
    "def mulp1():\n",
    "    x = int(input('x = '))\n",
    "    y = int(input('y = '))\n",
    "    result = x * y\n",
    "    print('result', result)\n",
    "    return result\n",
    "    \n",
    "def mulp2():\n",
    "    total1 = mulp1()\n",
    "    z = int(input('z = '))\n",
    "    total2 = total1 * z\n",
    "    print('final result = ', total2)"
   ]
  },
  {
   "cell_type": "code",
   "execution_count": 29,
   "id": "47160d0c-0b43-4202-919a-064fd10130a5",
   "metadata": {},
   "outputs": [
    {
     "name": "stdin",
     "output_type": "stream",
     "text": [
      "x =  2\n",
      "y =  5\n"
     ]
    },
    {
     "name": "stdout",
     "output_type": "stream",
     "text": [
      "result 10\n"
     ]
    },
    {
     "name": "stdin",
     "output_type": "stream",
     "text": [
      "z =  6\n"
     ]
    },
    {
     "name": "stdout",
     "output_type": "stream",
     "text": [
      "final result =  60\n"
     ]
    }
   ],
   "source": [
    "mulp2()"
   ]
  },
  {
   "cell_type": "code",
   "execution_count": null,
   "id": "73a74eea-25eb-4b6b-a5d4-2b6458356d94",
   "metadata": {},
   "outputs": [],
   "source": []
  }
 ],
 "metadata": {
  "kernelspec": {
   "display_name": "Python 3 (ipykernel)",
   "language": "python",
   "name": "python3"
  },
  "language_info": {
   "codemirror_mode": {
    "name": "ipython",
    "version": 3
   },
   "file_extension": ".py",
   "mimetype": "text/x-python",
   "name": "python",
   "nbconvert_exporter": "python",
   "pygments_lexer": "ipython3",
   "version": "3.12.4"
  }
 },
 "nbformat": 4,
 "nbformat_minor": 5
}
