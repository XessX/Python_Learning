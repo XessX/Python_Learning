{
 "cells": [
  {
   "cell_type": "code",
   "execution_count": 5,
   "id": "2d1b6052-c4a2-4b56-afef-336bc43e641f",
   "metadata": {},
   "outputs": [],
   "source": [
    " #functions\n",
    "def dept():\n",
    "    print('Data Science')"
   ]
  },
  {
   "cell_type": "code",
   "execution_count": 6,
   "id": "b35b25e5-9b69-4b3c-8028-adbdca59c901",
   "metadata": {},
   "outputs": [
    {
     "name": "stdout",
     "output_type": "stream",
     "text": [
      "Data Science\n"
     ]
    }
   ],
   "source": [
    "dept()"
   ]
  },
  {
   "cell_type": "code",
   "execution_count": 7,
   "id": "b7bb6c08-cb0f-4d63-b9c9-7b7996f48b68",
   "metadata": {},
   "outputs": [],
   "source": [
    "def dept_with_names(name):\n",
    "    print(f'My Major is {name}')"
   ]
  },
  {
   "cell_type": "code",
   "execution_count": 9,
   "id": "87bce48b-80a4-4461-bde2-6098570e73fe",
   "metadata": {},
   "outputs": [
    {
     "name": "stdout",
     "output_type": "stream",
     "text": [
      "My Major is Machine Learning & Ai\n"
     ]
    }
   ],
   "source": [
    "dept_with_names('Machine Learning & Ai')"
   ]
  },
  {
   "cell_type": "code",
   "execution_count": 11,
   "id": "5f5da14a-8d35-4afa-9e2a-cf5258bad85f",
   "metadata": {},
   "outputs": [],
   "source": [
    "def name():\n",
    "    print('Jubair')\n",
    "    return 1"
   ]
  },
  {
   "cell_type": "code",
   "execution_count": 12,
   "id": "06ff85da-2ff0-4f75-88a8-0237ff726421",
   "metadata": {},
   "outputs": [
    {
     "name": "stdout",
     "output_type": "stream",
     "text": [
      "Jubair\n"
     ]
    },
    {
     "data": {
      "text/plain": [
       "1"
      ]
     },
     "execution_count": 12,
     "metadata": {},
     "output_type": "execute_result"
    }
   ],
   "source": [
    "name()"
   ]
  },
  {
   "cell_type": "code",
   "execution_count": 13,
   "id": "15bd4a0f-ea36-4e93-9ab2-8d528d38e581",
   "metadata": {},
   "outputs": [],
   "source": [
    "def name():\n",
    "    return print('Jubair')"
   ]
  },
  {
   "cell_type": "code",
   "execution_count": 14,
   "id": "ad852696-76c3-465e-9e39-62fb5d417ca7",
   "metadata": {},
   "outputs": [
    {
     "name": "stdout",
     "output_type": "stream",
     "text": [
      "Jubair\n"
     ]
    }
   ],
   "source": [
    "name()"
   ]
  },
  {
   "cell_type": "code",
   "execution_count": 15,
   "id": "aa9bb359-94a7-43e4-bfa6-df1c7c65848a",
   "metadata": {},
   "outputs": [],
   "source": [
    "def name():\n",
    "    return dept()"
   ]
  },
  {
   "cell_type": "code",
   "execution_count": 16,
   "id": "8937179c-ee9e-447e-b354-01b4d8220546",
   "metadata": {},
   "outputs": [
    {
     "name": "stdout",
     "output_type": "stream",
     "text": [
      "Data Science\n"
     ]
    }
   ],
   "source": [
    "dept()"
   ]
  },
  {
   "cell_type": "code",
   "execution_count": 17,
   "id": "19a7e0d0-00c4-4c9b-9108-f3b70d15d63c",
   "metadata": {},
   "outputs": [],
   "source": [
    "def add_num():\n",
    "    a = 10\n",
    "    b = 20\n",
    "    result = a + b\n",
    "    return result"
   ]
  },
  {
   "cell_type": "code",
   "execution_count": 18,
   "id": "98ab5f58-9a0c-46ca-9694-66c85ee4d399",
   "metadata": {},
   "outputs": [
    {
     "data": {
      "text/plain": [
       "30"
      ]
     },
     "execution_count": 18,
     "metadata": {},
     "output_type": "execute_result"
    }
   ],
   "source": [
    "add_num()"
   ]
  },
  {
   "cell_type": "code",
   "execution_count": 19,
   "id": "d50b86bc-2ddd-483c-9a7a-d62036f662a1",
   "metadata": {},
   "outputs": [],
   "source": [
    "def add_num(a , b):\n",
    "    result = a + b\n",
    "    return result"
   ]
  },
  {
   "cell_type": "code",
   "execution_count": 21,
   "id": "a0c25f48-a009-4f54-834f-b7e737a53347",
   "metadata": {},
   "outputs": [
    {
     "data": {
      "text/plain": [
       "30"
      ]
     },
     "execution_count": 21,
     "metadata": {},
     "output_type": "execute_result"
    }
   ],
   "source": [
    "add_num(10 , 20)"
   ]
  },
  {
   "cell_type": "code",
   "execution_count": 22,
   "id": "397a7022-08a5-45d2-88e7-c3fb41f4b486",
   "metadata": {},
   "outputs": [
    {
     "data": {
      "text/plain": [
       "90"
      ]
     },
     "execution_count": 22,
     "metadata": {},
     "output_type": "execute_result"
    }
   ],
   "source": [
    "add_num(50 , 40)"
   ]
  },
  {
   "cell_type": "code",
   "execution_count": null,
   "id": "4163b1a7-563d-4155-9d64-118021a9ef64",
   "metadata": {},
   "outputs": [],
   "source": []
  }
 ],
 "metadata": {
  "kernelspec": {
   "display_name": "Python 3 (ipykernel)",
   "language": "python",
   "name": "python3"
  },
  "language_info": {
   "codemirror_mode": {
    "name": "ipython",
    "version": 3
   },
   "file_extension": ".py",
   "mimetype": "text/x-python",
   "name": "python",
   "nbconvert_exporter": "python",
   "pygments_lexer": "ipython3",
   "version": "3.12.4"
  }
 },
 "nbformat": 4,
 "nbformat_minor": 5
}
