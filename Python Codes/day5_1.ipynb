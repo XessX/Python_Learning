{
 "cells": [
  {
   "cell_type": "code",
   "execution_count": 1,
   "id": "a7089546-f46a-4f9b-ab8c-80df611fed94",
   "metadata": {},
   "outputs": [
    {
     "name": "stdout",
     "output_type": "stream",
     "text": [
      "1\n",
      "2\n",
      "3\n",
      "4\n",
      "5\n",
      "6\n",
      "7\n",
      "8\n",
      "9\n",
      "10\n"
     ]
    }
   ],
   "source": [
    "for i in range(1, 100):\n",
    "    if i == 11:\n",
    "        break\n",
    "    print(i)"
   ]
  },
  {
   "cell_type": "code",
   "execution_count": 3,
   "id": "95d81776-fdb1-4cdc-acc7-ca42a5171e96",
   "metadata": {},
   "outputs": [
    {
     "name": "stdout",
     "output_type": "stream",
     "text": [
      "3 * 1 = 3\n",
      "3 * 2 = 6\n",
      "3 * 3 = 9\n",
      "3 * 4 = 12\n",
      "3 * 5 = 15\n",
      "3 * 6 = 18\n",
      "3 * 7 = 21\n",
      "3 * 8 = 24\n",
      "3 * 9 = 27\n",
      "3 * 10 = 30\n"
     ]
    }
   ],
   "source": [
    "for i in range(1, 100):\n",
    "    if i == 11:\n",
    "        break\n",
    "    print('3 *',i, '=', i*3)"
   ]
  },
  {
   "cell_type": "code",
   "execution_count": 4,
   "id": "e2c01edb-e852-43bc-a078-296d5c382061",
   "metadata": {},
   "outputs": [],
   "source": [
    "sen = 'I love Bangladesh and Canada'"
   ]
  },
  {
   "cell_type": "code",
   "execution_count": 5,
   "id": "fccd487c-816f-4d27-80d1-5af632c92399",
   "metadata": {},
   "outputs": [
    {
     "name": "stdout",
     "output_type": "stream",
     "text": [
      "I\n",
      "love\n",
      "Bangladesh\n"
     ]
    }
   ],
   "source": [
    "for i in sen.split():\n",
    "    if i == 'and':\n",
    "        break\n",
    "    print(i)"
   ]
  },
  {
   "cell_type": "code",
   "execution_count": 6,
   "id": "e3ff40ea-641e-4a4e-b3b3-94617231c40b",
   "metadata": {},
   "outputs": [
    {
     "name": "stdout",
     "output_type": "stream",
     "text": [
      "5 * 1 = 5\n",
      "5 * 2 = 10\n",
      "5 * 3 = 15\n",
      "5 * 4 = 20\n",
      "5 * 5 = 25\n",
      "5 * 6 = 30\n",
      "5 * 7 = 35\n",
      "5 * 8 = 40\n",
      "5 * 9 = 45\n",
      "5 * 10 = 50\n"
     ]
    }
   ],
   "source": [
    "i = 1\n",
    "while i < 100:\n",
    "    if i == 11:\n",
    "        break\n",
    "    print('5 *',i,'=',5*i)\n",
    "    i = i+1"
   ]
  },
  {
   "cell_type": "code",
   "execution_count": 8,
   "id": "4145b801-c998-4bd3-a814-6cc19371fcdf",
   "metadata": {},
   "outputs": [],
   "source": [
    "#continue\n",
    "num = [1,2,3,4,5,6,10,14,15]"
   ]
  },
  {
   "cell_type": "code",
   "execution_count": 9,
   "id": "04ad487d-fec2-4327-b7f7-64b569206d7c",
   "metadata": {},
   "outputs": [
    {
     "data": {
      "text/plain": [
       "[2, 4, 6, 10, 14]"
      ]
     },
     "execution_count": 9,
     "metadata": {},
     "output_type": "execute_result"
    }
   ],
   "source": [
    "#list comp\n",
    "[i for i in num if i % 2 == 0]"
   ]
  },
  {
   "cell_type": "code",
   "execution_count": 10,
   "id": "9bef9656-226e-4b5a-9f08-766c7b5af844",
   "metadata": {},
   "outputs": [
    {
     "name": "stdout",
     "output_type": "stream",
     "text": [
      "2\n",
      "4\n",
      "6\n",
      "10\n",
      "14\n"
     ]
    }
   ],
   "source": [
    "for i in num:\n",
    "    if i % 2 == 1:\n",
    "        continue\n",
    "    print(i)"
   ]
  },
  {
   "cell_type": "code",
   "execution_count": 11,
   "id": "9307e4ff-f6c4-40f2-9ca1-8c405c71921e",
   "metadata": {},
   "outputs": [],
   "source": [
    "sen = 'I love Bangladesh and Canada'"
   ]
  },
  {
   "cell_type": "code",
   "execution_count": 12,
   "id": "b9adb1c0-9928-4563-a051-f9e279a2e0df",
   "metadata": {},
   "outputs": [
    {
     "name": "stdout",
     "output_type": "stream",
     "text": [
      "I\n",
      "love\n",
      "Bangladesh\n",
      "Canada\n"
     ]
    }
   ],
   "source": [
    "for i in sen.split():\n",
    "    if i == 'and':\n",
    "        continue\n",
    "    print(i)"
   ]
  },
  {
   "cell_type": "code",
   "execution_count": null,
   "id": "2d12da0d-f414-4510-b689-8befb78dacae",
   "metadata": {},
   "outputs": [
    {
     "name": "stdout",
     "output_type": "stream",
     "text": [
      "5* 1 = 5\n",
      "5* 2 = 10\n",
      "5* 3 = 15\n",
      "5* 4 = 20\n"
     ]
    }
   ],
   "source": [
    "i=1\n",
    "while i<=10:\n",
    "    if i==5:\n",
    "        continue\n",
    "    print('5*',i,'=',5*i)\n",
    "    i=i+1"
   ]
  },
  {
   "cell_type": "code",
   "execution_count": null,
   "id": "c0257325-56b5-4e6e-871f-89f4dbba0d76",
   "metadata": {},
   "outputs": [],
   "source": []
  }
 ],
 "metadata": {
  "kernelspec": {
   "display_name": "Python 3 (ipykernel)",
   "language": "python",
   "name": "python3"
  },
  "language_info": {
   "codemirror_mode": {
    "name": "ipython",
    "version": 3
   },
   "file_extension": ".py",
   "mimetype": "text/x-python",
   "name": "python",
   "nbconvert_exporter": "python",
   "pygments_lexer": "ipython3",
   "version": "3.12.4"
  }
 },
 "nbformat": 4,
 "nbformat_minor": 5
}
