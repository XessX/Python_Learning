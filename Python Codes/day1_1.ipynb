{
 "cells": [
  {
   "cell_type": "code",
   "execution_count": 6,
   "id": "36acb40d-2136-4484-9a05-a703b8b4ebe0",
   "metadata": {},
   "outputs": [
    {
     "name": "stdout",
     "output_type": "stream",
     "text": [
      "Hello World & Welcome to 30 days of Python * "
     ]
    }
   ],
   "source": [
    "print('Hello World', 'Welcome to 30 days of Python', sep = ' & ', end =  ' * ')"
   ]
  },
  {
   "cell_type": "code",
   "execution_count": 10,
   "id": "25abe297-efc0-474a-aa0e-0ca7b364ddd6",
   "metadata": {},
   "outputs": [
    {
     "name": "stdout",
     "output_type": "stream",
     "text": [
      "Hello World\n"
     ]
    }
   ],
   "source": [
    "var =  'Hello World'\n",
    "print(var)"
   ]
  },
  {
   "cell_type": "code",
   "execution_count": 12,
   "id": "97908987-81a8-42da-94d0-582524edb549",
   "metadata": {},
   "outputs": [
    {
     "name": "stdout",
     "output_type": "stream",
     "text": [
      "My sentence is Hello World\n"
     ]
    }
   ],
   "source": [
    "print('My sentence is ' + var)"
   ]
  },
  {
   "cell_type": "code",
   "execution_count": 13,
   "id": "a18abeb7-98b6-47fe-b455-4de91c393f05",
   "metadata": {},
   "outputs": [
    {
     "data": {
      "text/plain": [
       "2603285586224"
      ]
     },
     "execution_count": 13,
     "metadata": {},
     "output_type": "execute_result"
    }
   ],
   "source": [
    "id(var)"
   ]
  },
  {
   "cell_type": "code",
   "execution_count": 16,
   "id": "2754e589-6478-4ad1-9c9d-2d816106c6ba",
   "metadata": {},
   "outputs": [
    {
     "data": {
      "text/plain": [
       "52"
      ]
     },
     "execution_count": 16,
     "metadata": {},
     "output_type": "execute_result"
    }
   ],
   "source": [
    "import sys\n",
    "sys.getsizeof(var)"
   ]
  },
  {
   "cell_type": "code",
   "execution_count": 17,
   "id": "bde2cd5a-e7cf-442a-88f0-30208eb4b8bd",
   "metadata": {},
   "outputs": [],
   "source": [
    "x = 100"
   ]
  },
  {
   "cell_type": "code",
   "execution_count": 18,
   "id": "f33bf477-f3c2-4c2a-b157-89af9fbc319c",
   "metadata": {},
   "outputs": [
    {
     "data": {
      "text/plain": [
       "100"
      ]
     },
     "execution_count": 18,
     "metadata": {},
     "output_type": "execute_result"
    }
   ],
   "source": [
    "x"
   ]
  },
  {
   "cell_type": "code",
   "execution_count": 19,
   "id": "3151a089-1889-4025-9166-f9f7d186faf5",
   "metadata": {},
   "outputs": [],
   "source": [
    "y = 100"
   ]
  },
  {
   "cell_type": "code",
   "execution_count": 20,
   "id": "f3c932f5-37c6-44fc-ada0-bb1c7d77987a",
   "metadata": {},
   "outputs": [
    {
     "data": {
      "text/plain": [
       "100"
      ]
     },
     "execution_count": 20,
     "metadata": {},
     "output_type": "execute_result"
    }
   ],
   "source": [
    "y"
   ]
  },
  {
   "cell_type": "code",
   "execution_count": 21,
   "id": "c88979cc-fdfd-4952-8992-2964a089d0f9",
   "metadata": {},
   "outputs": [
    {
     "data": {
      "text/plain": [
       "140732915467800"
      ]
     },
     "execution_count": 21,
     "metadata": {},
     "output_type": "execute_result"
    }
   ],
   "source": [
    "id(x)"
   ]
  },
  {
   "cell_type": "code",
   "execution_count": 22,
   "id": "30fe035b-ceea-402a-b1fe-cc36da12820f",
   "metadata": {},
   "outputs": [
    {
     "data": {
      "text/plain": [
       "140732915467800"
      ]
     },
     "execution_count": 22,
     "metadata": {},
     "output_type": "execute_result"
    }
   ],
   "source": [
    "id(y)"
   ]
  },
  {
   "cell_type": "code",
   "execution_count": 23,
   "id": "bc70b6a2-38d4-43ec-9b4b-beecc1efbe70",
   "metadata": {},
   "outputs": [
    {
     "data": {
      "text/plain": [
       "2603285162832"
      ]
     },
     "execution_count": 23,
     "metadata": {},
     "output_type": "execute_result"
    }
   ],
   "source": [
    "x = 1000\n",
    "y = 1000\n",
    "id(x)"
   ]
  },
  {
   "cell_type": "code",
   "execution_count": 24,
   "id": "b15a149c-e644-413b-85e4-cf8558f5e560",
   "metadata": {},
   "outputs": [
    {
     "data": {
      "text/plain": [
       "2603285158512"
      ]
     },
     "execution_count": 24,
     "metadata": {},
     "output_type": "execute_result"
    }
   ],
   "source": [
    "id(y)"
   ]
  },
  {
   "cell_type": "code",
   "execution_count": 25,
   "id": "1d47a39e-a657-421d-a46e-5c228b42d172",
   "metadata": {},
   "outputs": [
    {
     "data": {
      "text/plain": [
       "'Jubair'"
      ]
     },
     "execution_count": 25,
     "metadata": {},
     "output_type": "execute_result"
    }
   ],
   "source": [
    "name = 'Jubair'\n",
    "x = 'Jubair'\n",
    "x"
   ]
  },
  {
   "cell_type": "code",
   "execution_count": 26,
   "id": "820451d0-6a85-452c-8c63-5ceb6dd68d65",
   "metadata": {},
   "outputs": [
    {
     "ename": "SyntaxError",
     "evalue": "invalid decimal literal (573564620.py, line 1)",
     "output_type": "error",
     "traceback": [
      "\u001b[1;36m  Cell \u001b[1;32mIn[26], line 1\u001b[1;36m\u001b[0m\n\u001b[1;33m    9vzr\u001b[0m\n\u001b[1;37m    ^\u001b[0m\n\u001b[1;31mSyntaxError\u001b[0m\u001b[1;31m:\u001b[0m invalid decimal literal\n"
     ]
    }
   ],
   "source": [
    "9vzr"
   ]
  },
  {
   "cell_type": "code",
   "execution_count": 28,
   "id": "dc608077-e689-4614-ad00-20e86a96cdad",
   "metadata": {},
   "outputs": [
    {
     "data": {
      "text/plain": [
       "100"
      ]
     },
     "execution_count": 28,
     "metadata": {},
     "output_type": "execute_result"
    }
   ],
   "source": [
    "var9 = 100\n",
    "var9"
   ]
  },
  {
   "cell_type": "code",
   "execution_count": 29,
   "id": "2512489e-3564-44f2-a2f4-dd8722338511",
   "metadata": {},
   "outputs": [
    {
     "ename": "SyntaxError",
     "evalue": "cannot assign to expression here. Maybe you meant '==' instead of '='? (4034311363.py, line 1)",
     "output_type": "error",
     "traceback": [
      "\u001b[1;36m  Cell \u001b[1;32mIn[29], line 1\u001b[1;36m\u001b[0m\n\u001b[1;33m    var-2 = 100\u001b[0m\n\u001b[1;37m    ^\u001b[0m\n\u001b[1;31mSyntaxError\u001b[0m\u001b[1;31m:\u001b[0m cannot assign to expression here. Maybe you meant '==' instead of '='?\n"
     ]
    }
   ],
   "source": [
    "var-2 = 100"
   ]
  },
  {
   "cell_type": "code",
   "execution_count": 30,
   "id": "b4cf345a-9ca9-4ba9-9831-b320c79929fd",
   "metadata": {},
   "outputs": [
    {
     "data": {
      "text/plain": [
       "8"
      ]
     },
     "execution_count": 30,
     "metadata": {},
     "output_type": "execute_result"
    }
   ],
   "source": [
    "10-2"
   ]
  },
  {
   "cell_type": "code",
   "execution_count": 33,
   "id": "63db5438-1a68-4adf-8cac-d1dbb7043beb",
   "metadata": {},
   "outputs": [
    {
     "data": {
      "text/plain": [
       "100"
      ]
     },
     "execution_count": 33,
     "metadata": {},
     "output_type": "execute_result"
    }
   ],
   "source": [
    "var_2 = 100\n",
    "var_2"
   ]
  },
  {
   "cell_type": "code",
   "execution_count": 34,
   "id": "3301d476-3045-41f9-80ca-349e3893e7ae",
   "metadata": {},
   "outputs": [],
   "source": [
    "x,y,z = 10, 100, 1000"
   ]
  },
  {
   "cell_type": "code",
   "execution_count": 35,
   "id": "3be03a57-ba85-479a-bd1b-8ffc10e6d0f8",
   "metadata": {},
   "outputs": [
    {
     "data": {
      "text/plain": [
       "1000"
      ]
     },
     "execution_count": 35,
     "metadata": {},
     "output_type": "execute_result"
    }
   ],
   "source": [
    "z"
   ]
  },
  {
   "cell_type": "code",
   "execution_count": 36,
   "id": "7726c420-4b7b-4b7a-9558-10a7f10cefe1",
   "metadata": {},
   "outputs": [
    {
     "data": {
      "text/plain": [
       "100"
      ]
     },
     "execution_count": 36,
     "metadata": {},
     "output_type": "execute_result"
    }
   ],
   "source": [
    "y"
   ]
  },
  {
   "cell_type": "code",
   "execution_count": 37,
   "id": "28b2a0c3-4e08-48a1-8516-d8747920b5a5",
   "metadata": {},
   "outputs": [
    {
     "data": {
      "text/plain": [
       "10"
      ]
     },
     "execution_count": 37,
     "metadata": {},
     "output_type": "execute_result"
    }
   ],
   "source": [
    "x"
   ]
  },
  {
   "cell_type": "code",
   "execution_count": 38,
   "id": "3a130135-f240-4a50-a401-f5f6c76dc5dc",
   "metadata": {},
   "outputs": [
    {
     "ename": "ValueError",
     "evalue": "not enough values to unpack (expected 3, got 2)",
     "output_type": "error",
     "traceback": [
      "\u001b[1;31m---------------------------------------------------------------------------\u001b[0m",
      "\u001b[1;31mValueError\u001b[0m                                Traceback (most recent call last)",
      "Cell \u001b[1;32mIn[38], line 1\u001b[0m\n\u001b[1;32m----> 1\u001b[0m x, y, z \u001b[38;5;241m=\u001b[39m \u001b[38;5;241m10\u001b[39m, \u001b[38;5;241m100\u001b[39m\n",
      "\u001b[1;31mValueError\u001b[0m: not enough values to unpack (expected 3, got 2)"
     ]
    }
   ],
   "source": [
    "x, y, z = 10, 100"
   ]
  },
  {
   "cell_type": "code",
   "execution_count": 41,
   "id": "2ad8efd6-c173-4f78-a791-6b1efaad4d27",
   "metadata": {},
   "outputs": [],
   "source": [
    "x, y, z = 10, 100, 'Jubair'"
   ]
  },
  {
   "cell_type": "code",
   "execution_count": 42,
   "id": "bdfac391-ae15-4324-8bcb-c4fb2829ccc6",
   "metadata": {},
   "outputs": [
    {
     "data": {
      "text/plain": [
       "'Jubair'"
      ]
     },
     "execution_count": 42,
     "metadata": {},
     "output_type": "execute_result"
    }
   ],
   "source": [
    "z"
   ]
  },
  {
   "cell_type": "code",
   "execution_count": 43,
   "id": "796ea03a-ae83-4a8b-95db-a482d1463d15",
   "metadata": {},
   "outputs": [],
   "source": [
    "X = 1\n",
    "x=2"
   ]
  },
  {
   "cell_type": "code",
   "execution_count": 44,
   "id": "4e17fb19-15ea-4730-a08f-2f2506ad1ddc",
   "metadata": {},
   "outputs": [
    {
     "data": {
      "text/plain": [
       "1"
      ]
     },
     "execution_count": 44,
     "metadata": {},
     "output_type": "execute_result"
    }
   ],
   "source": [
    "X"
   ]
  },
  {
   "cell_type": "code",
   "execution_count": 45,
   "id": "ce2ea0c9-f1e0-4ef7-9759-8dff1c55fec9",
   "metadata": {},
   "outputs": [
    {
     "data": {
      "text/plain": [
       "2"
      ]
     },
     "execution_count": 45,
     "metadata": {},
     "output_type": "execute_result"
    }
   ],
   "source": [
    "x"
   ]
  },
  {
   "cell_type": "markdown",
   "id": "603206cc-174e-4ae3-ad08-6645f1fbf5a2",
   "metadata": {},
   "source": [
    "Local Vs Global"
   ]
  },
  {
   "cell_type": "code",
   "execution_count": 54,
   "id": "13853b26-2e49-4004-8f92-53cb5c90d266",
   "metadata": {},
   "outputs": [
    {
     "name": "stdout",
     "output_type": "stream",
     "text": [
      "My num is :  500\n",
      "My Num is :  1000\n"
     ]
    }
   ],
   "source": [
    "x = 1000\n",
    "\n",
    "def func1():\n",
    "    x=500\n",
    "    print('My num is : ',x)\n",
    "func1()\n",
    "print('My Num is : ',x)"
   ]
  },
  {
   "cell_type": "code",
   "execution_count": 55,
   "id": "51dce6d8-3140-4102-a8e6-585e64800f20",
   "metadata": {},
   "outputs": [
    {
     "name": "stdout",
     "output_type": "stream",
     "text": [
      "My num is :  500\n",
      "My Num is :  500\n"
     ]
    }
   ],
   "source": [
    "def func1():\n",
    "    global x\n",
    "    x=500\n",
    "    print('My num is : ',x)\n",
    "func1()\n",
    "print('My Num is : ',x)"
   ]
  },
  {
   "cell_type": "code",
   "execution_count": null,
   "id": "6d52c35c-da6b-4e65-bb2c-2845b37cdee5",
   "metadata": {},
   "outputs": [],
   "source": []
  }
 ],
 "metadata": {
  "kernelspec": {
   "display_name": "Python 3 (ipykernel)",
   "language": "python",
   "name": "python3"
  },
  "language_info": {
   "codemirror_mode": {
    "name": "ipython",
    "version": 3
   },
   "file_extension": ".py",
   "mimetype": "text/x-python",
   "name": "python",
   "nbconvert_exporter": "python",
   "pygments_lexer": "ipython3",
   "version": "3.12.4"
  }
 },
 "nbformat": 4,
 "nbformat_minor": 5
}
