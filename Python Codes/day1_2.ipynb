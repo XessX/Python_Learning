{
 "cells": [
  {
   "cell_type": "markdown",
   "id": "d43052d8-b44f-4536-abeb-7d8508d6fe02",
   "metadata": {},
   "source": [
    "#input Function"
   ]
  },
  {
   "cell_type": "code",
   "execution_count": 1,
   "id": "1607d418-40f1-4c82-92ae-b18af461d63a",
   "metadata": {},
   "outputs": [],
   "source": [
    "data = 'data science fun'"
   ]
  },
  {
   "cell_type": "code",
   "execution_count": 2,
   "id": "d8c954c2-ac1a-480b-968f-e08aa87657ef",
   "metadata": {},
   "outputs": [
    {
     "data": {
      "text/plain": [
       "str"
      ]
     },
     "execution_count": 2,
     "metadata": {},
     "output_type": "execute_result"
    }
   ],
   "source": [
    "type(data)"
   ]
  },
  {
   "cell_type": "code",
   "execution_count": 3,
   "id": "da13bea6-ed78-44ae-9ebb-f0320f09da41",
   "metadata": {},
   "outputs": [
    {
     "name": "stdin",
     "output_type": "stream",
     "text": [
      " data science fun!\n"
     ]
    }
   ],
   "source": [
    "data = input()"
   ]
  },
  {
   "cell_type": "code",
   "execution_count": 4,
   "id": "c5538f91-3e89-4c8e-bd6b-04a4b45cc269",
   "metadata": {},
   "outputs": [
    {
     "data": {
      "text/plain": [
       "'data science fun!'"
      ]
     },
     "execution_count": 4,
     "metadata": {},
     "output_type": "execute_result"
    }
   ],
   "source": [
    "data"
   ]
  },
  {
   "cell_type": "code",
   "execution_count": 6,
   "id": "9a6acb90-c49c-4a85-b712-2673e2caf476",
   "metadata": {},
   "outputs": [
    {
     "name": "stdin",
     "output_type": "stream",
     "text": [
      " 10\n",
      " 20\n"
     ]
    }
   ],
   "source": [
    "x = input()\n",
    "y = input()"
   ]
  },
  {
   "cell_type": "code",
   "execution_count": 7,
   "id": "aa2a3710-a09d-4245-a3b5-817928e4a9f5",
   "metadata": {},
   "outputs": [
    {
     "data": {
      "text/plain": [
       "'1020'"
      ]
     },
     "execution_count": 7,
     "metadata": {},
     "output_type": "execute_result"
    }
   ],
   "source": [
    "x+y"
   ]
  },
  {
   "cell_type": "code",
   "execution_count": 8,
   "id": "b4edf284-5b29-4813-847e-773fa4659567",
   "metadata": {},
   "outputs": [
    {
     "data": {
      "text/plain": [
       "'1020'"
      ]
     },
     "execution_count": 8,
     "metadata": {},
     "output_type": "execute_result"
    }
   ],
   "source": [
    "x+y"
   ]
  },
  {
   "cell_type": "code",
   "execution_count": 9,
   "id": "140dbc54-f32b-4dd2-8df3-8c0f2eed5599",
   "metadata": {},
   "outputs": [
    {
     "data": {
      "text/plain": [
       "str"
      ]
     },
     "execution_count": 9,
     "metadata": {},
     "output_type": "execute_result"
    }
   ],
   "source": [
    "type(x)"
   ]
  },
  {
   "cell_type": "code",
   "execution_count": 10,
   "id": "67501931-3138-4a0d-91fb-cd63f95459e4",
   "metadata": {},
   "outputs": [
    {
     "data": {
      "text/plain": [
       "str"
      ]
     },
     "execution_count": 10,
     "metadata": {},
     "output_type": "execute_result"
    }
   ],
   "source": [
    "type(y)"
   ]
  },
  {
   "cell_type": "code",
   "execution_count": 11,
   "id": "081969a4-3253-4cb1-9e3a-1b1f80b3544b",
   "metadata": {},
   "outputs": [],
   "source": [
    "x = int(x)\n",
    "y = int(y)"
   ]
  },
  {
   "cell_type": "code",
   "execution_count": 12,
   "id": "36bac450-8fdf-485d-b217-2582727ec85b",
   "metadata": {},
   "outputs": [
    {
     "data": {
      "text/plain": [
       "30"
      ]
     },
     "execution_count": 12,
     "metadata": {},
     "output_type": "execute_result"
    }
   ],
   "source": [
    "x+y"
   ]
  },
  {
   "cell_type": "code",
   "execution_count": 13,
   "id": "55b49b17-6515-40d1-8525-cc705a75439d",
   "metadata": {},
   "outputs": [
    {
     "data": {
      "text/plain": [
       "int"
      ]
     },
     "execution_count": 13,
     "metadata": {},
     "output_type": "execute_result"
    }
   ],
   "source": [
    "type(x)"
   ]
  },
  {
   "cell_type": "code",
   "execution_count": 14,
   "id": "f3745c12-dfcc-45f9-966f-cf670258920d",
   "metadata": {},
   "outputs": [
    {
     "name": "stdin",
     "output_type": "stream",
     "text": [
      "Enter your 1st num:  200\n"
     ]
    }
   ],
   "source": [
    "x = int(input('Enter your 1st num: '))"
   ]
  },
  {
   "cell_type": "code",
   "execution_count": 15,
   "id": "e48cdad7-1e6e-4267-b9b8-9e62707acbc3",
   "metadata": {},
   "outputs": [
    {
     "data": {
      "text/plain": [
       "200"
      ]
     },
     "execution_count": 15,
     "metadata": {},
     "output_type": "execute_result"
    }
   ],
   "source": [
    "x"
   ]
  },
  {
   "cell_type": "code",
   "execution_count": 16,
   "id": "3a9d4d77-39a6-463b-83d2-af1b556489b4",
   "metadata": {},
   "outputs": [
    {
     "name": "stdin",
     "output_type": "stream",
     "text": [
      "Enter your 1st num:  10.5\n"
     ]
    },
    {
     "ename": "ValueError",
     "evalue": "invalid literal for int() with base 10: '10.5'",
     "output_type": "error",
     "traceback": [
      "\u001b[1;31m---------------------------------------------------------------------------\u001b[0m",
      "\u001b[1;31mValueError\u001b[0m                                Traceback (most recent call last)",
      "Cell \u001b[1;32mIn[16], line 1\u001b[0m\n\u001b[1;32m----> 1\u001b[0m y \u001b[38;5;241m=\u001b[39m \u001b[38;5;28mint\u001b[39m(\u001b[38;5;28minput\u001b[39m(\u001b[38;5;124m'\u001b[39m\u001b[38;5;124mEnter your 1st num: \u001b[39m\u001b[38;5;124m'\u001b[39m))\n",
      "\u001b[1;31mValueError\u001b[0m: invalid literal for int() with base 10: '10.5'"
     ]
    }
   ],
   "source": [
    "y = int(input('Enter your 1st num: '))"
   ]
  },
  {
   "cell_type": "code",
   "execution_count": 17,
   "id": "99dd6c4e-aede-4cbb-a7f3-cd1a1bde569b",
   "metadata": {},
   "outputs": [
    {
     "name": "stdin",
     "output_type": "stream",
     "text": [
      "Enter your 1st num:  10.5\n"
     ]
    }
   ],
   "source": [
    "y = float(input('Enter your 1st num: '))"
   ]
  },
  {
   "cell_type": "code",
   "execution_count": 18,
   "id": "9fd6dafc-c4e1-495e-945b-7cbe65b47260",
   "metadata": {},
   "outputs": [
    {
     "data": {
      "text/plain": [
       "210.5"
      ]
     },
     "execution_count": 18,
     "metadata": {},
     "output_type": "execute_result"
    }
   ],
   "source": [
    "x+y"
   ]
  },
  {
   "cell_type": "code",
   "execution_count": 33,
   "id": "a9ac65c4-9a92-4083-9256-e80a44cbad51",
   "metadata": {},
   "outputs": [],
   "source": [
    "data = '20 days of python , python pro'"
   ]
  },
  {
   "cell_type": "code",
   "execution_count": 20,
   "id": "f45d42e8-4353-46f7-8a5d-fae6da20492b",
   "metadata": {},
   "outputs": [
    {
     "data": {
      "text/plain": [
       "str"
      ]
     },
     "execution_count": 20,
     "metadata": {},
     "output_type": "execute_result"
    }
   ],
   "source": [
    "type(data)"
   ]
  },
  {
   "cell_type": "code",
   "execution_count": 21,
   "id": "dd9b778b-71cf-4566-9f1f-1a74318b4a26",
   "metadata": {},
   "outputs": [
    {
     "data": {
      "text/plain": [
       "17"
      ]
     },
     "execution_count": 21,
     "metadata": {},
     "output_type": "execute_result"
    }
   ],
   "source": [
    "len(data)"
   ]
  },
  {
   "cell_type": "code",
   "execution_count": 23,
   "id": "0ac5318f-880e-4d85-ade1-66bbf5b965e0",
   "metadata": {},
   "outputs": [
    {
     "data": {
      "text/plain": [
       "58"
      ]
     },
     "execution_count": 23,
     "metadata": {},
     "output_type": "execute_result"
    }
   ],
   "source": [
    "import sys\n",
    "sys.getsizeof(data)"
   ]
  },
  {
   "cell_type": "code",
   "execution_count": 34,
   "id": "16af328e-b8c0-4735-af52-cb521995ee36",
   "metadata": {},
   "outputs": [
    {
     "data": {
      "text/plain": [
       "2"
      ]
     },
     "execution_count": 34,
     "metadata": {},
     "output_type": "execute_result"
    }
   ],
   "source": [
    "data.count('python')"
   ]
  },
  {
   "cell_type": "code",
   "execution_count": 35,
   "id": "361f4a7c-0a97-4910-be89-c9589da6b651",
   "metadata": {},
   "outputs": [],
   "source": [
    "sub = 'days of'"
   ]
  },
  {
   "cell_type": "code",
   "execution_count": 36,
   "id": "f245dff9-a054-47c4-9bec-d1bdf1245b0b",
   "metadata": {},
   "outputs": [
    {
     "data": {
      "text/plain": [
       "1"
      ]
     },
     "execution_count": 36,
     "metadata": {},
     "output_type": "execute_result"
    }
   ],
   "source": [
    "data.count(sub)"
   ]
  },
  {
   "cell_type": "raw",
   "id": "7f8c78fe-b0bd-4267-a9d6-d2d5c7ab2e4e",
   "metadata": {},
   "source": [
    "#Python String Method"
   ]
  },
  {
   "cell_type": "code",
   "execution_count": 49,
   "id": "8257cbb4-83d7-4d85-8e1e-fc83c33bcb4d",
   "metadata": {},
   "outputs": [],
   "source": [
    "data = '10 Days of python'"
   ]
  },
  {
   "cell_type": "code",
   "execution_count": 50,
   "id": "f11ad400-94d2-44b7-b065-1c76b977bdb7",
   "metadata": {},
   "outputs": [
    {
     "data": {
      "text/plain": [
       "8"
      ]
     },
     "execution_count": 50,
     "metadata": {},
     "output_type": "execute_result"
    }
   ],
   "source": [
    "data.find('of') #find value from index"
   ]
  },
  {
   "cell_type": "code",
   "execution_count": 39,
   "id": "0b1dad32-4b46-482e-a93e-89b8a27d7311",
   "metadata": {},
   "outputs": [
    {
     "data": {
      "text/plain": [
       "9"
      ]
     },
     "execution_count": 39,
     "metadata": {},
     "output_type": "execute_result"
    }
   ],
   "source": [
    "data.find('f')"
   ]
  },
  {
   "cell_type": "code",
   "execution_count": 43,
   "id": "2c8eb638-bea9-43e9-b529-2a0aa9ab2a32",
   "metadata": {},
   "outputs": [
    {
     "data": {
      "text/plain": [
       "12"
      ]
     },
     "execution_count": 43,
     "metadata": {},
     "output_type": "execute_result"
    }
   ],
   "source": [
    "data.find('y',6,13)"
   ]
  },
  {
   "cell_type": "code",
   "execution_count": 44,
   "id": "bd9bcdb3-47c9-4434-9b75-9b8faac3cfe4",
   "metadata": {},
   "outputs": [
    {
     "data": {
      "text/plain": [
       "5"
      ]
     },
     "execution_count": 44,
     "metadata": {},
     "output_type": "execute_result"
    }
   ],
   "source": [
    "data.index('y')"
   ]
  },
  {
   "cell_type": "code",
   "execution_count": 45,
   "id": "dd6fb320-0c27-412b-a91a-7ae768d00594",
   "metadata": {},
   "outputs": [
    {
     "data": {
      "text/plain": [
       "12"
      ]
     },
     "execution_count": 45,
     "metadata": {},
     "output_type": "execute_result"
    }
   ],
   "source": [
    "data.index('y',6,13)"
   ]
  },
  {
   "cell_type": "code",
   "execution_count": 46,
   "id": "7070ad15-eddd-402e-802a-c14ae1d4f051",
   "metadata": {},
   "outputs": [
    {
     "ename": "ValueError",
     "evalue": "substring not found",
     "output_type": "error",
     "traceback": [
      "\u001b[1;31m---------------------------------------------------------------------------\u001b[0m",
      "\u001b[1;31mValueError\u001b[0m                                Traceback (most recent call last)",
      "Cell \u001b[1;32mIn[46], line 1\u001b[0m\n\u001b[1;32m----> 1\u001b[0m data\u001b[38;5;241m.\u001b[39mindex(\u001b[38;5;124m'\u001b[39m\u001b[38;5;124mai\u001b[39m\u001b[38;5;124m'\u001b[39m)\n",
      "\u001b[1;31mValueError\u001b[0m: substring not found"
     ]
    }
   ],
   "source": [
    "data.index('ai')"
   ]
  },
  {
   "cell_type": "code",
   "execution_count": 51,
   "id": "e9028cc3-7daf-4bcc-9404-dc8fb81f1375",
   "metadata": {},
   "outputs": [
    {
     "data": {
      "text/plain": [
       "'10 days of python'"
      ]
     },
     "execution_count": 51,
     "metadata": {},
     "output_type": "execute_result"
    }
   ],
   "source": [
    "data.lower()"
   ]
  },
  {
   "cell_type": "code",
   "execution_count": 52,
   "id": "f4316b60-94ea-493d-9d32-2ec2b1ab3ab2",
   "metadata": {},
   "outputs": [
    {
     "data": {
      "text/plain": [
       "'10 DAYS OF PYTHON'"
      ]
     },
     "execution_count": 52,
     "metadata": {},
     "output_type": "execute_result"
    }
   ],
   "source": [
    "data.upper()"
   ]
  },
  {
   "cell_type": "code",
   "execution_count": 53,
   "id": "afc7c07c-2e25-4c73-9fbe-92da2b91ab5a",
   "metadata": {},
   "outputs": [
    {
     "data": {
      "text/plain": [
       "'10 days of python'"
      ]
     },
     "execution_count": 53,
     "metadata": {},
     "output_type": "execute_result"
    }
   ],
   "source": [
    "data.casefold() #lower"
   ]
  },
  {
   "cell_type": "code",
   "execution_count": 54,
   "id": "4e266d07-4cb0-4558-b0dc-5023ecd2da80",
   "metadata": {},
   "outputs": [
    {
     "data": {
      "text/plain": [
       "'10 days of python'"
      ]
     },
     "execution_count": 54,
     "metadata": {},
     "output_type": "execute_result"
    }
   ],
   "source": [
    "data.capitalize()"
   ]
  },
  {
   "cell_type": "code",
   "execution_count": 55,
   "id": "1e04613e-7954-46d2-90d1-4e063621aee0",
   "metadata": {},
   "outputs": [],
   "source": [
    "x = 'data SCIENCE is Fun'"
   ]
  },
  {
   "cell_type": "code",
   "execution_count": 56,
   "id": "0ed396cf-3a16-4d50-98cf-59cd742c7b0d",
   "metadata": {},
   "outputs": [
    {
     "data": {
      "text/plain": [
       "'Data science is fun'"
      ]
     },
     "execution_count": 56,
     "metadata": {},
     "output_type": "execute_result"
    }
   ],
   "source": [
    "x.capitalize()"
   ]
  },
  {
   "cell_type": "code",
   "execution_count": 57,
   "id": "1ee6b0c9-c5b2-4e94-b08b-397b55442980",
   "metadata": {},
   "outputs": [
    {
     "data": {
      "text/plain": [
       "'DATA science IS fUN'"
      ]
     },
     "execution_count": 57,
     "metadata": {},
     "output_type": "execute_result"
    }
   ],
   "source": [
    "x.swapcase()"
   ]
  },
  {
   "cell_type": "code",
   "execution_count": 58,
   "id": "85e57e18-843c-40ff-b76e-d830e862f2f6",
   "metadata": {},
   "outputs": [
    {
     "data": {
      "text/plain": [
       "'Data Science Is Fun'"
      ]
     },
     "execution_count": 58,
     "metadata": {},
     "output_type": "execute_result"
    }
   ],
   "source": [
    "x.title()"
   ]
  },
  {
   "cell_type": "code",
   "execution_count": 59,
   "id": "db647a17-6cad-4c33-9335-e8122ee44536",
   "metadata": {},
   "outputs": [
    {
     "data": {
      "text/plain": [
       "False"
      ]
     },
     "execution_count": 59,
     "metadata": {},
     "output_type": "execute_result"
    }
   ],
   "source": [
    "x.islower()"
   ]
  },
  {
   "cell_type": "code",
   "execution_count": 60,
   "id": "b45f7659-c817-41e2-8a89-8fef7b9188b6",
   "metadata": {},
   "outputs": [
    {
     "data": {
      "text/plain": [
       "False"
      ]
     },
     "execution_count": 60,
     "metadata": {},
     "output_type": "execute_result"
    }
   ],
   "source": [
    "x.isupper()"
   ]
  },
  {
   "cell_type": "code",
   "execution_count": 61,
   "id": "99178892-e55f-427c-96f8-e09bf75c81d3",
   "metadata": {},
   "outputs": [
    {
     "data": {
      "text/plain": [
       "False"
      ]
     },
     "execution_count": 61,
     "metadata": {},
     "output_type": "execute_result"
    }
   ],
   "source": [
    "x.isdigit()"
   ]
  },
  {
   "cell_type": "code",
   "execution_count": 62,
   "id": "d078457f-0ed5-471a-8b09-cb009c81eca5",
   "metadata": {},
   "outputs": [
    {
     "data": {
      "text/plain": [
       "b'data SCIENCE is Fun'"
      ]
     },
     "execution_count": 62,
     "metadata": {},
     "output_type": "execute_result"
    }
   ],
   "source": [
    "x.encode()"
   ]
  },
  {
   "cell_type": "code",
   "execution_count": 63,
   "id": "5518174c-8b9a-4358-98be-e5079fa23ad5",
   "metadata": {},
   "outputs": [
    {
     "data": {
      "text/plain": [
       "bytes"
      ]
     },
     "execution_count": 63,
     "metadata": {},
     "output_type": "execute_result"
    }
   ],
   "source": [
    "type(x.encode())"
   ]
  },
  {
   "cell_type": "code",
   "execution_count": 64,
   "id": "1174837a-8661-46ff-a26f-9020a71a54a1",
   "metadata": {},
   "outputs": [
    {
     "data": {
      "text/plain": [
       "['data', 'SCIENCE', 'is', 'Fun']"
      ]
     },
     "execution_count": 64,
     "metadata": {},
     "output_type": "execute_result"
    }
   ],
   "source": [
    "x.split()"
   ]
  },
  {
   "cell_type": "code",
   "execution_count": 65,
   "id": "76ebf6f8-3114-42d3-b204-fa069c149e71",
   "metadata": {},
   "outputs": [
    {
     "data": {
      "text/plain": [
       "'data'"
      ]
     },
     "execution_count": 65,
     "metadata": {},
     "output_type": "execute_result"
    }
   ],
   "source": [
    "x.split()[0]"
   ]
  },
  {
   "cell_type": "code",
   "execution_count": 66,
   "id": "835648eb-d75d-4fcb-a6d1-e222822e9881",
   "metadata": {},
   "outputs": [
    {
     "data": {
      "text/plain": [
       "'SCIENCE'"
      ]
     },
     "execution_count": 66,
     "metadata": {},
     "output_type": "execute_result"
    }
   ],
   "source": [
    "x.split()[1]"
   ]
  },
  {
   "cell_type": "code",
   "execution_count": 67,
   "id": "2d6bcc0d-bd3c-4328-bd57-01c32e8e597f",
   "metadata": {},
   "outputs": [
    {
     "data": {
      "text/plain": [
       "'               data SCIENCE is Fun                '"
      ]
     },
     "execution_count": 67,
     "metadata": {},
     "output_type": "execute_result"
    }
   ],
   "source": [
    "x.center(50)"
   ]
  },
  {
   "cell_type": "code",
   "execution_count": 68,
   "id": "cd795ee9-fcd2-4699-823c-94446b73390f",
   "metadata": {},
   "outputs": [
    {
     "data": {
      "text/plain": [
       "'AI SCIENCE is Fun'"
      ]
     },
     "execution_count": 68,
     "metadata": {},
     "output_type": "execute_result"
    }
   ],
   "source": [
    "x.replace('data', 'AI')"
   ]
  },
  {
   "cell_type": "code",
   "execution_count": 74,
   "id": "9383ddac-0eec-427e-8b86-1302a2890695",
   "metadata": {},
   "outputs": [
    {
     "name": "stdout",
     "output_type": "stream",
     "text": [
      "I have  1000 dollar\n"
     ]
    }
   ],
   "source": [
    "x = 10\n",
    "y = 100\n",
    "z = x*y\n",
    "\n",
    "print('I have ',z,'dollar')"
   ]
  },
  {
   "cell_type": "code",
   "execution_count": 75,
   "id": "0770f825-1257-4217-9ffe-324a9b498f8d",
   "metadata": {},
   "outputs": [
    {
     "name": "stdout",
     "output_type": "stream",
     "text": [
      "I have 1000 dollar\n"
     ]
    }
   ],
   "source": [
    "print('I have {} dollar'.format(z))"
   ]
  },
  {
   "cell_type": "code",
   "execution_count": null,
   "id": "5880edc7-4e37-46de-ab79-40c8482398e2",
   "metadata": {},
   "outputs": [],
   "source": []
  }
 ],
 "metadata": {
  "kernelspec": {
   "display_name": "Python 3 (ipykernel)",
   "language": "python",
   "name": "python3"
  },
  "language_info": {
   "codemirror_mode": {
    "name": "ipython",
    "version": 3
   },
   "file_extension": ".py",
   "mimetype": "text/x-python",
   "name": "python",
   "nbconvert_exporter": "python",
   "pygments_lexer": "ipython3",
   "version": "3.12.4"
  }
 },
 "nbformat": 4,
 "nbformat_minor": 5
}
