{
 "cells": [
  {
   "cell_type": "code",
   "execution_count": 1,
   "id": "1fc83745-4729-4f72-8381-c5a18121b22a",
   "metadata": {},
   "outputs": [],
   "source": [
    "#sets"
   ]
  },
  {
   "cell_type": "code",
   "execution_count": 2,
   "id": "53039fd4-6019-4627-a572-70d6306e7e81",
   "metadata": {},
   "outputs": [],
   "source": [
    "set1 = {1,2,3,4,'ai', (1,7,10)}"
   ]
  },
  {
   "cell_type": "code",
   "execution_count": 3,
   "id": "769a8057-79ce-427c-8e31-cb72c9259c3f",
   "metadata": {},
   "outputs": [
    {
     "data": {
      "text/plain": [
       "{(1, 7, 10), 1, 2, 3, 4, 'ai'}"
      ]
     },
     "execution_count": 3,
     "metadata": {},
     "output_type": "execute_result"
    }
   ],
   "source": [
    "set1"
   ]
  },
  {
   "cell_type": "code",
   "execution_count": 4,
   "id": "4157c6da-6145-4eeb-93fa-ffb1f405beb4",
   "metadata": {},
   "outputs": [
    {
     "data": {
      "text/plain": [
       "set"
      ]
     },
     "execution_count": 4,
     "metadata": {},
     "output_type": "execute_result"
    }
   ],
   "source": [
    "type(set1)"
   ]
  },
  {
   "cell_type": "code",
   "execution_count": 5,
   "id": "2e27b274-9dea-489d-927c-2eef74e83dc0",
   "metadata": {},
   "outputs": [],
   "source": [
    "set2 = {}"
   ]
  },
  {
   "cell_type": "code",
   "execution_count": 6,
   "id": "ed4c78ce-d36d-4d53-82d3-d30abb7390d7",
   "metadata": {},
   "outputs": [],
   "source": [
    "li = []"
   ]
  },
  {
   "cell_type": "code",
   "execution_count": 7,
   "id": "692bfad9-28f5-40ef-ba57-7ceeaecd48a1",
   "metadata": {},
   "outputs": [
    {
     "data": {
      "text/plain": [
       "type[[]]"
      ]
     },
     "execution_count": 7,
     "metadata": {},
     "output_type": "execute_result"
    }
   ],
   "source": [
    "type[li]"
   ]
  },
  {
   "cell_type": "code",
   "execution_count": 8,
   "id": "333f9c8c-5ff8-44f3-9421-7b0dbc11ae00",
   "metadata": {},
   "outputs": [
    {
     "data": {
      "text/plain": [
       "dict"
      ]
     },
     "execution_count": 8,
     "metadata": {},
     "output_type": "execute_result"
    }
   ],
   "source": [
    "type(set2)"
   ]
  },
  {
   "cell_type": "code",
   "execution_count": 9,
   "id": "10332942-8a15-4d20-8437-970250a3e842",
   "metadata": {},
   "outputs": [],
   "source": [
    "set3 =  set()"
   ]
  },
  {
   "cell_type": "code",
   "execution_count": 10,
   "id": "77dcfff4-363d-46b1-8cac-4d2f430e7203",
   "metadata": {},
   "outputs": [
    {
     "data": {
      "text/plain": [
       "set"
      ]
     },
     "execution_count": 10,
     "metadata": {},
     "output_type": "execute_result"
    }
   ],
   "source": [
    "type(set3)"
   ]
  },
  {
   "cell_type": "code",
   "execution_count": 11,
   "id": "781c980d-c8a6-4603-b2a2-c1017d11a3d4",
   "metadata": {},
   "outputs": [
    {
     "data": {
      "text/plain": [
       "set()"
      ]
     },
     "execution_count": 11,
     "metadata": {},
     "output_type": "execute_result"
    }
   ],
   "source": [
    "set3"
   ]
  },
  {
   "cell_type": "code",
   "execution_count": 12,
   "id": "a5f11abc-73d1-44af-961c-3088598263d9",
   "metadata": {},
   "outputs": [
    {
     "data": {
      "text/plain": [
       "[]"
      ]
     },
     "execution_count": 12,
     "metadata": {},
     "output_type": "execute_result"
    }
   ],
   "source": [
    "li"
   ]
  },
  {
   "cell_type": "code",
   "execution_count": 13,
   "id": "8681baf4-02ae-483d-b20b-ae0125df834b",
   "metadata": {},
   "outputs": [
    {
     "data": {
      "text/plain": [
       "{(1, 7, 10), 1, 2, 3, 4, 'ai'}"
      ]
     },
     "execution_count": 13,
     "metadata": {},
     "output_type": "execute_result"
    }
   ],
   "source": [
    "set1"
   ]
  },
  {
   "cell_type": "code",
   "execution_count": 15,
   "id": "46a95530-a70a-44f0-b54a-923b0f9b2ef9",
   "metadata": {},
   "outputs": [
    {
     "ename": "TypeError",
     "evalue": "'set' object is not subscriptable",
     "output_type": "error",
     "traceback": [
      "\u001b[1;31m---------------------------------------------------------------------------\u001b[0m",
      "\u001b[1;31mTypeError\u001b[0m                                 Traceback (most recent call last)",
      "Cell \u001b[1;32mIn[15], line 1\u001b[0m\n\u001b[1;32m----> 1\u001b[0m set1[\u001b[38;5;241m0\u001b[39m]\n",
      "\u001b[1;31mTypeError\u001b[0m: 'set' object is not subscriptable"
     ]
    }
   ],
   "source": [
    "set1[0]"
   ]
  },
  {
   "cell_type": "code",
   "execution_count": 16,
   "id": "757e8663-0653-4d8e-82fc-3632cb75ee9b",
   "metadata": {},
   "outputs": [],
   "source": [
    "set1.add(100)"
   ]
  },
  {
   "cell_type": "code",
   "execution_count": 17,
   "id": "dc115fe2-4a1b-498e-b662-d131283e864d",
   "metadata": {},
   "outputs": [
    {
     "data": {
      "text/plain": [
       "{(1, 7, 10), 1, 100, 2, 3, 4, 'ai'}"
      ]
     },
     "execution_count": 17,
     "metadata": {},
     "output_type": "execute_result"
    }
   ],
   "source": [
    "set1"
   ]
  },
  {
   "cell_type": "code",
   "execution_count": 18,
   "id": "916f8677-4275-4ae9-9092-72bb4b4dfe05",
   "metadata": {},
   "outputs": [],
   "source": [
    "set1.update([10,20, 1000, 4000])"
   ]
  },
  {
   "cell_type": "code",
   "execution_count": 19,
   "id": "c8fbebbc-2af7-49ce-93b7-9af8536ed038",
   "metadata": {},
   "outputs": [],
   "source": [
    "set1.add(100)"
   ]
  },
  {
   "cell_type": "code",
   "execution_count": 20,
   "id": "44683c73-c46a-4130-88e6-4e4bf58f1924",
   "metadata": {},
   "outputs": [
    {
     "data": {
      "text/plain": [
       "{(1, 7, 10), 1, 10, 100, 1000, 2, 20, 3, 4, 4000, 'ai'}"
      ]
     },
     "execution_count": 20,
     "metadata": {},
     "output_type": "execute_result"
    }
   ],
   "source": [
    "set1"
   ]
  },
  {
   "cell_type": "code",
   "execution_count": 21,
   "id": "6b888cf2-c5ad-454e-973a-7d21279347be",
   "metadata": {},
   "outputs": [],
   "source": [
    "set1.remove('ai')"
   ]
  },
  {
   "cell_type": "code",
   "execution_count": 22,
   "id": "d1627187-1588-46cd-acc6-2fdb92833c61",
   "metadata": {},
   "outputs": [],
   "source": [
    "set1.remove(1)"
   ]
  },
  {
   "cell_type": "code",
   "execution_count": 23,
   "id": "514de119-c4d9-4f8c-8612-68545e1cb5ec",
   "metadata": {},
   "outputs": [
    {
     "data": {
      "text/plain": [
       "{(1, 7, 10), 10, 100, 1000, 2, 20, 3, 4, 4000}"
      ]
     },
     "execution_count": 23,
     "metadata": {},
     "output_type": "execute_result"
    }
   ],
   "source": [
    "set1"
   ]
  },
  {
   "cell_type": "code",
   "execution_count": 24,
   "id": "87dee19d-e67c-4c98-a2d3-022219b38221",
   "metadata": {},
   "outputs": [],
   "source": [
    "set1.discard(10) #non error shows"
   ]
  },
  {
   "cell_type": "code",
   "execution_count": 25,
   "id": "fb395871-bd88-4841-a93a-d98a3bfa0432",
   "metadata": {},
   "outputs": [
    {
     "data": {
      "text/plain": [
       "True"
      ]
     },
     "execution_count": 25,
     "metadata": {},
     "output_type": "execute_result"
    }
   ],
   "source": [
    "2 in set1"
   ]
  },
  {
   "cell_type": "code",
   "execution_count": 29,
   "id": "5fc84dc6-45e4-43ae-9d94-29b33ab7e7c0",
   "metadata": {},
   "outputs": [],
   "source": [
    "set1.clear()"
   ]
  },
  {
   "cell_type": "code",
   "execution_count": 30,
   "id": "b125d6d9-b720-4757-82a6-38a7d3e07bb8",
   "metadata": {},
   "outputs": [
    {
     "data": {
      "text/plain": [
       "set()"
      ]
     },
     "execution_count": 30,
     "metadata": {},
     "output_type": "execute_result"
    }
   ],
   "source": [
    "set1"
   ]
  },
  {
   "cell_type": "code",
   "execution_count": 31,
   "id": "b8e78abb-c80f-4bd9-9852-f2caf5f245bc",
   "metadata": {},
   "outputs": [],
   "source": [
    "set2 = {2,3,4,4}"
   ]
  },
  {
   "cell_type": "code",
   "execution_count": 32,
   "id": "3f1cabdf-88e5-490b-b64c-2f3f3e41fbe0",
   "metadata": {},
   "outputs": [
    {
     "data": {
      "text/plain": [
       "2"
      ]
     },
     "execution_count": 32,
     "metadata": {},
     "output_type": "execute_result"
    }
   ],
   "source": [
    "set2.pop()"
   ]
  },
  {
   "cell_type": "code",
   "execution_count": 33,
   "id": "cc7bdf0d-f12e-4281-b6b7-21a1148bc92f",
   "metadata": {},
   "outputs": [
    {
     "data": {
      "text/plain": [
       "3"
      ]
     },
     "execution_count": 33,
     "metadata": {},
     "output_type": "execute_result"
    }
   ],
   "source": [
    "set2.pop()"
   ]
  },
  {
   "cell_type": "code",
   "execution_count": 34,
   "id": "2f350fa3-0edb-4d22-96b1-927052c8f49e",
   "metadata": {},
   "outputs": [
    {
     "data": {
      "text/plain": [
       "{4}"
      ]
     },
     "execution_count": 34,
     "metadata": {},
     "output_type": "execute_result"
    }
   ],
   "source": [
    "set2"
   ]
  },
  {
   "cell_type": "code",
   "execution_count": 35,
   "id": "6aa23f79-c41d-4905-9494-1841fd77c785",
   "metadata": {},
   "outputs": [],
   "source": [
    "#Frozen Set\n",
    "s1 = {1,2,3,4,5}\n",
    "s2 = {'a', 'b'}"
   ]
  },
  {
   "cell_type": "code",
   "execution_count": 36,
   "id": "ce4abe27-831e-41da-8b8d-166e0eb39ee3",
   "metadata": {},
   "outputs": [
    {
     "data": {
      "text/plain": [
       "{1, 2, 3, 4, 5}"
      ]
     },
     "execution_count": 36,
     "metadata": {},
     "output_type": "execute_result"
    }
   ],
   "source": [
    "s1"
   ]
  },
  {
   "cell_type": "code",
   "execution_count": 37,
   "id": "84ebf46b-9277-4c27-9732-2456924814cf",
   "metadata": {},
   "outputs": [
    {
     "data": {
      "text/plain": [
       "{'a', 'b'}"
      ]
     },
     "execution_count": 37,
     "metadata": {},
     "output_type": "execute_result"
    }
   ],
   "source": [
    "s2"
   ]
  },
  {
   "cell_type": "code",
   "execution_count": 38,
   "id": "a88c2c3f-495a-4742-8ad7-ccdd3f3c07de",
   "metadata": {},
   "outputs": [
    {
     "data": {
      "text/plain": [
       "set"
      ]
     },
     "execution_count": 38,
     "metadata": {},
     "output_type": "execute_result"
    }
   ],
   "source": [
    "type(s1)"
   ]
  },
  {
   "cell_type": "code",
   "execution_count": 39,
   "id": "34ec45d8-91bb-4659-af9e-f4a7519987cf",
   "metadata": {},
   "outputs": [],
   "source": [
    "s1.add(10)"
   ]
  },
  {
   "cell_type": "code",
   "execution_count": 40,
   "id": "2ab74b81-52ac-438b-9198-33659ca1b7bb",
   "metadata": {},
   "outputs": [
    {
     "data": {
      "text/plain": [
       "{1, 2, 3, 4, 5, 10}"
      ]
     },
     "execution_count": 40,
     "metadata": {},
     "output_type": "execute_result"
    }
   ],
   "source": [
    "s1"
   ]
  },
  {
   "cell_type": "code",
   "execution_count": 41,
   "id": "c6e0ea10-3ea5-4bad-ab01-25b4ace8258e",
   "metadata": {},
   "outputs": [],
   "source": [
    "#Frozen Set()"
   ]
  },
  {
   "cell_type": "code",
   "execution_count": 42,
   "id": "ddd746bb-726b-4eb3-97e4-5344c6ac8eb9",
   "metadata": {},
   "outputs": [],
   "source": [
    "s3 = frozenset(s1)"
   ]
  },
  {
   "cell_type": "code",
   "execution_count": 43,
   "id": "9f7b5cfa-7732-4a1c-b290-ccfe45c1ddcb",
   "metadata": {},
   "outputs": [
    {
     "data": {
      "text/plain": [
       "frozenset"
      ]
     },
     "execution_count": 43,
     "metadata": {},
     "output_type": "execute_result"
    }
   ],
   "source": [
    "type(s3)"
   ]
  },
  {
   "cell_type": "code",
   "execution_count": 44,
   "id": "9b7da0c7-4542-49f3-9d4d-1b444bce41bf",
   "metadata": {},
   "outputs": [
    {
     "ename": "AttributeError",
     "evalue": "'frozenset' object has no attribute 'add'",
     "output_type": "error",
     "traceback": [
      "\u001b[1;31m---------------------------------------------------------------------------\u001b[0m",
      "\u001b[1;31mAttributeError\u001b[0m                            Traceback (most recent call last)",
      "Cell \u001b[1;32mIn[44], line 1\u001b[0m\n\u001b[1;32m----> 1\u001b[0m s3\u001b[38;5;241m.\u001b[39madd(\u001b[38;5;241m11\u001b[39m)\n",
      "\u001b[1;31mAttributeError\u001b[0m: 'frozenset' object has no attribute 'add'"
     ]
    }
   ],
   "source": [
    "s3.add(11)"
   ]
  },
  {
   "cell_type": "code",
   "execution_count": 45,
   "id": "77848dd5-1675-407c-9e55-38d9dcd2b0fc",
   "metadata": {},
   "outputs": [],
   "source": [
    "s1.remove(5)"
   ]
  },
  {
   "cell_type": "code",
   "execution_count": 46,
   "id": "e3333c93-6d4c-4d59-acfc-e85890b7bc53",
   "metadata": {},
   "outputs": [],
   "source": [
    "l1 = [1,2,3,4,15]"
   ]
  },
  {
   "cell_type": "code",
   "execution_count": 47,
   "id": "c0658bf3-4f93-4b23-b10a-636e97568756",
   "metadata": {},
   "outputs": [],
   "source": [
    "s4 = frozenset(l1)"
   ]
  },
  {
   "cell_type": "code",
   "execution_count": 48,
   "id": "b878fd9d-7b9b-4627-a2ac-f8dd1f0ed6d9",
   "metadata": {},
   "outputs": [
    {
     "data": {
      "text/plain": [
       "frozenset({1, 2, 3, 4, 15})"
      ]
     },
     "execution_count": 48,
     "metadata": {},
     "output_type": "execute_result"
    }
   ],
   "source": [
    "s4"
   ]
  },
  {
   "cell_type": "code",
   "execution_count": 49,
   "id": "b0d08b1f-a173-4828-88e6-3d3fbca85796",
   "metadata": {},
   "outputs": [
    {
     "ename": "TypeError",
     "evalue": "'frozenset' object is not subscriptable",
     "output_type": "error",
     "traceback": [
      "\u001b[1;31m---------------------------------------------------------------------------\u001b[0m",
      "\u001b[1;31mTypeError\u001b[0m                                 Traceback (most recent call last)",
      "Cell \u001b[1;32mIn[49], line 1\u001b[0m\n\u001b[1;32m----> 1\u001b[0m s4[\u001b[38;5;241m0\u001b[39m]\n",
      "\u001b[1;31mTypeError\u001b[0m: 'frozenset' object is not subscriptable"
     ]
    }
   ],
   "source": [
    "s4[0]"
   ]
  },
  {
   "cell_type": "code",
   "execution_count": 50,
   "id": "162d6aba-ecb7-44f4-ae34-65ca88d1657d",
   "metadata": {},
   "outputs": [
    {
     "data": {
      "text/plain": [
       "frozenset({1, 2, 3, 4, 5, 10})"
      ]
     },
     "execution_count": 50,
     "metadata": {},
     "output_type": "execute_result"
    }
   ],
   "source": [
    "s3"
   ]
  },
  {
   "cell_type": "code",
   "execution_count": 51,
   "id": "cbd67595-8166-4c85-abb2-d7845dc95fc1",
   "metadata": {},
   "outputs": [
    {
     "data": {
      "text/plain": [
       "frozenset({1, 2, 3, 4, 15})"
      ]
     },
     "execution_count": 51,
     "metadata": {},
     "output_type": "execute_result"
    }
   ],
   "source": [
    "s4"
   ]
  },
  {
   "cell_type": "code",
   "execution_count": 53,
   "id": "496fce4d-b83e-4a1f-a5a5-81ee40b995cb",
   "metadata": {},
   "outputs": [
    {
     "data": {
      "text/plain": [
       "frozenset({1, 2, 3, 4, 5, 10, 15})"
      ]
     },
     "execution_count": 53,
     "metadata": {},
     "output_type": "execute_result"
    }
   ],
   "source": [
    "s3.union(s4)"
   ]
  },
  {
   "cell_type": "code",
   "execution_count": 54,
   "id": "802494ed-e3a9-4cac-bf43-b37e21cf338a",
   "metadata": {},
   "outputs": [
    {
     "data": {
      "text/plain": [
       "frozenset({1, 2, 3, 4})"
      ]
     },
     "execution_count": 54,
     "metadata": {},
     "output_type": "execute_result"
    }
   ],
   "source": [
    "s3.intersection(s4)"
   ]
  },
  {
   "cell_type": "code",
   "execution_count": 55,
   "id": "dde65fb3-3e34-467a-a137-cc388bfbd362",
   "metadata": {},
   "outputs": [],
   "source": [
    "s = 'data science'"
   ]
  },
  {
   "cell_type": "code",
   "execution_count": 56,
   "id": "15d9b396-51bb-4961-9bbe-727517603c8e",
   "metadata": {},
   "outputs": [
    {
     "data": {
      "text/plain": [
       "'data science'"
      ]
     },
     "execution_count": 56,
     "metadata": {},
     "output_type": "execute_result"
    }
   ],
   "source": [
    "s"
   ]
  },
  {
   "cell_type": "code",
   "execution_count": 57,
   "id": "fdf351ce-acd0-49c4-a47a-b7e553188b93",
   "metadata": {},
   "outputs": [],
   "source": [
    "s5 = frozenset(s)"
   ]
  },
  {
   "cell_type": "code",
   "execution_count": 58,
   "id": "e1d81987-8e9a-4a05-b68c-3f8281239a20",
   "metadata": {},
   "outputs": [
    {
     "data": {
      "text/plain": [
       "frozenset({' ', 'a', 'c', 'd', 'e', 'i', 'n', 's', 't'})"
      ]
     },
     "execution_count": 58,
     "metadata": {},
     "output_type": "execute_result"
    }
   ],
   "source": [
    "s5"
   ]
  },
  {
   "cell_type": "code",
   "execution_count": 59,
   "id": "2c04e927-16dc-40cc-9adf-21692f20c1cd",
   "metadata": {},
   "outputs": [
    {
     "data": {
      "text/plain": [
       "[['n'], ['s'], [' '], ['e'], ['a'], ['t'], ['c'], ['i'], ['d']]"
      ]
     },
     "execution_count": 59,
     "metadata": {},
     "output_type": "execute_result"
    }
   ],
   "source": [
    "[list(x) for x in s5]"
   ]
  },
  {
   "cell_type": "code",
   "execution_count": 61,
   "id": "797c565f-c92c-47df-83b7-bcc979e7ba69",
   "metadata": {},
   "outputs": [
    {
     "data": {
      "text/plain": [
       "[('n',), ('s',), (' ',), ('e',), ('a',), ('t',), ('c',), ('i',), ('d',)]"
      ]
     },
     "execution_count": 61,
     "metadata": {},
     "output_type": "execute_result"
    }
   ],
   "source": [
    "[tuple(x) for x in s5]"
   ]
  },
  {
   "cell_type": "code",
   "execution_count": 62,
   "id": "4dbd4a77-ddd6-4293-9b1b-d202da009465",
   "metadata": {},
   "outputs": [
    {
     "data": {
      "text/plain": [
       "[{'n'}, {'s'}, {' '}, {'e'}, {'a'}, {'t'}, {'c'}, {'i'}, {'d'}]"
      ]
     },
     "execution_count": 62,
     "metadata": {},
     "output_type": "execute_result"
    }
   ],
   "source": [
    "[set(x) for x in s5]"
   ]
  },
  {
   "cell_type": "code",
   "execution_count": 63,
   "id": "7c50a076-8035-434c-840e-6d2ef6833f71",
   "metadata": {},
   "outputs": [],
   "source": [
    "#set methods"
   ]
  },
  {
   "cell_type": "code",
   "execution_count": 64,
   "id": "6ab27393-1658-45bc-93c4-f323712059a2",
   "metadata": {},
   "outputs": [],
   "source": [
    "s1 = {1,2,3,4}\n",
    "s2 = {1,4,'a','b'}"
   ]
  },
  {
   "cell_type": "code",
   "execution_count": 65,
   "id": "22116352-2e5b-4db2-af36-c9929bb57f2b",
   "metadata": {},
   "outputs": [
    {
     "data": {
      "text/plain": [
       "{1, 2, 3, 4}"
      ]
     },
     "execution_count": 65,
     "metadata": {},
     "output_type": "execute_result"
    }
   ],
   "source": [
    "s1"
   ]
  },
  {
   "cell_type": "code",
   "execution_count": 66,
   "id": "66d6e8c0-a164-4b51-9ac1-5057ccf22743",
   "metadata": {},
   "outputs": [
    {
     "data": {
      "text/plain": [
       "{1, 4, 'a', 'b'}"
      ]
     },
     "execution_count": 66,
     "metadata": {},
     "output_type": "execute_result"
    }
   ],
   "source": [
    "s2"
   ]
  },
  {
   "cell_type": "code",
   "execution_count": 67,
   "id": "f1f34d97-ed8a-45c3-8fe1-1c8d0fc3d496",
   "metadata": {},
   "outputs": [],
   "source": [
    "s3 = frozenset(s2)"
   ]
  },
  {
   "cell_type": "code",
   "execution_count": 68,
   "id": "61487709-d113-4c8d-a531-1a398caa2d4d",
   "metadata": {},
   "outputs": [
    {
     "data": {
      "text/plain": [
       "frozenset({1, 4, 'a', 'b'})"
      ]
     },
     "execution_count": 68,
     "metadata": {},
     "output_type": "execute_result"
    }
   ],
   "source": [
    "s3"
   ]
  },
  {
   "cell_type": "code",
   "execution_count": 71,
   "id": "4eb73d30-2143-45f7-b137-31c335265faa",
   "metadata": {},
   "outputs": [],
   "source": [
    "from IPython.display import Image"
   ]
  },
  {
   "cell_type": "code",
   "execution_count": 72,
   "id": "7387a58b-34f0-453a-9e13-cdd54cb944e9",
   "metadata": {},
   "outputs": [],
   "source": [
    "s1.add('d')"
   ]
  },
  {
   "cell_type": "code",
   "execution_count": 73,
   "id": "0cac24b3-cbd2-4e41-97f6-fa6d12ee3315",
   "metadata": {},
   "outputs": [
    {
     "data": {
      "text/plain": [
       "{1, 2, 3, 4, 'd'}"
      ]
     },
     "execution_count": 73,
     "metadata": {},
     "output_type": "execute_result"
    }
   ],
   "source": [
    "s1"
   ]
  },
  {
   "cell_type": "code",
   "execution_count": 75,
   "id": "3f2fdc69-6b10-4f65-b6b2-17665fd4b68d",
   "metadata": {},
   "outputs": [],
   "source": [
    "s2 = s1"
   ]
  },
  {
   "cell_type": "code",
   "execution_count": 76,
   "id": "121a4811-6ff7-4975-84f9-4e1f6ff8c45e",
   "metadata": {},
   "outputs": [],
   "source": [
    "s2.remove('d')"
   ]
  },
  {
   "cell_type": "code",
   "execution_count": 77,
   "id": "8074f1f8-5711-402e-aaaa-000a3562d4fa",
   "metadata": {},
   "outputs": [
    {
     "data": {
      "text/plain": [
       "{1, 2, 3, 4}"
      ]
     },
     "execution_count": 77,
     "metadata": {},
     "output_type": "execute_result"
    }
   ],
   "source": [
    "s2"
   ]
  },
  {
   "cell_type": "code",
   "execution_count": 78,
   "id": "b2b8c2de-8d97-4ff3-9a9a-3d5d70175406",
   "metadata": {},
   "outputs": [
    {
     "data": {
      "text/plain": [
       "{1, 2, 3, 4}"
      ]
     },
     "execution_count": 78,
     "metadata": {},
     "output_type": "execute_result"
    }
   ],
   "source": [
    "s1"
   ]
  },
  {
   "cell_type": "code",
   "execution_count": 79,
   "id": "7b8723cc-0d69-47db-b27a-db3c7be16ea8",
   "metadata": {},
   "outputs": [],
   "source": [
    "s4 = s1.copy()"
   ]
  },
  {
   "cell_type": "code",
   "execution_count": 80,
   "id": "f61193fc-3ec6-4e0a-9bda-c5073c58300e",
   "metadata": {},
   "outputs": [],
   "source": [
    "s4.remove(1)"
   ]
  },
  {
   "cell_type": "code",
   "execution_count": 81,
   "id": "c6e6f21d-187f-4302-85cb-a9d851f10046",
   "metadata": {},
   "outputs": [
    {
     "data": {
      "text/plain": [
       "{2, 3, 4}"
      ]
     },
     "execution_count": 81,
     "metadata": {},
     "output_type": "execute_result"
    }
   ],
   "source": [
    "s4"
   ]
  },
  {
   "cell_type": "code",
   "execution_count": 82,
   "id": "ec83433b-0058-4533-b164-cca86572ce3f",
   "metadata": {},
   "outputs": [
    {
     "data": {
      "text/plain": [
       "{1, 2, 3, 4}"
      ]
     },
     "execution_count": 82,
     "metadata": {},
     "output_type": "execute_result"
    }
   ],
   "source": [
    "s1"
   ]
  },
  {
   "cell_type": "code",
   "execution_count": 83,
   "id": "33171eef-c296-4a20-a230-407c5e406b2b",
   "metadata": {},
   "outputs": [
    {
     "data": {
      "text/plain": [
       "frozenset({1, 4, 'a', 'b'})"
      ]
     },
     "execution_count": 83,
     "metadata": {},
     "output_type": "execute_result"
    }
   ],
   "source": [
    "s3"
   ]
  },
  {
   "cell_type": "code",
   "execution_count": 84,
   "id": "9cd477de-4a72-4c39-9504-f56f18f9a60b",
   "metadata": {},
   "outputs": [
    {
     "data": {
      "text/plain": [
       "{2, 3}"
      ]
     },
     "execution_count": 84,
     "metadata": {},
     "output_type": "execute_result"
    }
   ],
   "source": [
    "s1.difference(s3)"
   ]
  },
  {
   "cell_type": "code",
   "execution_count": 86,
   "id": "66511d61-94dc-485d-8725-bb462b97b36b",
   "metadata": {},
   "outputs": [
    {
     "data": {
      "text/plain": [
       "frozenset({'a', 'b'})"
      ]
     },
     "execution_count": 86,
     "metadata": {},
     "output_type": "execute_result"
    }
   ],
   "source": [
    "s3.difference(s1)"
   ]
  },
  {
   "cell_type": "code",
   "execution_count": 88,
   "id": "0b9024b3-a77c-4c41-82cd-c299e1053ef9",
   "metadata": {},
   "outputs": [],
   "source": [
    "s4.difference_update(s1)"
   ]
  },
  {
   "cell_type": "code",
   "execution_count": 89,
   "id": "776f6492-8a64-492a-bbb4-525a8595452c",
   "metadata": {},
   "outputs": [
    {
     "data": {
      "text/plain": [
       "set()"
      ]
     },
     "execution_count": 89,
     "metadata": {},
     "output_type": "execute_result"
    }
   ],
   "source": [
    "s4"
   ]
  },
  {
   "cell_type": "code",
   "execution_count": 90,
   "id": "78b4ce84-21c9-4bc7-9c8f-7e7d173bf347",
   "metadata": {},
   "outputs": [],
   "source": [
    "s1 = {1,2,3}\n",
    "s2 = {3,4}"
   ]
  },
  {
   "cell_type": "code",
   "execution_count": 91,
   "id": "57e63c4d-3d25-4f59-b3cf-61a2a5c4c1f3",
   "metadata": {},
   "outputs": [
    {
     "data": {
      "text/plain": [
       "{1, 2}"
      ]
     },
     "execution_count": 91,
     "metadata": {},
     "output_type": "execute_result"
    }
   ],
   "source": [
    "s1.difference(s2)"
   ]
  },
  {
   "cell_type": "code",
   "execution_count": 92,
   "id": "bec40bf3-7414-473b-b278-6d0785d28e27",
   "metadata": {},
   "outputs": [
    {
     "data": {
      "text/plain": [
       "{1, 2, 3}"
      ]
     },
     "execution_count": 92,
     "metadata": {},
     "output_type": "execute_result"
    }
   ],
   "source": [
    "s1"
   ]
  },
  {
   "cell_type": "code",
   "execution_count": 93,
   "id": "cd3557c5-3c12-468e-baf4-2aa452780844",
   "metadata": {},
   "outputs": [],
   "source": [
    "s1.difference_update(s2)"
   ]
  },
  {
   "cell_type": "code",
   "execution_count": 94,
   "id": "a4da8872-9856-4c23-93cf-64272d9ae53b",
   "metadata": {},
   "outputs": [
    {
     "data": {
      "text/plain": [
       "{1, 2}"
      ]
     },
     "execution_count": 94,
     "metadata": {},
     "output_type": "execute_result"
    }
   ],
   "source": [
    "s1"
   ]
  },
  {
   "cell_type": "code",
   "execution_count": 95,
   "id": "d52e556e-9023-436b-bdf9-e9dcc945981b",
   "metadata": {},
   "outputs": [
    {
     "data": {
      "text/plain": [
       "{3, 4}"
      ]
     },
     "execution_count": 95,
     "metadata": {},
     "output_type": "execute_result"
    }
   ],
   "source": [
    "s2"
   ]
  },
  {
   "cell_type": "code",
   "execution_count": 96,
   "id": "743c6f32-2c9e-429f-aedc-90fdeb545dbc",
   "metadata": {},
   "outputs": [
    {
     "data": {
      "text/plain": [
       "False"
      ]
     },
     "execution_count": 96,
     "metadata": {},
     "output_type": "execute_result"
    }
   ],
   "source": [
    "s1.issubset(s2)"
   ]
  },
  {
   "cell_type": "code",
   "execution_count": 97,
   "id": "ced03dad-0d72-4412-97f7-ae67c6d949b1",
   "metadata": {},
   "outputs": [
    {
     "data": {
      "text/plain": [
       "True"
      ]
     },
     "execution_count": 97,
     "metadata": {},
     "output_type": "execute_result"
    }
   ],
   "source": [
    "{3}.issubset(s2)"
   ]
  },
  {
   "cell_type": "code",
   "execution_count": 98,
   "id": "df8247b9-3916-41e1-9c31-7cce722b411f",
   "metadata": {},
   "outputs": [
    {
     "data": {
      "text/plain": [
       "True"
      ]
     },
     "execution_count": 98,
     "metadata": {},
     "output_type": "execute_result"
    }
   ],
   "source": [
    "s2.issuperset({4})"
   ]
  },
  {
   "cell_type": "code",
   "execution_count": 100,
   "id": "7bd504fe-1bf1-4dd1-9e92-599cf4093a79",
   "metadata": {},
   "outputs": [],
   "source": [
    "s1 = {7,8,1,2}\n",
    "s2 = {1,2,4,5}"
   ]
  },
  {
   "cell_type": "code",
   "execution_count": 102,
   "id": "0c027841-1ef4-4eb2-846e-c6cec04e58e2",
   "metadata": {},
   "outputs": [
    {
     "data": {
      "text/plain": [
       "{4, 5, 7, 8}"
      ]
     },
     "execution_count": 102,
     "metadata": {},
     "output_type": "execute_result"
    }
   ],
   "source": [
    "s1.symmetric_difference(s2)"
   ]
  },
  {
   "cell_type": "code",
   "execution_count": null,
   "id": "032dff10-ec59-4a26-8f3d-ad0422a9c0b8",
   "metadata": {},
   "outputs": [],
   "source": []
  }
 ],
 "metadata": {
  "kernelspec": {
   "display_name": "Python 3 (ipykernel)",
   "language": "python",
   "name": "python3"
  },
  "language_info": {
   "codemirror_mode": {
    "name": "ipython",
    "version": 3
   },
   "file_extension": ".py",
   "mimetype": "text/x-python",
   "name": "python",
   "nbconvert_exporter": "python",
   "pygments_lexer": "ipython3",
   "version": "3.12.4"
  }
 },
 "nbformat": 4,
 "nbformat_minor": 5
}
