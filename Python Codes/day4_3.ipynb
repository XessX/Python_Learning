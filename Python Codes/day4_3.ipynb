{
 "cells": [
  {
   "cell_type": "code",
   "execution_count": 3,
   "id": "e2fd29cf-9dbd-4c9a-9a0f-b4468a03c97e",
   "metadata": {},
   "outputs": [
    {
     "ename": "FileNotFoundError",
     "evalue": "[WinError 2] The system cannot find the file specified: 'assignement1.png'",
     "output_type": "error",
     "traceback": [
      "\u001b[1;31m---------------------------------------------------------------------------\u001b[0m",
      "\u001b[1;31mFileNotFoundError\u001b[0m                         Traceback (most recent call last)",
      "Cell \u001b[1;32mIn[3], line 5\u001b[0m\n\u001b[0;32m      1\u001b[0m \u001b[38;5;28;01mimport\u001b[39;00m \u001b[38;5;21;01mzipfile\u001b[39;00m \u001b[38;5;28;01mas\u001b[39;00m \u001b[38;5;21;01mzp\u001b[39;00m\n\u001b[0;32m      3\u001b[0m zipp \u001b[38;5;241m=\u001b[39m zp\u001b[38;5;241m.\u001b[39mZipFile(\u001b[38;5;124m'\u001b[39m\u001b[38;5;124mZipped Rename.zip\u001b[39m\u001b[38;5;124m'\u001b[39m, \u001b[38;5;124m'\u001b[39m\u001b[38;5;124mw\u001b[39m\u001b[38;5;124m'\u001b[39m)\n\u001b[1;32m----> 5\u001b[0m zipp\u001b[38;5;241m.\u001b[39mwrite(\u001b[38;5;124m'\u001b[39m\u001b[38;5;124massignement1.png\u001b[39m\u001b[38;5;124m'\u001b[39m)\n\u001b[0;32m      6\u001b[0m zipp\u001b[38;5;241m.\u001b[39mwrite(\u001b[38;5;124m'\u001b[39m\u001b[38;5;124mdsa.jpg\u001b[39m\u001b[38;5;124m'\u001b[39m)\n\u001b[0;32m      7\u001b[0m zipp\u001b[38;5;241m.\u001b[39mwrite(\u001b[38;5;124m'\u001b[39m\u001b[38;5;124mLOR Visa.docx\u001b[39m\u001b[38;5;124m'\u001b[39m)\n",
      "File \u001b[1;32mC:\\ProgramData\\anaconda3\\Lib\\zipfile\\__init__.py:1841\u001b[0m, in \u001b[0;36mZipFile.write\u001b[1;34m(self, filename, arcname, compress_type, compresslevel)\u001b[0m\n\u001b[0;32m   1836\u001b[0m \u001b[38;5;28;01mif\u001b[39;00m \u001b[38;5;28mself\u001b[39m\u001b[38;5;241m.\u001b[39m_writing:\n\u001b[0;32m   1837\u001b[0m     \u001b[38;5;28;01mraise\u001b[39;00m \u001b[38;5;167;01mValueError\u001b[39;00m(\n\u001b[0;32m   1838\u001b[0m         \u001b[38;5;124m\"\u001b[39m\u001b[38;5;124mCan\u001b[39m\u001b[38;5;124m'\u001b[39m\u001b[38;5;124mt write to ZIP archive while an open writing handle exists\u001b[39m\u001b[38;5;124m\"\u001b[39m\n\u001b[0;32m   1839\u001b[0m     )\n\u001b[1;32m-> 1841\u001b[0m zinfo \u001b[38;5;241m=\u001b[39m ZipInfo\u001b[38;5;241m.\u001b[39mfrom_file(filename, arcname,\n\u001b[0;32m   1842\u001b[0m                           strict_timestamps\u001b[38;5;241m=\u001b[39m\u001b[38;5;28mself\u001b[39m\u001b[38;5;241m.\u001b[39m_strict_timestamps)\n\u001b[0;32m   1844\u001b[0m \u001b[38;5;28;01mif\u001b[39;00m zinfo\u001b[38;5;241m.\u001b[39mis_dir():\n\u001b[0;32m   1845\u001b[0m     zinfo\u001b[38;5;241m.\u001b[39mcompress_size \u001b[38;5;241m=\u001b[39m \u001b[38;5;241m0\u001b[39m\n",
      "File \u001b[1;32mC:\\ProgramData\\anaconda3\\Lib\\zipfile\\__init__.py:557\u001b[0m, in \u001b[0;36mZipInfo.from_file\u001b[1;34m(cls, filename, arcname, strict_timestamps)\u001b[0m\n\u001b[0;32m    555\u001b[0m \u001b[38;5;28;01mif\u001b[39;00m \u001b[38;5;28misinstance\u001b[39m(filename, os\u001b[38;5;241m.\u001b[39mPathLike):\n\u001b[0;32m    556\u001b[0m     filename \u001b[38;5;241m=\u001b[39m os\u001b[38;5;241m.\u001b[39mfspath(filename)\n\u001b[1;32m--> 557\u001b[0m st \u001b[38;5;241m=\u001b[39m os\u001b[38;5;241m.\u001b[39mstat(filename)\n\u001b[0;32m    558\u001b[0m isdir \u001b[38;5;241m=\u001b[39m stat\u001b[38;5;241m.\u001b[39mS_ISDIR(st\u001b[38;5;241m.\u001b[39mst_mode)\n\u001b[0;32m    559\u001b[0m mtime \u001b[38;5;241m=\u001b[39m time\u001b[38;5;241m.\u001b[39mlocaltime(st\u001b[38;5;241m.\u001b[39mst_mtime)\n",
      "\u001b[1;31mFileNotFoundError\u001b[0m: [WinError 2] The system cannot find the file specified: 'assignement1.png'"
     ]
    }
   ],
   "source": [
    "import zipfile as zp\n",
    "\n",
    "zipp = zp.ZipFile('Zipped.zip', 'w')\n",
    "\n",
    "zipp.write('assignement1.png')\n",
    "zipp.write('dsa.jpg')\n",
    "zipp.write('LOR Visa.docx')"
   ]
  },
  {
   "cell_type": "code",
   "execution_count": 4,
   "id": "21d07357-1a5b-445f-aa76-2e1a2dd973e2",
   "metadata": {},
   "outputs": [
    {
     "ename": "FileNotFoundError",
     "evalue": "[Errno 2] No such file or directory: 'Zipped.zip'",
     "output_type": "error",
     "traceback": [
      "\u001b[1;31m---------------------------------------------------------------------------\u001b[0m",
      "\u001b[1;31mFileNotFoundError\u001b[0m                         Traceback (most recent call last)",
      "Cell \u001b[1;32mIn[4], line 2\u001b[0m\n\u001b[0;32m      1\u001b[0m \u001b[38;5;66;03m#unzip\u001b[39;00m\n\u001b[1;32m----> 2\u001b[0m \u001b[38;5;28;01mwith\u001b[39;00m zp\u001b[38;5;241m.\u001b[39mZipFile(\u001b[38;5;124m'\u001b[39m\u001b[38;5;124mZipped.zip\u001b[39m\u001b[38;5;124m'\u001b[39m,\u001b[38;5;124m'\u001b[39m\u001b[38;5;124mr\u001b[39m\u001b[38;5;124m'\u001b[39m) \u001b[38;5;28;01mas\u001b[39;00m file:\n\u001b[0;32m      3\u001b[0m     file\u001b[38;5;241m.\u001b[39mextractall(\u001b[38;5;124m'\u001b[39m\u001b[38;5;124mTEMP Unzip\u001b[39m\u001b[38;5;124m'\u001b[39m)\n",
      "File \u001b[1;32mC:\\ProgramData\\anaconda3\\Lib\\zipfile\\__init__.py:1331\u001b[0m, in \u001b[0;36mZipFile.__init__\u001b[1;34m(self, file, mode, compression, allowZip64, compresslevel, strict_timestamps, metadata_encoding)\u001b[0m\n\u001b[0;32m   1329\u001b[0m \u001b[38;5;28;01mwhile\u001b[39;00m \u001b[38;5;28;01mTrue\u001b[39;00m:\n\u001b[0;32m   1330\u001b[0m     \u001b[38;5;28;01mtry\u001b[39;00m:\n\u001b[1;32m-> 1331\u001b[0m         \u001b[38;5;28mself\u001b[39m\u001b[38;5;241m.\u001b[39mfp \u001b[38;5;241m=\u001b[39m io\u001b[38;5;241m.\u001b[39mopen(file, filemode)\n\u001b[0;32m   1332\u001b[0m     \u001b[38;5;28;01mexcept\u001b[39;00m \u001b[38;5;167;01mOSError\u001b[39;00m:\n\u001b[0;32m   1333\u001b[0m         \u001b[38;5;28;01mif\u001b[39;00m filemode \u001b[38;5;129;01min\u001b[39;00m modeDict:\n",
      "\u001b[1;31mFileNotFoundError\u001b[0m: [Errno 2] No such file or directory: 'Zipped.zip'"
     ]
    }
   ],
   "source": [
    "#unzip\n",
    "with zp.ZipFile('Zipped.zip','r') as file:\n",
    "    file.extractall('TEMP Unzip')"
   ]
  },
  {
   "cell_type": "code",
   "execution_count": 5,
   "id": "8f7cc02e-e90c-4ec6-8a32-f26e9c9845e5",
   "metadata": {},
   "outputs": [
    {
     "ename": "FileNotFoundError",
     "evalue": "[Errno 2] No such file or directory: 'text1.txt'",
     "output_type": "error",
     "traceback": [
      "\u001b[1;31m---------------------------------------------------------------------------\u001b[0m",
      "\u001b[1;31mFileNotFoundError\u001b[0m                         Traceback (most recent call last)",
      "Cell \u001b[1;32mIn[5], line 4\u001b[0m\n\u001b[0;32m      1\u001b[0m search_word \u001b[38;5;241m=\u001b[39m \u001b[38;5;124m'\u001b[39m\u001b[38;5;124mBarcelona\u001b[39m\u001b[38;5;124m'\u001b[39m\n\u001b[0;32m      2\u001b[0m replace_word \u001b[38;5;241m=\u001b[39m \u001b[38;5;124m'\u001b[39m\u001b[38;5;124mbayern Munich\u001b[39m\u001b[38;5;124m'\u001b[39m\n\u001b[1;32m----> 4\u001b[0m \u001b[38;5;28;01mwith\u001b[39;00m \u001b[38;5;28mopen\u001b[39m(\u001b[38;5;124mr\u001b[39m\u001b[38;5;124m'\u001b[39m\u001b[38;5;124mtext1.txt\u001b[39m\u001b[38;5;124m'\u001b[39m, \u001b[38;5;124m'\u001b[39m\u001b[38;5;124mr\u001b[39m\u001b[38;5;124m'\u001b[39m) \u001b[38;5;28;01mas\u001b[39;00m file:\n\u001b[0;32m      5\u001b[0m     data \u001b[38;5;241m=\u001b[39m file\u001b[38;5;241m.\u001b[39mread()\n\u001b[0;32m      6\u001b[0m     data \u001b[38;5;241m=\u001b[39m data\u001b[38;5;241m.\u001b[39mreplace(search_word, replace_word)\n",
      "File \u001b[1;32mC:\\ProgramData\\anaconda3\\Lib\\site-packages\\IPython\\core\\interactiveshell.py:324\u001b[0m, in \u001b[0;36m_modified_open\u001b[1;34m(file, *args, **kwargs)\u001b[0m\n\u001b[0;32m    317\u001b[0m \u001b[38;5;28;01mif\u001b[39;00m file \u001b[38;5;129;01min\u001b[39;00m {\u001b[38;5;241m0\u001b[39m, \u001b[38;5;241m1\u001b[39m, \u001b[38;5;241m2\u001b[39m}:\n\u001b[0;32m    318\u001b[0m     \u001b[38;5;28;01mraise\u001b[39;00m \u001b[38;5;167;01mValueError\u001b[39;00m(\n\u001b[0;32m    319\u001b[0m         \u001b[38;5;124mf\u001b[39m\u001b[38;5;124m\"\u001b[39m\u001b[38;5;124mIPython won\u001b[39m\u001b[38;5;124m'\u001b[39m\u001b[38;5;124mt let you open fd=\u001b[39m\u001b[38;5;132;01m{\u001b[39;00mfile\u001b[38;5;132;01m}\u001b[39;00m\u001b[38;5;124m by default \u001b[39m\u001b[38;5;124m\"\u001b[39m\n\u001b[0;32m    320\u001b[0m         \u001b[38;5;124m\"\u001b[39m\u001b[38;5;124mas it is likely to crash IPython. If you know what you are doing, \u001b[39m\u001b[38;5;124m\"\u001b[39m\n\u001b[0;32m    321\u001b[0m         \u001b[38;5;124m\"\u001b[39m\u001b[38;5;124myou can use builtins\u001b[39m\u001b[38;5;124m'\u001b[39m\u001b[38;5;124m open.\u001b[39m\u001b[38;5;124m\"\u001b[39m\n\u001b[0;32m    322\u001b[0m     )\n\u001b[1;32m--> 324\u001b[0m \u001b[38;5;28;01mreturn\u001b[39;00m io_open(file, \u001b[38;5;241m*\u001b[39margs, \u001b[38;5;241m*\u001b[39m\u001b[38;5;241m*\u001b[39mkwargs)\n",
      "\u001b[1;31mFileNotFoundError\u001b[0m: [Errno 2] No such file or directory: 'text1.txt'"
     ]
    }
   ],
   "source": [
    "#search and replace\n",
    "search_word = 'Barcelona'\n",
    "replace_word = 'bayern Munich'\n",
    "\n",
    "with open(r'text1.txt', 'r') as file:\n",
    "    data = file.read()\n",
    "    data = data.replace(search_word, replace_word)"
   ]
  },
  {
   "cell_type": "code",
   "execution_count": 6,
   "id": "ae101731-aff2-4fb0-ae89-0275f0b367b5",
   "metadata": {},
   "outputs": [
    {
     "ename": "NameError",
     "evalue": "name 'data' is not defined",
     "output_type": "error",
     "traceback": [
      "\u001b[1;31m---------------------------------------------------------------------------\u001b[0m",
      "\u001b[1;31mNameError\u001b[0m                                 Traceback (most recent call last)",
      "Cell \u001b[1;32mIn[6], line 2\u001b[0m\n\u001b[0;32m      1\u001b[0m \u001b[38;5;28;01mwith\u001b[39;00m \u001b[38;5;28mopen\u001b[39m(\u001b[38;5;124mr\u001b[39m\u001b[38;5;124m'\u001b[39m\u001b[38;5;124mtext.txt\u001b[39m\u001b[38;5;124m'\u001b[39m,\u001b[38;5;124m'\u001b[39m\u001b[38;5;124mw\u001b[39m\u001b[38;5;124m'\u001b[39m) \u001b[38;5;28;01mas\u001b[39;00m file:\n\u001b[1;32m----> 2\u001b[0m     file\u001b[38;5;241m.\u001b[39mwrite(data)\n",
      "\u001b[1;31mNameError\u001b[0m: name 'data' is not defined"
     ]
    }
   ],
   "source": [
    "with open(r'text.txt','w') as file:\n",
    "    file.write(data)"
   ]
  },
  {
   "cell_type": "code",
   "execution_count": 7,
   "id": "3ef62b5f-c010-4458-bfd6-fc9993314654",
   "metadata": {},
   "outputs": [],
   "source": [
    "text = 'You have got to be selected by a Bayern Munich team'"
   ]
  },
  {
   "cell_type": "code",
   "execution_count": 8,
   "id": "c4a50916-c041-4ece-a658-62463833a352",
   "metadata": {},
   "outputs": [],
   "source": [
    "import re"
   ]
  },
  {
   "cell_type": "code",
   "execution_count": 9,
   "id": "02951be9-dc96-48f6-8abb-e694c13c7518",
   "metadata": {},
   "outputs": [
    {
     "data": {
      "text/plain": [
       "'You have got to be selected by a Bayern Munich team'"
      ]
     },
     "execution_count": 9,
     "metadata": {},
     "output_type": "execute_result"
    }
   ],
   "source": [
    "re.sub(replace_word, search_word, text)"
   ]
  },
  {
   "cell_type": "code",
   "execution_count": 10,
   "id": "12789e7e-5222-47ce-b0e0-6e44863ad54d",
   "metadata": {},
   "outputs": [],
   "source": [
    "ids = (1, 2, 3)\n",
    "name = ('Jubair','Nazir','Red')"
   ]
  },
  {
   "cell_type": "code",
   "execution_count": 11,
   "id": "6b1975c2-fde7-4e1d-9567-a0adc0d1c972",
   "metadata": {},
   "outputs": [
    {
     "data": {
      "text/plain": [
       "((1, 'Jubair'), (2, 'Nazir'), (3, 'Red'))"
      ]
     },
     "execution_count": 11,
     "metadata": {},
     "output_type": "execute_result"
    }
   ],
   "source": [
    "zipped = tuple(zip(ids, name))\n",
    "zipped"
   ]
  },
  {
   "cell_type": "code",
   "execution_count": 12,
   "id": "6036550a-6c3c-4311-b2e6-eb4ff090dee8",
   "metadata": {},
   "outputs": [],
   "source": [
    "ids_new, name_new = zip(*zipped)"
   ]
  },
  {
   "cell_type": "code",
   "execution_count": 13,
   "id": "5f22ed87-ad54-4326-ba99-3c84ac39152e",
   "metadata": {},
   "outputs": [
    {
     "data": {
      "text/plain": [
       "(1, 2, 3)"
      ]
     },
     "execution_count": 13,
     "metadata": {},
     "output_type": "execute_result"
    }
   ],
   "source": [
    "ids_new"
   ]
  },
  {
   "cell_type": "code",
   "execution_count": 14,
   "id": "04147aea-adc5-4a18-b420-49573d82c177",
   "metadata": {},
   "outputs": [
    {
     "data": {
      "text/plain": [
       "('Jubair', 'Nazir', 'Red')"
      ]
     },
     "execution_count": 14,
     "metadata": {},
     "output_type": "execute_result"
    }
   ],
   "source": [
    "name_new"
   ]
  },
  {
   "cell_type": "code",
   "execution_count": 16,
   "id": "3dfb4070-d741-4070-8b89-7e8a5aa53d38",
   "metadata": {},
   "outputs": [
    {
     "data": {
      "text/plain": [
       "1"
      ]
     },
     "execution_count": 16,
     "metadata": {},
     "output_type": "execute_result"
    }
   ],
   "source": [
    "i1, n1 = zipped[0]\n",
    "i1"
   ]
  },
  {
   "cell_type": "code",
   "execution_count": 17,
   "id": "4adaf516-360b-43e6-949a-11387dd50856",
   "metadata": {},
   "outputs": [
    {
     "data": {
      "text/plain": [
       "'Jubair'"
      ]
     },
     "execution_count": 17,
     "metadata": {},
     "output_type": "execute_result"
    }
   ],
   "source": [
    "n1"
   ]
  },
  {
   "cell_type": "code",
   "execution_count": 18,
   "id": "29cdc95f-4ee3-40be-a339-178037c6cf3b",
   "metadata": {},
   "outputs": [
    {
     "name": "stdout",
     "output_type": "stream",
     "text": [
      "1 Jubair\n",
      "2 Nazir\n",
      "3 Red\n"
     ]
    }
   ],
   "source": [
    "#unpacking using loop\n",
    "for ids, names in zipped:\n",
    "    print(ids, names)"
   ]
  },
  {
   "cell_type": "code",
   "execution_count": 19,
   "id": "e9ea827e-459b-4954-8eac-d69796d81712",
   "metadata": {},
   "outputs": [
    {
     "name": "stdout",
     "output_type": "stream",
     "text": [
      "(0, (1, 'Jubair'))\n",
      "(1, (2, 'Nazir'))\n",
      "(2, (3, 'Red'))\n"
     ]
    }
   ],
   "source": [
    "#enumerating: iterate over pairs\n",
    "for data in enumerate(zipped):\n",
    "    #unpack pair: ids, name\n",
    "    ids, name = data\n",
    "    print(data)"
   ]
  },
  {
   "cell_type": "code",
   "execution_count": 22,
   "id": "48375092-d960-4032-8949-789ecd5a91e5",
   "metadata": {},
   "outputs": [
    {
     "name": "stdout",
     "output_type": "stream",
     "text": [
      "Rank : 0 , id = 1, Name: Jubair\n",
      "Rank : 1 , id = 2, Name: Nazir\n",
      "Rank : 2 , id = 3, Name: Red\n"
     ]
    }
   ],
   "source": [
    "#enumerating: iterate over pairs\n",
    "for index, pair in enumerate(zipped):\n",
    "    #unpack pair: ids, name\n",
    "    ids, name = pair\n",
    "    print('Rank : {} , id = {}, Name: {}'.format(index,ids, name))"
   ]
  },
  {
   "cell_type": "code",
   "execution_count": null,
   "id": "58ab9435-486c-41b3-be64-2216de001677",
   "metadata": {},
   "outputs": [],
   "source": []
  }
 ],
 "metadata": {
  "kernelspec": {
   "display_name": "Python 3 (ipykernel)",
   "language": "python",
   "name": "python3"
  },
  "language_info": {
   "codemirror_mode": {
    "name": "ipython",
    "version": 3
   },
   "file_extension": ".py",
   "mimetype": "text/x-python",
   "name": "python",
   "nbconvert_exporter": "python",
   "pygments_lexer": "ipython3",
   "version": "3.12.4"
  }
 },
 "nbformat": 4,
 "nbformat_minor": 5
}
