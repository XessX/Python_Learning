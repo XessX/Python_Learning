{
 "cells": [
  {
   "cell_type": "code",
   "execution_count": 3,
   "id": "b1cf147f-159f-4650-ac57-4d6f247f41bd",
   "metadata": {},
   "outputs": [
    {
     "name": "stdout",
     "output_type": "stream",
     "text": [
      "# \n",
      "# # \n",
      "# # # \n",
      "# # # # \n"
     ]
    }
   ],
   "source": [
    "rows =  4\n",
    "#outer loop\n",
    "for x in range(rows):\n",
    "    for y in range(x+1):\n",
    "        print('#', end = ' ')\n",
    "    print('')"
   ]
  },
  {
   "cell_type": "code",
   "execution_count": 8,
   "id": "2b4eb321-7fea-4a88-88f4-431d24132026",
   "metadata": {},
   "outputs": [
    {
     "name": "stdout",
     "output_type": "stream",
     "text": [
      "1 2 3 4 \n",
      "1 2 3 4 \n",
      "1 2 3 4 \n",
      "1 2 3 4 \n"
     ]
    }
   ],
   "source": [
    "num = [1, 2, 3, 4]\n",
    "\n",
    "#outer\n",
    "for ele in num:\n",
    "    #inner\n",
    "    index = 0\n",
    "    while index < len(num):\n",
    "        print(num[index], end = ' ')\n",
    "        index = index + 1\n",
    "    print('')"
   ]
  },
  {
   "cell_type": "code",
   "execution_count": 9,
   "id": "68789a72-a432-44e2-bcb1-91b6687ce419",
   "metadata": {},
   "outputs": [],
   "source": [
    "l1 = [2,5,8,10]"
   ]
  },
  {
   "cell_type": "code",
   "execution_count": 10,
   "id": "f79b9ed0-d74a-445b-8b52-2d22378dd877",
   "metadata": {},
   "outputs": [
    {
     "data": {
      "text/plain": [
       "[2, 5, 8, 10]"
      ]
     },
     "execution_count": 10,
     "metadata": {},
     "output_type": "execute_result"
    }
   ],
   "source": [
    "l1"
   ]
  },
  {
   "cell_type": "code",
   "execution_count": 11,
   "id": "acbd007e-8cbc-4d47-b0fd-65006093f3a7",
   "metadata": {},
   "outputs": [
    {
     "data": {
      "text/plain": [
       "list"
      ]
     },
     "execution_count": 11,
     "metadata": {},
     "output_type": "execute_result"
    }
   ],
   "source": [
    "type(l1)"
   ]
  },
  {
   "cell_type": "code",
   "execution_count": 12,
   "id": "aadf9aa0-6a64-44e8-aa65-de14edf6c8a4",
   "metadata": {},
   "outputs": [
    {
     "data": {
      "text/plain": [
       "2"
      ]
     },
     "execution_count": 12,
     "metadata": {},
     "output_type": "execute_result"
    }
   ],
   "source": [
    "l1[0]"
   ]
  },
  {
   "cell_type": "code",
   "execution_count": 13,
   "id": "20c4b125-e964-4433-a249-e7642363f46b",
   "metadata": {},
   "outputs": [
    {
     "data": {
      "text/plain": [
       "10"
      ]
     },
     "execution_count": 13,
     "metadata": {},
     "output_type": "execute_result"
    }
   ],
   "source": [
    "l1[-1]"
   ]
  },
  {
   "cell_type": "code",
   "execution_count": 14,
   "id": "0d503681-8148-4d36-a178-b1305e6407d5",
   "metadata": {},
   "outputs": [
    {
     "data": {
      "text/plain": [
       "[2, 5]"
      ]
     },
     "execution_count": 14,
     "metadata": {},
     "output_type": "execute_result"
    }
   ],
   "source": [
    "l1[0:2]"
   ]
  },
  {
   "cell_type": "code",
   "execution_count": 15,
   "id": "8d1f7572-ce10-44d7-8a1e-8137b010b1e9",
   "metadata": {},
   "outputs": [
    {
     "data": {
      "text/plain": [
       "[2, 5, 8]"
      ]
     },
     "execution_count": 15,
     "metadata": {},
     "output_type": "execute_result"
    }
   ],
   "source": [
    "l1[0:3]"
   ]
  },
  {
   "cell_type": "code",
   "execution_count": 16,
   "id": "11c05205-707d-43c7-bd57-78c8c0267c00",
   "metadata": {},
   "outputs": [],
   "source": [
    "l1[0] = 'ai quest'"
   ]
  },
  {
   "cell_type": "code",
   "execution_count": 17,
   "id": "50999182-4657-4d0d-9640-2463ec407145",
   "metadata": {},
   "outputs": [
    {
     "data": {
      "text/plain": [
       "['ai quest', 5, 8, 10]"
      ]
     },
     "execution_count": 17,
     "metadata": {},
     "output_type": "execute_result"
    }
   ],
   "source": [
    "l1"
   ]
  },
  {
   "cell_type": "code",
   "execution_count": 18,
   "id": "e36f77f8-d677-4fcd-bdd7-d6ea11207dd4",
   "metadata": {},
   "outputs": [],
   "source": [
    "l1.append('jubair')"
   ]
  },
  {
   "cell_type": "code",
   "execution_count": 19,
   "id": "df82e81b-d47b-46ce-9f78-1d4230b37166",
   "metadata": {},
   "outputs": [
    {
     "data": {
      "text/plain": [
       "['ai quest', 5, 8, 10, 'jubair']"
      ]
     },
     "execution_count": 19,
     "metadata": {},
     "output_type": "execute_result"
    }
   ],
   "source": [
    "l1"
   ]
  },
  {
   "cell_type": "code",
   "execution_count": 20,
   "id": "55778e7d-28e2-4e5d-8bdb-593fcf3c6ae8",
   "metadata": {},
   "outputs": [],
   "source": [
    "l1.append(5)"
   ]
  },
  {
   "cell_type": "code",
   "execution_count": 21,
   "id": "8b095c49-5db7-472c-9f58-b100a37f2703",
   "metadata": {},
   "outputs": [
    {
     "data": {
      "text/plain": [
       "['ai quest', 5, 8, 10, 'jubair', 5]"
      ]
     },
     "execution_count": 21,
     "metadata": {},
     "output_type": "execute_result"
    }
   ],
   "source": [
    "l1"
   ]
  },
  {
   "cell_type": "code",
   "execution_count": 22,
   "id": "92061888-9654-4a3c-b704-91dc7a559de2",
   "metadata": {},
   "outputs": [
    {
     "data": {
      "text/plain": [
       "120"
      ]
     },
     "execution_count": 22,
     "metadata": {},
     "output_type": "execute_result"
    }
   ],
   "source": [
    "import sys\n",
    "sys.getsizeof(l1)"
   ]
  },
  {
   "cell_type": "code",
   "execution_count": 23,
   "id": "84f33aaf-bbe5-4408-9f4b-4bdd29fdfedd",
   "metadata": {},
   "outputs": [
    {
     "data": {
      "text/plain": [
       "5"
      ]
     },
     "execution_count": 23,
     "metadata": {},
     "output_type": "execute_result"
    }
   ],
   "source": [
    "l1.pop()"
   ]
  },
  {
   "cell_type": "code",
   "execution_count": 24,
   "id": "b520fc73-2eea-4942-9e84-5ac54b417b46",
   "metadata": {},
   "outputs": [
    {
     "data": {
      "text/plain": [
       "['ai quest', 5, 8, 10, 'jubair']"
      ]
     },
     "execution_count": 24,
     "metadata": {},
     "output_type": "execute_result"
    }
   ],
   "source": [
    "l1"
   ]
  },
  {
   "cell_type": "code",
   "execution_count": 25,
   "id": "72277458-5d88-4a8d-abad-efd53432620b",
   "metadata": {},
   "outputs": [
    {
     "data": {
      "text/plain": [
       "'jubair'"
      ]
     },
     "execution_count": 25,
     "metadata": {},
     "output_type": "execute_result"
    }
   ],
   "source": [
    "l1.pop()"
   ]
  },
  {
   "cell_type": "code",
   "execution_count": 26,
   "id": "dd937244-d3ad-48f5-bc3c-eb8e00aa770b",
   "metadata": {},
   "outputs": [
    {
     "data": {
      "text/plain": [
       "['ai quest', 5, 8, 10]"
      ]
     },
     "execution_count": 26,
     "metadata": {},
     "output_type": "execute_result"
    }
   ],
   "source": [
    "l1"
   ]
  },
  {
   "cell_type": "code",
   "execution_count": 27,
   "id": "8fda4bc1-d4b0-488b-964b-4b493ea903bc",
   "metadata": {},
   "outputs": [
    {
     "data": {
      "text/plain": [
       "'ai quest'"
      ]
     },
     "execution_count": 27,
     "metadata": {},
     "output_type": "execute_result"
    }
   ],
   "source": [
    "l1.pop(0)"
   ]
  },
  {
   "cell_type": "code",
   "execution_count": 28,
   "id": "44ef8f7c-2975-467c-86be-743d47122dda",
   "metadata": {},
   "outputs": [
    {
     "data": {
      "text/plain": [
       "[5, 8, 10]"
      ]
     },
     "execution_count": 28,
     "metadata": {},
     "output_type": "execute_result"
    }
   ],
   "source": [
    "l1"
   ]
  },
  {
   "cell_type": "code",
   "execution_count": 30,
   "id": "52c08821-b73e-490c-8d80-ca8f0e4395d9",
   "metadata": {},
   "outputs": [],
   "source": [
    "#creating List Using List Constructor\n",
    "l2 = list(('ai',12,(1,2,3,4)))"
   ]
  },
  {
   "cell_type": "markdown",
   "id": "f088c647-b69f-461b-946c-dc382a029878",
   "metadata": {},
   "source": [
    "l2 "
   ]
  },
  {
   "cell_type": "code",
   "execution_count": 31,
   "id": "85971f33-17cb-4393-b6a7-bd8ccfb417b5",
   "metadata": {},
   "outputs": [
    {
     "data": {
      "text/plain": [
       "list"
      ]
     },
     "execution_count": 31,
     "metadata": {},
     "output_type": "execute_result"
    }
   ],
   "source": [
    "type(l2)"
   ]
  },
  {
   "cell_type": "code",
   "execution_count": 33,
   "id": "c07b9659-c7a5-447c-8099-ea29517d6151",
   "metadata": {},
   "outputs": [
    {
     "data": {
      "text/plain": [
       "(1, 2, 3, 4)"
      ]
     },
     "execution_count": 33,
     "metadata": {},
     "output_type": "execute_result"
    }
   ],
   "source": [
    "l2[2]"
   ]
  },
  {
   "cell_type": "code",
   "execution_count": 34,
   "id": "f795b961-974c-40a8-ad3b-3fe196d566b0",
   "metadata": {},
   "outputs": [
    {
     "data": {
      "text/plain": [
       "1"
      ]
     },
     "execution_count": 34,
     "metadata": {},
     "output_type": "execute_result"
    }
   ],
   "source": [
    "l2[2][0]"
   ]
  },
  {
   "cell_type": "code",
   "execution_count": 35,
   "id": "b9d634c1-df8d-4649-9d36-3f99feff9bc4",
   "metadata": {},
   "outputs": [
    {
     "name": "stdin",
     "output_type": "stream",
     "text": [
      "Enter your total index:  3\n",
      " 1\n"
     ]
    },
    {
     "name": "stdout",
     "output_type": "stream",
     "text": [
      "['1']\n"
     ]
    },
    {
     "name": "stdin",
     "output_type": "stream",
     "text": [
      " 2\n"
     ]
    },
    {
     "name": "stdout",
     "output_type": "stream",
     "text": [
      "['1', '2']\n"
     ]
    },
    {
     "name": "stdin",
     "output_type": "stream",
     "text": [
      " 3\n"
     ]
    },
    {
     "name": "stdout",
     "output_type": "stream",
     "text": [
      "['1', '2', '3']\n"
     ]
    }
   ],
   "source": [
    "#input list from user\n",
    "l3 = []\n",
    "n = int(input('Enter your total index: '))\n",
    "\n",
    "for i in range(n):\n",
    "    new = input()\n",
    "    l3.append(new)\n",
    "    print(l3)"
   ]
  },
  {
   "cell_type": "code",
   "execution_count": 36,
   "id": "300bf8c9-92b5-43e8-b622-614327cd9e8f",
   "metadata": {},
   "outputs": [
    {
     "data": {
      "text/plain": [
       "list"
      ]
     },
     "execution_count": 36,
     "metadata": {},
     "output_type": "execute_result"
    }
   ],
   "source": [
    "type(l3)"
   ]
  },
  {
   "cell_type": "code",
   "execution_count": 37,
   "id": "58a76d28-11f3-45f4-9c80-12c6e79e7fd0",
   "metadata": {},
   "outputs": [],
   "source": [
    "#list\n",
    "list1 = ['ai', 'dS', 'CS',150,20,True,[3,4],(1,2)]"
   ]
  },
  {
   "cell_type": "code",
   "execution_count": 38,
   "id": "e2d36fdf-a0d2-440f-b55e-67852dbc4a5d",
   "metadata": {},
   "outputs": [
    {
     "data": {
      "text/plain": [
       "['ai', 'dS', 'CS', 150, 20, True, [3, 4], (1, 2)]"
      ]
     },
     "execution_count": 38,
     "metadata": {},
     "output_type": "execute_result"
    }
   ],
   "source": [
    "list1"
   ]
  },
  {
   "cell_type": "code",
   "execution_count": 39,
   "id": "c85d1619-c1ae-4b6a-9711-a59e6c8a6f42",
   "metadata": {},
   "outputs": [
    {
     "data": {
      "text/plain": [
       "'ai'"
      ]
     },
     "execution_count": 39,
     "metadata": {},
     "output_type": "execute_result"
    }
   ],
   "source": [
    "list1[0]"
   ]
  },
  {
   "cell_type": "code",
   "execution_count": 41,
   "id": "fe978890-8698-45f0-87a5-1c0e9ff5fba1",
   "metadata": {},
   "outputs": [
    {
     "data": {
      "text/plain": [
       "(1, 2)"
      ]
     },
     "execution_count": 41,
     "metadata": {},
     "output_type": "execute_result"
    }
   ],
   "source": [
    "list1[-1]"
   ]
  },
  {
   "cell_type": "code",
   "execution_count": 42,
   "id": "e51e6796-b8a2-403e-9d8c-f43054ac28a6",
   "metadata": {},
   "outputs": [
    {
     "data": {
      "text/plain": [
       "1"
      ]
     },
     "execution_count": 42,
     "metadata": {},
     "output_type": "execute_result"
    }
   ],
   "source": [
    "list1[-1][0]"
   ]
  },
  {
   "cell_type": "code",
   "execution_count": 45,
   "id": "11bb582d-6af9-4b4c-be11-f22273549079",
   "metadata": {},
   "outputs": [
    {
     "data": {
      "text/plain": [
       "1"
      ]
     },
     "execution_count": 45,
     "metadata": {},
     "output_type": "execute_result"
    }
   ],
   "source": [
    "list1[-1][-2]"
   ]
  },
  {
   "cell_type": "code",
   "execution_count": 46,
   "id": "565cbd24-600d-4f34-9089-80e388a1beca",
   "metadata": {},
   "outputs": [],
   "source": [
    "list2 = list1"
   ]
  },
  {
   "cell_type": "code",
   "execution_count": 47,
   "id": "fb0b2857-273b-4cf5-b251-7450e9d5ed47",
   "metadata": {},
   "outputs": [
    {
     "data": {
      "text/plain": [
       "['ai', 'dS', 'CS', 150, 20, True, [3, 4], (1, 2)]"
      ]
     },
     "execution_count": 47,
     "metadata": {},
     "output_type": "execute_result"
    }
   ],
   "source": [
    "list2"
   ]
  },
  {
   "cell_type": "code",
   "execution_count": 53,
   "id": "c217b41a-c234-42ce-8f9b-b1f8a06d78f7",
   "metadata": {},
   "outputs": [
    {
     "data": {
      "text/plain": [
       "['ai', 'dS', 'CS', 150, 20, True, [3, 4], (1, 2)]"
      ]
     },
     "execution_count": 53,
     "metadata": {},
     "output_type": "execute_result"
    }
   ],
   "source": [
    "list1"
   ]
  },
  {
   "cell_type": "code",
   "execution_count": 54,
   "id": "106fba8e-c814-4b58-bd2a-d86c5b0a93a9",
   "metadata": {},
   "outputs": [],
   "source": [
    "list3 = list1.copy()"
   ]
  },
  {
   "cell_type": "code",
   "execution_count": 55,
   "id": "9e1dee75-f2ca-4c25-a476-d7389d0f32ac",
   "metadata": {},
   "outputs": [
    {
     "data": {
      "text/plain": [
       "['ai', 'dS', 'CS', 150, 20, True, [3, 4], (1, 2)]"
      ]
     },
     "execution_count": 55,
     "metadata": {},
     "output_type": "execute_result"
    }
   ],
   "source": [
    "list3"
   ]
  },
  {
   "cell_type": "code",
   "execution_count": 56,
   "id": "ddcd4a90-ca5e-415f-8ef8-36196b9fb603",
   "metadata": {},
   "outputs": [],
   "source": [
    "list1[0] = '1000'"
   ]
  },
  {
   "cell_type": "code",
   "execution_count": 57,
   "id": "0943ee70-17a0-4eb4-a798-6d4c9a11caad",
   "metadata": {},
   "outputs": [
    {
     "data": {
      "text/plain": [
       "['1000', 'dS', 'CS', 150, 20, True, [3, 4], (1, 2)]"
      ]
     },
     "execution_count": 57,
     "metadata": {},
     "output_type": "execute_result"
    }
   ],
   "source": [
    "list1"
   ]
  },
  {
   "cell_type": "code",
   "execution_count": 58,
   "id": "d6d7c764-49d3-4e88-a59b-d2ee5530fd38",
   "metadata": {},
   "outputs": [
    {
     "data": {
      "text/plain": [
       "['1000', 'dS', 'CS', 150, 20, True, [3, 4], (1, 2)]"
      ]
     },
     "execution_count": 58,
     "metadata": {},
     "output_type": "execute_result"
    }
   ],
   "source": [
    "list2"
   ]
  },
  {
   "cell_type": "code",
   "execution_count": 59,
   "id": "0ae80d75-81d9-4d11-a7c6-a0bd59d1583d",
   "metadata": {},
   "outputs": [],
   "source": [
    "list3[0] = 'data'"
   ]
  },
  {
   "cell_type": "code",
   "execution_count": 60,
   "id": "ea74909c-4557-4609-92ef-608647c09b58",
   "metadata": {},
   "outputs": [
    {
     "data": {
      "text/plain": [
       "['data', 'dS', 'CS', 150, 20, True, [3, 4], (1, 2)]"
      ]
     },
     "execution_count": 60,
     "metadata": {},
     "output_type": "execute_result"
    }
   ],
   "source": [
    "list3"
   ]
  },
  {
   "cell_type": "code",
   "execution_count": 61,
   "id": "79e049b0-56ac-4220-9b2b-5b73e78f6a63",
   "metadata": {},
   "outputs": [
    {
     "data": {
      "text/plain": [
       "['1000', 'dS', 'CS', 150, 20, True, [3, 4], (1, 2)]"
      ]
     },
     "execution_count": 61,
     "metadata": {},
     "output_type": "execute_result"
    }
   ],
   "source": [
    "list1"
   ]
  },
  {
   "cell_type": "code",
   "execution_count": 62,
   "id": "946faf83-5be8-42be-af8b-fa8c46b1c656",
   "metadata": {},
   "outputs": [],
   "source": [
    "list1.append(28)"
   ]
  },
  {
   "cell_type": "code",
   "execution_count": 64,
   "id": "e214aab9-2862-4142-9bbf-0e223d5f9b1a",
   "metadata": {},
   "outputs": [
    {
     "data": {
      "text/plain": [
       "['1000', 'dS', 'CS', 150, 20, True, [3, 4], (1, 2), 28]"
      ]
     },
     "execution_count": 64,
     "metadata": {},
     "output_type": "execute_result"
    }
   ],
   "source": [
    "list1"
   ]
  },
  {
   "cell_type": "code",
   "execution_count": 65,
   "id": "5d3963b5-ad7c-4ad3-ae94-aacc9c603a0e",
   "metadata": {},
   "outputs": [],
   "source": [
    "l1 = [10, 100.30]"
   ]
  },
  {
   "cell_type": "code",
   "execution_count": 66,
   "id": "f3f44603-1937-4894-a6b1-cb74418b1dfa",
   "metadata": {},
   "outputs": [
    {
     "data": {
      "text/plain": [
       "[10, 100.3]"
      ]
     },
     "execution_count": 66,
     "metadata": {},
     "output_type": "execute_result"
    }
   ],
   "source": [
    "l1"
   ]
  },
  {
   "cell_type": "code",
   "execution_count": 67,
   "id": "2aeeaa69-e492-4716-a9bf-71ac566c4e62",
   "metadata": {},
   "outputs": [],
   "source": [
    "list1.append(l1)"
   ]
  },
  {
   "cell_type": "code",
   "execution_count": 68,
   "id": "422ceebc-551e-4bb7-9563-d6cc020234c4",
   "metadata": {},
   "outputs": [
    {
     "data": {
      "text/plain": [
       "['1000', 'dS', 'CS', 150, 20, True, [3, 4], (1, 2), 28, [10, 100.3]]"
      ]
     },
     "execution_count": 68,
     "metadata": {},
     "output_type": "execute_result"
    }
   ],
   "source": [
    "list1"
   ]
  },
  {
   "cell_type": "code",
   "execution_count": 69,
   "id": "03c85e73-d082-4429-bc7d-77e31a12bcff",
   "metadata": {},
   "outputs": [
    {
     "data": {
      "text/plain": [
       "[10, 100.3]"
      ]
     },
     "execution_count": 69,
     "metadata": {},
     "output_type": "execute_result"
    }
   ],
   "source": [
    "list1[-1]"
   ]
  },
  {
   "cell_type": "code",
   "execution_count": 70,
   "id": "d0cb1cbe-c16d-4e18-84a4-eb8c32e0edaf",
   "metadata": {},
   "outputs": [],
   "source": [
    "list1.append({1,2,3,4})"
   ]
  },
  {
   "cell_type": "code",
   "execution_count": 71,
   "id": "0d2cd29d-3e36-4634-8aa3-fc8c0eb73448",
   "metadata": {},
   "outputs": [
    {
     "data": {
      "text/plain": [
       "['1000',\n",
       " 'dS',\n",
       " 'CS',\n",
       " 150,\n",
       " 20,\n",
       " True,\n",
       " [3, 4],\n",
       " (1, 2),\n",
       " 28,\n",
       " [10, 100.3],\n",
       " {1, 2, 3, 4}]"
      ]
     },
     "execution_count": 71,
     "metadata": {},
     "output_type": "execute_result"
    }
   ],
   "source": [
    "list1"
   ]
  },
  {
   "cell_type": "code",
   "execution_count": 72,
   "id": "0338bac9-4f93-48aa-870b-2fb20782c23f",
   "metadata": {},
   "outputs": [
    {
     "data": {
      "text/plain": [
       "{1, 2, 3, 4}"
      ]
     },
     "execution_count": 72,
     "metadata": {},
     "output_type": "execute_result"
    }
   ],
   "source": [
    "list1[-1]"
   ]
  },
  {
   "cell_type": "code",
   "execution_count": 73,
   "id": "62f01921-09af-4c79-8ff9-a718a7844e27",
   "metadata": {},
   "outputs": [],
   "source": [
    "list1.extend(l1)"
   ]
  },
  {
   "cell_type": "code",
   "execution_count": 75,
   "id": "b0bff4a4-3539-4bcc-a939-55b9d482fb37",
   "metadata": {},
   "outputs": [
    {
     "data": {
      "text/plain": [
       "['1000',\n",
       " 'dS',\n",
       " 'CS',\n",
       " 150,\n",
       " 20,\n",
       " True,\n",
       " [3, 4],\n",
       " (1, 2),\n",
       " 28,\n",
       " [10, 100.3],\n",
       " {1, 2, 3, 4},\n",
       " 10,\n",
       " 100.3]"
      ]
     },
     "execution_count": 75,
     "metadata": {},
     "output_type": "execute_result"
    }
   ],
   "source": [
    "list1"
   ]
  },
  {
   "cell_type": "code",
   "execution_count": 76,
   "id": "3438c4fa-d481-4607-bf66-7daaff213195",
   "metadata": {},
   "outputs": [
    {
     "data": {
      "text/plain": [
       "100.3"
      ]
     },
     "execution_count": 76,
     "metadata": {},
     "output_type": "execute_result"
    }
   ],
   "source": [
    "list1[-1]"
   ]
  },
  {
   "cell_type": "code",
   "execution_count": 77,
   "id": "3404af67-b7b3-42f9-be4f-5581be9b586a",
   "metadata": {},
   "outputs": [],
   "source": [
    "list1.insert(0, 'JnJ')"
   ]
  },
  {
   "cell_type": "code",
   "execution_count": 78,
   "id": "cf401d0c-1e8e-4d29-abb5-588b25a5673b",
   "metadata": {},
   "outputs": [
    {
     "data": {
      "text/plain": [
       "['JnJ',\n",
       " '1000',\n",
       " 'dS',\n",
       " 'CS',\n",
       " 150,\n",
       " 20,\n",
       " True,\n",
       " [3, 4],\n",
       " (1, 2),\n",
       " 28,\n",
       " [10, 100.3],\n",
       " {1, 2, 3, 4},\n",
       " 10,\n",
       " 100.3]"
      ]
     },
     "execution_count": 78,
     "metadata": {},
     "output_type": "execute_result"
    }
   ],
   "source": [
    "list1"
   ]
  },
  {
   "cell_type": "code",
   "execution_count": 79,
   "id": "836a1099-9406-4e54-9d7c-8df10593d7bd",
   "metadata": {},
   "outputs": [],
   "source": [
    "list1[0] = 'can'"
   ]
  },
  {
   "cell_type": "code",
   "execution_count": 80,
   "id": "da530e5b-1da4-4105-ae0b-8c7ab12e7a11",
   "metadata": {},
   "outputs": [
    {
     "data": {
      "text/plain": [
       "['can',\n",
       " '1000',\n",
       " 'dS',\n",
       " 'CS',\n",
       " 150,\n",
       " 20,\n",
       " True,\n",
       " [3, 4],\n",
       " (1, 2),\n",
       " 28,\n",
       " [10, 100.3],\n",
       " {1, 2, 3, 4},\n",
       " 10,\n",
       " 100.3]"
      ]
     },
     "execution_count": 80,
     "metadata": {},
     "output_type": "execute_result"
    }
   ],
   "source": [
    "list1"
   ]
  },
  {
   "cell_type": "code",
   "execution_count": 81,
   "id": "20f00c80-ce0d-4704-b421-15acde71b240",
   "metadata": {},
   "outputs": [
    {
     "data": {
      "text/plain": [
       "4"
      ]
     },
     "execution_count": 81,
     "metadata": {},
     "output_type": "execute_result"
    }
   ],
   "source": [
    "list1.index(150)"
   ]
  },
  {
   "cell_type": "code",
   "execution_count": 83,
   "id": "6651f16f-95f6-4f5c-9f2e-dbbfea308122",
   "metadata": {},
   "outputs": [
    {
     "data": {
      "text/plain": [
       "11"
      ]
     },
     "execution_count": 83,
     "metadata": {},
     "output_type": "execute_result"
    }
   ],
   "source": [
    "list1.index({1, 2, 3, 4})"
   ]
  },
  {
   "cell_type": "code",
   "execution_count": 84,
   "id": "7e334523-8f49-4ea0-8cb9-d39ecb545b81",
   "metadata": {},
   "outputs": [
    {
     "data": {
      "text/plain": [
       "1"
      ]
     },
     "execution_count": 84,
     "metadata": {},
     "output_type": "execute_result"
    }
   ],
   "source": [
    "list1.count({1, 2, 3, 4})"
   ]
  },
  {
   "cell_type": "code",
   "execution_count": 85,
   "id": "fa0516ae-36b6-4d95-9a0a-245ed15305c2",
   "metadata": {},
   "outputs": [
    {
     "data": {
      "text/plain": [
       "1"
      ]
     },
     "execution_count": 85,
     "metadata": {},
     "output_type": "execute_result"
    }
   ],
   "source": [
    "list1.count(150)"
   ]
  },
  {
   "cell_type": "code",
   "execution_count": 86,
   "id": "4e6cf773-dce8-43de-bb68-a75f88ae8db6",
   "metadata": {},
   "outputs": [],
   "source": [
    "ls2 = [10,2,6,7,9,100]"
   ]
  },
  {
   "cell_type": "code",
   "execution_count": 87,
   "id": "388c1e8b-c764-45cb-8097-4b86e0b17bd4",
   "metadata": {},
   "outputs": [],
   "source": [
    "ls2.sort()"
   ]
  },
  {
   "cell_type": "code",
   "execution_count": 88,
   "id": "c3c56433-26ed-450a-9c2d-d88fcad4cde0",
   "metadata": {},
   "outputs": [
    {
     "data": {
      "text/plain": [
       "[2, 6, 7, 9, 10, 100]"
      ]
     },
     "execution_count": 88,
     "metadata": {},
     "output_type": "execute_result"
    }
   ],
   "source": [
    "ls2"
   ]
  },
  {
   "cell_type": "code",
   "execution_count": 89,
   "id": "9fab43e9-2abc-4159-aaa8-3dee64c3d7f9",
   "metadata": {},
   "outputs": [],
   "source": [
    "ls2.reverse()"
   ]
  },
  {
   "cell_type": "code",
   "execution_count": 90,
   "id": "547c8e80-ede8-43bd-a377-48c60a496988",
   "metadata": {},
   "outputs": [
    {
     "data": {
      "text/plain": [
       "[100, 10, 9, 7, 6, 2]"
      ]
     },
     "execution_count": 90,
     "metadata": {},
     "output_type": "execute_result"
    }
   ],
   "source": [
    "ls2"
   ]
  },
  {
   "cell_type": "code",
   "execution_count": 91,
   "id": "2978dc41-d474-475b-8fb8-7ad4d7a2ce5f",
   "metadata": {},
   "outputs": [],
   "source": [
    "ls2.remove(100)"
   ]
  },
  {
   "cell_type": "code",
   "execution_count": 92,
   "id": "d1694e9d-b320-48c2-a8d9-5c6a9fb54e31",
   "metadata": {},
   "outputs": [
    {
     "data": {
      "text/plain": [
       "[10, 9, 7, 6, 2]"
      ]
     },
     "execution_count": 92,
     "metadata": {},
     "output_type": "execute_result"
    }
   ],
   "source": [
    "ls2"
   ]
  },
  {
   "cell_type": "code",
   "execution_count": 93,
   "id": "5679cbb8-0f29-4f56-a82b-234884169567",
   "metadata": {},
   "outputs": [
    {
     "data": {
      "text/plain": [
       "2"
      ]
     },
     "execution_count": 93,
     "metadata": {},
     "output_type": "execute_result"
    }
   ],
   "source": [
    "ls2.pop(-1)"
   ]
  },
  {
   "cell_type": "code",
   "execution_count": 94,
   "id": "65e25544-b452-433e-9838-eab65da1564c",
   "metadata": {},
   "outputs": [
    {
     "data": {
      "text/plain": [
       "[10, 9, 7, 6]"
      ]
     },
     "execution_count": 94,
     "metadata": {},
     "output_type": "execute_result"
    }
   ],
   "source": [
    "ls2"
   ]
  },
  {
   "cell_type": "code",
   "execution_count": 95,
   "id": "45097450-eb2e-4dcb-80f4-094021e2e661",
   "metadata": {},
   "outputs": [],
   "source": [
    "del ls2[0]"
   ]
  },
  {
   "cell_type": "code",
   "execution_count": 96,
   "id": "4ff53d1e-34b9-427b-b074-ee98a89cf9c3",
   "metadata": {},
   "outputs": [
    {
     "data": {
      "text/plain": [
       "[9, 7, 6]"
      ]
     },
     "execution_count": 96,
     "metadata": {},
     "output_type": "execute_result"
    }
   ],
   "source": [
    "ls2"
   ]
  },
  {
   "cell_type": "code",
   "execution_count": 97,
   "id": "60b7b7ef-aa8c-4184-9df5-7ae8d0f3732a",
   "metadata": {},
   "outputs": [],
   "source": [
    "ls2.clear()"
   ]
  },
  {
   "cell_type": "code",
   "execution_count": 98,
   "id": "db6ed3de-ec07-4240-8728-4d3f5d08c172",
   "metadata": {},
   "outputs": [
    {
     "data": {
      "text/plain": [
       "[]"
      ]
     },
     "execution_count": 98,
     "metadata": {},
     "output_type": "execute_result"
    }
   ],
   "source": [
    "ls2"
   ]
  },
  {
   "cell_type": "code",
   "execution_count": null,
   "id": "1fc22c7e-83a7-4ce7-943e-b51e70f21ecc",
   "metadata": {},
   "outputs": [],
   "source": []
  }
 ],
 "metadata": {
  "kernelspec": {
   "display_name": "Python 3 (ipykernel)",
   "language": "python",
   "name": "python3"
  },
  "language_info": {
   "codemirror_mode": {
    "name": "ipython",
    "version": 3
   },
   "file_extension": ".py",
   "mimetype": "text/x-python",
   "name": "python",
   "nbconvert_exporter": "python",
   "pygments_lexer": "ipython3",
   "version": "3.12.4"
  }
 },
 "nbformat": 4,
 "nbformat_minor": 5
}
