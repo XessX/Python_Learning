{
 "cells": [
  {
   "cell_type": "code",
   "execution_count": 1,
   "id": "d24cd2be-9bb8-4b4f-adf9-331eba45ec13",
   "metadata": {},
   "outputs": [],
   "source": [
    "name = ['jubair','nazir','red']\n",
    "uni = ['Aiub','Du','Sust']"
   ]
  },
  {
   "cell_type": "code",
   "execution_count": 3,
   "id": "0c1688ad-ab08-4d2a-abad-ed472aa92a88",
   "metadata": {},
   "outputs": [
    {
     "name": "stdout",
     "output_type": "stream",
     "text": [
      "[('jubair', 'Aiub'), ('nazir', 'Du'), ('red', 'Sust')]\n"
     ]
    }
   ],
   "source": [
    "#zip\n",
    "zipped = list(zip(name,uni))\n",
    "print(zipped)"
   ]
  },
  {
   "cell_type": "code",
   "execution_count": 4,
   "id": "67630b90-d4b3-45f7-af81-72fb211af506",
   "metadata": {},
   "outputs": [
    {
     "name": "stdout",
     "output_type": "stream",
     "text": [
      "{'jubair': 'Aiub', 'nazir': 'Du', 'red': 'Sust'}\n"
     ]
    }
   ],
   "source": [
    "zipped = dict(zip(name,uni))\n",
    "print(zipped)"
   ]
  },
  {
   "cell_type": "code",
   "execution_count": 5,
   "id": "ca9aeaa8-86fb-482c-a897-8f13322fb144",
   "metadata": {},
   "outputs": [
    {
     "data": {
      "text/plain": [
       "dict_keys(['jubair', 'nazir', 'red'])"
      ]
     },
     "execution_count": 5,
     "metadata": {},
     "output_type": "execute_result"
    }
   ],
   "source": [
    "zipped.keys()"
   ]
  },
  {
   "cell_type": "code",
   "execution_count": 6,
   "id": "363c5aaf-d448-4905-83d5-6d569703e160",
   "metadata": {},
   "outputs": [
    {
     "data": {
      "text/plain": [
       "dict_values(['Aiub', 'Du', 'Sust'])"
      ]
     },
     "execution_count": 6,
     "metadata": {},
     "output_type": "execute_result"
    }
   ],
   "source": [
    "zipped.values()"
   ]
  },
  {
   "cell_type": "code",
   "execution_count": 7,
   "id": "e2e436d7-c530-4e69-8a5c-d86f9313cc7c",
   "metadata": {},
   "outputs": [
    {
     "name": "stdout",
     "output_type": "stream",
     "text": [
      "{('jubair', 'Aiub'), ('red', 'Sust'), ('nazir', 'Du')}\n"
     ]
    }
   ],
   "source": [
    "zipped = set(zip(name,uni))\n",
    "print(zipped)"
   ]
  },
  {
   "cell_type": "code",
   "execution_count": 8,
   "id": "4b4e05cc-86d9-4397-abeb-038489b8eb9b",
   "metadata": {},
   "outputs": [
    {
     "name": "stdout",
     "output_type": "stream",
     "text": [
      "[('jubair', 'Aiub'), ('nazir', 'Du'), ('red', 'Sust')]\n"
     ]
    }
   ],
   "source": [
    "#unzip\n",
    "zipped = list(zip(name,uni))\n",
    "print(zipped)"
   ]
  },
  {
   "cell_type": "code",
   "execution_count": 9,
   "id": "cc7e9879-1b4b-442f-8425-f1c1936eb637",
   "metadata": {},
   "outputs": [],
   "source": [
    "name1, uni1 = zip(*zipped)"
   ]
  },
  {
   "cell_type": "code",
   "execution_count": 10,
   "id": "5b924ba5-9d0a-460b-a530-f1b1bc3d0ef1",
   "metadata": {},
   "outputs": [
    {
     "data": {
      "text/plain": [
       "('jubair', 'nazir', 'red')"
      ]
     },
     "execution_count": 10,
     "metadata": {},
     "output_type": "execute_result"
    }
   ],
   "source": [
    "name1"
   ]
  },
  {
   "cell_type": "code",
   "execution_count": 11,
   "id": "9d8ac4a6-07ce-4b45-a127-c34e9a49e503",
   "metadata": {},
   "outputs": [
    {
     "data": {
      "text/plain": [
       "['Aiub', 'Du', 'Sust']"
      ]
     },
     "execution_count": 11,
     "metadata": {},
     "output_type": "execute_result"
    }
   ],
   "source": [
    "uni"
   ]
  },
  {
   "cell_type": "code",
   "execution_count": null,
   "id": "7dc0b9e0-1645-4a4c-825a-dd9545aadb32",
   "metadata": {},
   "outputs": [],
   "source": []
  }
 ],
 "metadata": {
  "kernelspec": {
   "display_name": "Python 3 (ipykernel)",
   "language": "python",
   "name": "python3"
  },
  "language_info": {
   "codemirror_mode": {
    "name": "ipython",
    "version": 3
   },
   "file_extension": ".py",
   "mimetype": "text/x-python",
   "name": "python",
   "nbconvert_exporter": "python",
   "pygments_lexer": "ipython3",
   "version": "3.12.4"
  }
 },
 "nbformat": 4,
 "nbformat_minor": 5
}
